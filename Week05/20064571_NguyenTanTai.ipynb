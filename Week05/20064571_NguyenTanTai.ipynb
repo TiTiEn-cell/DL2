{
 "cells": [
  {
   "cell_type": "code",
   "execution_count": 50,
   "metadata": {},
   "outputs": [
    {
     "data": {
      "text/html": [
       "        <script type=\"text/javascript\">\n",
       "        window.PlotlyConfig = {MathJaxConfig: 'local'};\n",
       "        if (window.MathJax && window.MathJax.Hub && window.MathJax.Hub.Config) {window.MathJax.Hub.Config({SVG: {font: \"STIX-Web\"}});}\n",
       "        </script>\n",
       "        <script type=\"module\">import \"https://cdn.plot.ly/plotly-3.0.0.min\"</script>\n",
       "        "
      ]
     },
     "metadata": {},
     "output_type": "display_data"
    },
    {
     "name": "stdout",
     "output_type": "stream",
     "text": [
      "Data shape: (3669, 7)\n"
     ]
    },
    {
     "data": {
      "text/html": [
       "<div>\n",
       "<style scoped>\n",
       "    .dataframe tbody tr th:only-of-type {\n",
       "        vertical-align: middle;\n",
       "    }\n",
       "\n",
       "    .dataframe tbody tr th {\n",
       "        vertical-align: top;\n",
       "    }\n",
       "\n",
       "    .dataframe thead th {\n",
       "        text-align: right;\n",
       "    }\n",
       "</style>\n",
       "<table border=\"1\" class=\"dataframe\">\n",
       "  <thead>\n",
       "    <tr style=\"text-align: right;\">\n",
       "      <th></th>\n",
       "      <th>Date</th>\n",
       "      <th>Price</th>\n",
       "      <th>Open</th>\n",
       "      <th>High</th>\n",
       "      <th>Low</th>\n",
       "      <th>Vol.</th>\n",
       "      <th>Change %</th>\n",
       "    </tr>\n",
       "  </thead>\n",
       "  <tbody>\n",
       "    <tr>\n",
       "      <th>0</th>\n",
       "      <td>Aug 02, 2020</td>\n",
       "      <td>11,105.8</td>\n",
       "      <td>11,802.6</td>\n",
       "      <td>12,061.1</td>\n",
       "      <td>10,730.7</td>\n",
       "      <td>698.62K</td>\n",
       "      <td>-5.91%</td>\n",
       "    </tr>\n",
       "    <tr>\n",
       "      <th>1</th>\n",
       "      <td>Aug 01, 2020</td>\n",
       "      <td>11,803.1</td>\n",
       "      <td>11,333.2</td>\n",
       "      <td>11,847.7</td>\n",
       "      <td>11,226.1</td>\n",
       "      <td>611.47K</td>\n",
       "      <td>4.14%</td>\n",
       "    </tr>\n",
       "    <tr>\n",
       "      <th>2</th>\n",
       "      <td>Jul 31, 2020</td>\n",
       "      <td>11,333.4</td>\n",
       "      <td>11,096.5</td>\n",
       "      <td>11,434.8</td>\n",
       "      <td>10,964.6</td>\n",
       "      <td>530.95K</td>\n",
       "      <td>2.14%</td>\n",
       "    </tr>\n",
       "    <tr>\n",
       "      <th>3</th>\n",
       "      <td>Jul 30, 2020</td>\n",
       "      <td>11,096.2</td>\n",
       "      <td>11,105.8</td>\n",
       "      <td>11,164.4</td>\n",
       "      <td>10,861.6</td>\n",
       "      <td>501.14K</td>\n",
       "      <td>-0.09%</td>\n",
       "    </tr>\n",
       "    <tr>\n",
       "      <th>4</th>\n",
       "      <td>Jul 29, 2020</td>\n",
       "      <td>11,105.9</td>\n",
       "      <td>10,908.4</td>\n",
       "      <td>11,336.5</td>\n",
       "      <td>10,771.8</td>\n",
       "      <td>576.83K</td>\n",
       "      <td>1.81%</td>\n",
       "    </tr>\n",
       "  </tbody>\n",
       "</table>\n",
       "</div>"
      ],
      "text/plain": [
       "           Date     Price      Open      High       Low     Vol. Change %\n",
       "0  Aug 02, 2020  11,105.8  11,802.6  12,061.1  10,730.7  698.62K   -5.91%\n",
       "1  Aug 01, 2020  11,803.1  11,333.2  11,847.7  11,226.1  611.47K    4.14%\n",
       "2  Jul 31, 2020  11,333.4  11,096.5  11,434.8  10,964.6  530.95K    2.14%\n",
       "3  Jul 30, 2020  11,096.2  11,105.8  11,164.4  10,861.6  501.14K   -0.09%\n",
       "4  Jul 29, 2020  11,105.9  10,908.4  11,336.5  10,771.8  576.83K    1.81%"
      ]
     },
     "execution_count": 50,
     "metadata": {},
     "output_type": "execute_result"
    }
   ],
   "source": [
    "import numpy as np # linear algebra\n",
    "import pandas as pd # data processing, CSV file I/O (e.g. pd.read_csv)\n",
    "import matplotlib.pyplot as plt \n",
    "\n",
    "# Input data files are available in the \"../input/\" directory.\n",
    "# For example, running this (by clicking run or pressing Shift+Enter) will list the files in the input directory\n",
    "\n",
    "from plotly import tools\n",
    "import chart_studio.plotly as py\n",
    "from plotly.offline import init_notebook_mode, iplot\n",
    "init_notebook_mode(connected=True)\n",
    "import plotly.graph_objs as go\n",
    "import gc\n",
    "\n",
    "import matplotlib.pyplot as plt\n",
    "import seaborn as sns\n",
    "df = pd.read_csv('BitcoinHistoricalData.csv')\n",
    "print(\"Data shape:\", df.shape)\n",
    "df.head()"
   ]
  },
  {
   "cell_type": "code",
   "execution_count": 2,
   "metadata": {},
   "outputs": [
    {
     "name": "stderr",
     "output_type": "stream",
     "text": [
      "C:\\Users\\Admin\\AppData\\Local\\Temp\\ipykernel_38328\\2855237414.py:11: FutureWarning:\n",
      "\n",
      "The argument 'date_parser' is deprecated and will be removed in a future version. Please use 'date_format' instead, or read your data in as 'object' dtype and then call 'to_datetime'.\n",
      "\n"
     ]
    }
   ],
   "source": [
    "import pandas as pd\n",
    "import datetime\n",
    "import pytz\n",
    "\n",
    "# Định nghĩa hàm chuyển đổi cho các timestamp trong file csv\n",
    "def dateparse(time_in_secs):\n",
    "    # Chuyển đổi chuỗi ngày tháng thành datetime\n",
    "    return pd.to_datetime(time_in_secs, format='%b %d, %Y')\n",
    "\n",
    "# Đọc dữ liệu từ file CSV\n",
    "data = pd.read_csv('BitcoinHistoricalData.csv', parse_dates=[0], date_parser=dateparse)"
   ]
  },
  {
   "cell_type": "code",
   "execution_count": 3,
   "metadata": {},
   "outputs": [
    {
     "name": "stdout",
     "output_type": "stream",
     "text": [
      "<class 'pandas.core.frame.DataFrame'>\n",
      "RangeIndex: 3669 entries, 0 to 3668\n",
      "Data columns (total 7 columns):\n",
      " #   Column    Non-Null Count  Dtype         \n",
      "---  ------    --------------  -----         \n",
      " 0   Date      3669 non-null   datetime64[ns]\n",
      " 1   Price     3669 non-null   object        \n",
      " 2   Open      3669 non-null   object        \n",
      " 3   High      3669 non-null   object        \n",
      " 4   Low       3669 non-null   object        \n",
      " 5   Vol.      3669 non-null   object        \n",
      " 6   Change %  3669 non-null   object        \n",
      "dtypes: datetime64[ns](1), object(6)\n",
      "memory usage: 200.8+ KB\n"
     ]
    }
   ],
   "source": [
    "data.info()"
   ]
  },
  {
   "cell_type": "code",
   "execution_count": 58,
   "metadata": {},
   "outputs": [
    {
     "name": "stdout",
     "output_type": "stream",
     "text": [
      "Index(['Date', 'Price', 'Open', 'High', 'Low', 'Vol.', 'Change %'], dtype='object')\n"
     ]
    }
   ],
   "source": [
    "print(data.columns)"
   ]
  },
  {
   "cell_type": "code",
   "execution_count": 4,
   "metadata": {},
   "outputs": [
    {
     "name": "stdout",
     "output_type": "stream",
     "text": [
      "        Date     Price      Open      High       Low     Vol. Change %\n",
      "0 2020-08-02  11,105.8  11,802.6  12,061.1  10,730.7  698.62K   -5.91%\n",
      "1 2020-08-01  11,803.1  11,333.2  11,847.7  11,226.1  611.47K    4.14%\n",
      "2 2020-07-31  11,333.4  11,096.5  11,434.8  10,964.6  530.95K    2.14%\n",
      "3 2020-07-30  11,096.2  11,105.8  11,164.4  10,861.6  501.14K   -0.09%\n",
      "4 2020-07-29  11,105.9  10,908.4  11,336.5  10,771.8  576.83K    1.81%\n"
     ]
    },
    {
     "name": "stderr",
     "output_type": "stream",
     "text": [
      "C:\\Users\\Admin\\AppData\\Local\\Temp\\ipykernel_38328\\3669318625.py:2: FutureWarning:\n",
      "\n",
      "A value is trying to be set on a copy of a DataFrame or Series through chained assignment using an inplace method.\n",
      "The behavior will change in pandas 3.0. This inplace method will never work because the intermediate object on which we are setting values always behaves as a copy.\n",
      "\n",
      "For example, when doing 'df[col].method(value, inplace=True)', try using 'df.method({col: value}, inplace=True)' or df[col] = df[col].method(value) instead, to perform the operation inplace on the original object.\n",
      "\n",
      "\n",
      "\n",
      "C:\\Users\\Admin\\AppData\\Local\\Temp\\ipykernel_38328\\3669318625.py:3: FutureWarning:\n",
      "\n",
      "A value is trying to be set on a copy of a DataFrame or Series through chained assignment using an inplace method.\n",
      "The behavior will change in pandas 3.0. This inplace method will never work because the intermediate object on which we are setting values always behaves as a copy.\n",
      "\n",
      "For example, when doing 'df[col].method(value, inplace=True)', try using 'df.method({col: value}, inplace=True)' or df[col] = df[col].method(value) instead, to perform the operation inplace on the original object.\n",
      "\n",
      "\n",
      "\n",
      "C:\\Users\\Admin\\AppData\\Local\\Temp\\ipykernel_38328\\3669318625.py:6: FutureWarning:\n",
      "\n",
      "A value is trying to be set on a copy of a DataFrame or Series through chained assignment using an inplace method.\n",
      "The behavior will change in pandas 3.0. This inplace method will never work because the intermediate object on which we are setting values always behaves as a copy.\n",
      "\n",
      "For example, when doing 'df[col].method(value, inplace=True)', try using 'df.method({col: value}, inplace=True)' or df[col] = df[col].method(value) instead, to perform the operation inplace on the original object.\n",
      "\n",
      "\n",
      "\n",
      "C:\\Users\\Admin\\AppData\\Local\\Temp\\ipykernel_38328\\3669318625.py:6: FutureWarning:\n",
      "\n",
      "Series.fillna with 'method' is deprecated and will raise in a future version. Use obj.ffill() or obj.bfill() instead.\n",
      "\n",
      "C:\\Users\\Admin\\AppData\\Local\\Temp\\ipykernel_38328\\3669318625.py:7: FutureWarning:\n",
      "\n",
      "A value is trying to be set on a copy of a DataFrame or Series through chained assignment using an inplace method.\n",
      "The behavior will change in pandas 3.0. This inplace method will never work because the intermediate object on which we are setting values always behaves as a copy.\n",
      "\n",
      "For example, when doing 'df[col].method(value, inplace=True)', try using 'df.method({col: value}, inplace=True)' or df[col] = df[col].method(value) instead, to perform the operation inplace on the original object.\n",
      "\n",
      "\n",
      "\n",
      "C:\\Users\\Admin\\AppData\\Local\\Temp\\ipykernel_38328\\3669318625.py:7: FutureWarning:\n",
      "\n",
      "Series.fillna with 'method' is deprecated and will raise in a future version. Use obj.ffill() or obj.bfill() instead.\n",
      "\n",
      "C:\\Users\\Admin\\AppData\\Local\\Temp\\ipykernel_38328\\3669318625.py:8: FutureWarning:\n",
      "\n",
      "A value is trying to be set on a copy of a DataFrame or Series through chained assignment using an inplace method.\n",
      "The behavior will change in pandas 3.0. This inplace method will never work because the intermediate object on which we are setting values always behaves as a copy.\n",
      "\n",
      "For example, when doing 'df[col].method(value, inplace=True)', try using 'df.method({col: value}, inplace=True)' or df[col] = df[col].method(value) instead, to perform the operation inplace on the original object.\n",
      "\n",
      "\n",
      "\n",
      "C:\\Users\\Admin\\AppData\\Local\\Temp\\ipykernel_38328\\3669318625.py:8: FutureWarning:\n",
      "\n",
      "Series.fillna with 'method' is deprecated and will raise in a future version. Use obj.ffill() or obj.bfill() instead.\n",
      "\n",
      "C:\\Users\\Admin\\AppData\\Local\\Temp\\ipykernel_38328\\3669318625.py:9: FutureWarning:\n",
      "\n",
      "A value is trying to be set on a copy of a DataFrame or Series through chained assignment using an inplace method.\n",
      "The behavior will change in pandas 3.0. This inplace method will never work because the intermediate object on which we are setting values always behaves as a copy.\n",
      "\n",
      "For example, when doing 'df[col].method(value, inplace=True)', try using 'df.method({col: value}, inplace=True)' or df[col] = df[col].method(value) instead, to perform the operation inplace on the original object.\n",
      "\n",
      "\n",
      "\n",
      "C:\\Users\\Admin\\AppData\\Local\\Temp\\ipykernel_38328\\3669318625.py:9: FutureWarning:\n",
      "\n",
      "Series.fillna with 'method' is deprecated and will raise in a future version. Use obj.ffill() or obj.bfill() instead.\n",
      "\n"
     ]
    }
   ],
   "source": [
    "# Đầu tiên, sửa các cột để phù hợp với tên cột hiện tại\n",
    "data['Vol.'].fillna(value=0, inplace=True)  # Thay 'Volume_(BTC)' bằng 'Vol.'\n",
    "data['Price'].fillna(value=0, inplace=True)  # Không cần thay đổi vì 'Price' đã đúng\n",
    "\n",
    "# Tiếp theo, sửa các cột OHLC\n",
    "data['Open'].fillna(method='ffill', inplace=True)\n",
    "data['High'].fillna(method='ffill', inplace=True)\n",
    "data['Low'].fillna(method='ffill', inplace=True)\n",
    "data['Price'].fillna(method='ffill', inplace=True)  # Sử dụng 'Price' thay vì 'Close'\n",
    "\n",
    "# Hiển thị dữ liệu\n",
    "print(data.head())"
   ]
  },
  {
   "cell_type": "code",
   "execution_count": 5,
   "metadata": {},
   "outputs": [
    {
     "name": "stdout",
     "output_type": "stream",
     "text": [
      "        Date  Price   Open   High    Low     Vol. Change %\n",
      "0 2015-01-05  274.8  264.7  278.3  262.9   54.99K    3.82%\n",
      "1 2015-01-12  269.3  264.8  273.1  263.3   25.39K    1.72%\n",
      "2 2015-01-19  215.9  210.6  219.5  205.5   31.58K    2.49%\n",
      "3 2015-01-26  269.2  252.1  310.9  251.5  105.71K    6.78%\n",
      "4 2015-02-02  238.9  225.3  242.5  220.5   39.02K    6.02%\n"
     ]
    }
   ],
   "source": [
    "import pandas as pd\n",
    "import datetime\n",
    "import pytz\n",
    "\n",
    "# Giả sử bạn đã đọc dữ liệu vào DataFrame 'data'\n",
    "# data = pd.read_csv('BitcoinHistoricalData.csv', parse_dates=['Date'])\n",
    "\n",
    "# Tạo khoảng thời gian hợp lệ (tz-naive)\n",
    "start = datetime.datetime(2015, 1, 1, 0, 0, 0, 0)\n",
    "end = datetime.datetime(2018, 11, 11, 0, 0, 0, 0)\n",
    "\n",
    "# Chuyển đổi cột 'Date' thành tz-naive nếu cần\n",
    "data['Date'] = data['Date'].dt.tz_localize(None)\n",
    "\n",
    "# Tìm các hàng giữa thời gian bắt đầu và kết thúc và tìm hàng đầu tiên (00:00 sáng thứ Hai)\n",
    "weekly_rows = data[(data['Date'] >= start) & (data['Date'] <= end)].groupby([pd.Grouper(key='Date', freq='W-MON')]).first().reset_index()\n",
    "\n",
    "# Hiển thị kết quả\n",
    "print(weekly_rows.head())"
   ]
  },
  {
   "cell_type": "code",
   "execution_count": 67,
   "metadata": {},
   "outputs": [
    {
     "name": "stdout",
     "output_type": "stream",
     "text": [
      "Index(['Date', 'Price', 'Open', 'High', 'Low', 'Vol.', 'Change %'], dtype='object')\n"
     ]
    }
   ],
   "source": [
    "print(weekly_rows.columns)"
   ]
  },
  {
   "cell_type": "code",
   "execution_count": 6,
   "metadata": {},
   "outputs": [
    {
     "data": {
      "text/html": [
       "        <script type=\"text/javascript\">\n",
       "        window.PlotlyConfig = {MathJaxConfig: 'local'};\n",
       "        if (window.MathJax && window.MathJax.Hub && window.MathJax.Hub.Config) {window.MathJax.Hub.Config({SVG: {font: \"STIX-Web\"}});}\n",
       "        </script>\n",
       "        <script type=\"module\">import \"https://cdn.plot.ly/plotly-3.0.0.min\"</script>\n",
       "        "
      ]
     },
     "metadata": {},
     "output_type": "display_data"
    },
    {
     "data": {
      "application/vnd.plotly.v1+json": {
       "config": {
        "linkText": "Export to plot.ly",
        "plotlyServerURL": "https://plot.ly",
        "showLink": false
       },
       "data": [
        {
         "mode": "lines",
         "name": "Open",
         "type": "scatter",
         "x": [
          "2015-01-05T00:00:00.000000000",
          "2015-01-12T00:00:00.000000000",
          "2015-01-19T00:00:00.000000000",
          "2015-01-26T00:00:00.000000000",
          "2015-02-02T00:00:00.000000000",
          "2015-02-09T00:00:00.000000000",
          "2015-02-16T00:00:00.000000000",
          "2015-02-23T00:00:00.000000000",
          "2015-03-02T00:00:00.000000000",
          "2015-03-09T00:00:00.000000000",
          "2015-03-16T00:00:00.000000000",
          "2015-03-23T00:00:00.000000000",
          "2015-03-30T00:00:00.000000000",
          "2015-04-06T00:00:00.000000000",
          "2015-04-13T00:00:00.000000000",
          "2015-04-20T00:00:00.000000000",
          "2015-04-27T00:00:00.000000000",
          "2015-05-04T00:00:00.000000000",
          "2015-05-11T00:00:00.000000000",
          "2015-05-18T00:00:00.000000000",
          "2015-05-25T00:00:00.000000000",
          "2015-06-01T00:00:00.000000000",
          "2015-06-08T00:00:00.000000000",
          "2015-06-15T00:00:00.000000000",
          "2015-06-22T00:00:00.000000000",
          "2015-06-29T00:00:00.000000000",
          "2015-07-06T00:00:00.000000000",
          "2015-07-13T00:00:00.000000000",
          "2015-07-20T00:00:00.000000000",
          "2015-07-27T00:00:00.000000000",
          "2015-08-03T00:00:00.000000000",
          "2015-08-10T00:00:00.000000000",
          "2015-08-17T00:00:00.000000000",
          "2015-08-24T00:00:00.000000000",
          "2015-08-31T00:00:00.000000000",
          "2015-09-07T00:00:00.000000000",
          "2015-09-14T00:00:00.000000000",
          "2015-09-21T00:00:00.000000000",
          "2015-09-28T00:00:00.000000000",
          "2015-10-05T00:00:00.000000000",
          "2015-10-12T00:00:00.000000000",
          "2015-10-19T00:00:00.000000000",
          "2015-10-26T00:00:00.000000000",
          "2015-11-02T00:00:00.000000000",
          "2015-11-09T00:00:00.000000000",
          "2015-11-16T00:00:00.000000000",
          "2015-11-23T00:00:00.000000000",
          "2015-11-30T00:00:00.000000000",
          "2015-12-07T00:00:00.000000000",
          "2015-12-14T00:00:00.000000000",
          "2015-12-21T00:00:00.000000000",
          "2015-12-28T00:00:00.000000000",
          "2016-01-04T00:00:00.000000000",
          "2016-01-11T00:00:00.000000000",
          "2016-01-18T00:00:00.000000000",
          "2016-01-25T00:00:00.000000000",
          "2016-02-01T00:00:00.000000000",
          "2016-02-08T00:00:00.000000000",
          "2016-02-15T00:00:00.000000000",
          "2016-02-22T00:00:00.000000000",
          "2016-02-29T00:00:00.000000000",
          "2016-03-07T00:00:00.000000000",
          "2016-03-14T00:00:00.000000000",
          "2016-03-21T00:00:00.000000000",
          "2016-03-28T00:00:00.000000000",
          "2016-04-04T00:00:00.000000000",
          "2016-04-11T00:00:00.000000000",
          "2016-04-18T00:00:00.000000000",
          "2016-04-25T00:00:00.000000000",
          "2016-05-02T00:00:00.000000000",
          "2016-05-09T00:00:00.000000000",
          "2016-05-16T00:00:00.000000000",
          "2016-05-23T00:00:00.000000000",
          "2016-05-30T00:00:00.000000000",
          "2016-06-06T00:00:00.000000000",
          "2016-06-13T00:00:00.000000000",
          "2016-06-20T00:00:00.000000000",
          "2016-06-27T00:00:00.000000000",
          "2016-07-04T00:00:00.000000000",
          "2016-07-11T00:00:00.000000000",
          "2016-07-18T00:00:00.000000000",
          "2016-07-25T00:00:00.000000000",
          "2016-08-01T00:00:00.000000000",
          "2016-08-08T00:00:00.000000000",
          "2016-08-15T00:00:00.000000000",
          "2016-08-22T00:00:00.000000000",
          "2016-08-29T00:00:00.000000000",
          "2016-09-05T00:00:00.000000000",
          "2016-09-12T00:00:00.000000000",
          "2016-09-19T00:00:00.000000000",
          "2016-09-26T00:00:00.000000000",
          "2016-10-03T00:00:00.000000000",
          "2016-10-10T00:00:00.000000000",
          "2016-10-17T00:00:00.000000000",
          "2016-10-24T00:00:00.000000000",
          "2016-10-31T00:00:00.000000000",
          "2016-11-07T00:00:00.000000000",
          "2016-11-14T00:00:00.000000000",
          "2016-11-21T00:00:00.000000000",
          "2016-11-28T00:00:00.000000000",
          "2016-12-05T00:00:00.000000000",
          "2016-12-12T00:00:00.000000000",
          "2016-12-19T00:00:00.000000000",
          "2016-12-26T00:00:00.000000000",
          "2017-01-02T00:00:00.000000000",
          "2017-01-09T00:00:00.000000000",
          "2017-01-16T00:00:00.000000000",
          "2017-01-23T00:00:00.000000000",
          "2017-01-30T00:00:00.000000000",
          "2017-02-06T00:00:00.000000000",
          "2017-02-13T00:00:00.000000000",
          "2017-02-20T00:00:00.000000000",
          "2017-02-27T00:00:00.000000000",
          "2017-03-06T00:00:00.000000000",
          "2017-03-13T00:00:00.000000000",
          "2017-03-20T00:00:00.000000000",
          "2017-03-27T00:00:00.000000000",
          "2017-04-03T00:00:00.000000000",
          "2017-04-10T00:00:00.000000000",
          "2017-04-17T00:00:00.000000000",
          "2017-04-24T00:00:00.000000000",
          "2017-05-01T00:00:00.000000000",
          "2017-05-08T00:00:00.000000000",
          "2017-05-15T00:00:00.000000000",
          "2017-05-22T00:00:00.000000000",
          "2017-05-29T00:00:00.000000000",
          "2017-06-05T00:00:00.000000000",
          "2017-06-12T00:00:00.000000000",
          "2017-06-19T00:00:00.000000000",
          "2017-06-26T00:00:00.000000000",
          "2017-07-03T00:00:00.000000000",
          "2017-07-10T00:00:00.000000000",
          "2017-07-17T00:00:00.000000000",
          "2017-07-24T00:00:00.000000000",
          "2017-07-31T00:00:00.000000000",
          "2017-08-07T00:00:00.000000000",
          "2017-08-14T00:00:00.000000000",
          "2017-08-21T00:00:00.000000000",
          "2017-08-28T00:00:00.000000000",
          "2017-09-04T00:00:00.000000000",
          "2017-09-11T00:00:00.000000000",
          "2017-09-18T00:00:00.000000000",
          "2017-09-25T00:00:00.000000000",
          "2017-10-02T00:00:00.000000000",
          "2017-10-09T00:00:00.000000000",
          "2017-10-16T00:00:00.000000000",
          "2017-10-23T00:00:00.000000000",
          "2017-10-30T00:00:00.000000000",
          "2017-11-06T00:00:00.000000000",
          "2017-11-13T00:00:00.000000000",
          "2017-11-20T00:00:00.000000000",
          "2017-11-27T00:00:00.000000000",
          "2017-12-04T00:00:00.000000000",
          "2017-12-11T00:00:00.000000000",
          "2017-12-18T00:00:00.000000000",
          "2017-12-25T00:00:00.000000000",
          "2018-01-01T00:00:00.000000000",
          "2018-01-08T00:00:00.000000000",
          "2018-01-15T00:00:00.000000000",
          "2018-01-22T00:00:00.000000000",
          "2018-01-29T00:00:00.000000000",
          "2018-02-05T00:00:00.000000000",
          "2018-02-12T00:00:00.000000000",
          "2018-02-19T00:00:00.000000000",
          "2018-02-26T00:00:00.000000000",
          "2018-03-05T00:00:00.000000000",
          "2018-03-12T00:00:00.000000000",
          "2018-03-19T00:00:00.000000000",
          "2018-03-26T00:00:00.000000000",
          "2018-04-02T00:00:00.000000000",
          "2018-04-09T00:00:00.000000000",
          "2018-04-16T00:00:00.000000000",
          "2018-04-23T00:00:00.000000000",
          "2018-04-30T00:00:00.000000000",
          "2018-05-07T00:00:00.000000000",
          "2018-05-14T00:00:00.000000000",
          "2018-05-21T00:00:00.000000000",
          "2018-05-28T00:00:00.000000000",
          "2018-06-04T00:00:00.000000000",
          "2018-06-11T00:00:00.000000000",
          "2018-06-18T00:00:00.000000000",
          "2018-06-25T00:00:00.000000000",
          "2018-07-02T00:00:00.000000000",
          "2018-07-09T00:00:00.000000000",
          "2018-07-16T00:00:00.000000000",
          "2018-07-23T00:00:00.000000000",
          "2018-07-30T00:00:00.000000000",
          "2018-08-06T00:00:00.000000000",
          "2018-08-13T00:00:00.000000000",
          "2018-08-20T00:00:00.000000000",
          "2018-08-27T00:00:00.000000000",
          "2018-09-03T00:00:00.000000000",
          "2018-09-10T00:00:00.000000000",
          "2018-09-17T00:00:00.000000000",
          "2018-09-24T00:00:00.000000000",
          "2018-10-01T00:00:00.000000000",
          "2018-10-08T00:00:00.000000000",
          "2018-10-15T00:00:00.000000000",
          "2018-10-22T00:00:00.000000000",
          "2018-10-29T00:00:00.000000000",
          "2018-11-05T00:00:00.000000000",
          "2018-11-12T00:00:00.000000000"
         ],
         "y": {
          "bdata": "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",
          "dtype": "f8"
         }
        },
        {
         "mode": "lines",
         "name": "Price",
         "type": "scatter",
         "x": [
          "2015-01-05T00:00:00.000000000",
          "2015-01-12T00:00:00.000000000",
          "2015-01-19T00:00:00.000000000",
          "2015-01-26T00:00:00.000000000",
          "2015-02-02T00:00:00.000000000",
          "2015-02-09T00:00:00.000000000",
          "2015-02-16T00:00:00.000000000",
          "2015-02-23T00:00:00.000000000",
          "2015-03-02T00:00:00.000000000",
          "2015-03-09T00:00:00.000000000",
          "2015-03-16T00:00:00.000000000",
          "2015-03-23T00:00:00.000000000",
          "2015-03-30T00:00:00.000000000",
          "2015-04-06T00:00:00.000000000",
          "2015-04-13T00:00:00.000000000",
          "2015-04-20T00:00:00.000000000",
          "2015-04-27T00:00:00.000000000",
          "2015-05-04T00:00:00.000000000",
          "2015-05-11T00:00:00.000000000",
          "2015-05-18T00:00:00.000000000",
          "2015-05-25T00:00:00.000000000",
          "2015-06-01T00:00:00.000000000",
          "2015-06-08T00:00:00.000000000",
          "2015-06-15T00:00:00.000000000",
          "2015-06-22T00:00:00.000000000",
          "2015-06-29T00:00:00.000000000",
          "2015-07-06T00:00:00.000000000",
          "2015-07-13T00:00:00.000000000",
          "2015-07-20T00:00:00.000000000",
          "2015-07-27T00:00:00.000000000",
          "2015-08-03T00:00:00.000000000",
          "2015-08-10T00:00:00.000000000",
          "2015-08-17T00:00:00.000000000",
          "2015-08-24T00:00:00.000000000",
          "2015-08-31T00:00:00.000000000",
          "2015-09-07T00:00:00.000000000",
          "2015-09-14T00:00:00.000000000",
          "2015-09-21T00:00:00.000000000",
          "2015-09-28T00:00:00.000000000",
          "2015-10-05T00:00:00.000000000",
          "2015-10-12T00:00:00.000000000",
          "2015-10-19T00:00:00.000000000",
          "2015-10-26T00:00:00.000000000",
          "2015-11-02T00:00:00.000000000",
          "2015-11-09T00:00:00.000000000",
          "2015-11-16T00:00:00.000000000",
          "2015-11-23T00:00:00.000000000",
          "2015-11-30T00:00:00.000000000",
          "2015-12-07T00:00:00.000000000",
          "2015-12-14T00:00:00.000000000",
          "2015-12-21T00:00:00.000000000",
          "2015-12-28T00:00:00.000000000",
          "2016-01-04T00:00:00.000000000",
          "2016-01-11T00:00:00.000000000",
          "2016-01-18T00:00:00.000000000",
          "2016-01-25T00:00:00.000000000",
          "2016-02-01T00:00:00.000000000",
          "2016-02-08T00:00:00.000000000",
          "2016-02-15T00:00:00.000000000",
          "2016-02-22T00:00:00.000000000",
          "2016-02-29T00:00:00.000000000",
          "2016-03-07T00:00:00.000000000",
          "2016-03-14T00:00:00.000000000",
          "2016-03-21T00:00:00.000000000",
          "2016-03-28T00:00:00.000000000",
          "2016-04-04T00:00:00.000000000",
          "2016-04-11T00:00:00.000000000",
          "2016-04-18T00:00:00.000000000",
          "2016-04-25T00:00:00.000000000",
          "2016-05-02T00:00:00.000000000",
          "2016-05-09T00:00:00.000000000",
          "2016-05-16T00:00:00.000000000",
          "2016-05-23T00:00:00.000000000",
          "2016-05-30T00:00:00.000000000",
          "2016-06-06T00:00:00.000000000",
          "2016-06-13T00:00:00.000000000",
          "2016-06-20T00:00:00.000000000",
          "2016-06-27T00:00:00.000000000",
          "2016-07-04T00:00:00.000000000",
          "2016-07-11T00:00:00.000000000",
          "2016-07-18T00:00:00.000000000",
          "2016-07-25T00:00:00.000000000",
          "2016-08-01T00:00:00.000000000",
          "2016-08-08T00:00:00.000000000",
          "2016-08-15T00:00:00.000000000",
          "2016-08-22T00:00:00.000000000",
          "2016-08-29T00:00:00.000000000",
          "2016-09-05T00:00:00.000000000",
          "2016-09-12T00:00:00.000000000",
          "2016-09-19T00:00:00.000000000",
          "2016-09-26T00:00:00.000000000",
          "2016-10-03T00:00:00.000000000",
          "2016-10-10T00:00:00.000000000",
          "2016-10-17T00:00:00.000000000",
          "2016-10-24T00:00:00.000000000",
          "2016-10-31T00:00:00.000000000",
          "2016-11-07T00:00:00.000000000",
          "2016-11-14T00:00:00.000000000",
          "2016-11-21T00:00:00.000000000",
          "2016-11-28T00:00:00.000000000",
          "2016-12-05T00:00:00.000000000",
          "2016-12-12T00:00:00.000000000",
          "2016-12-19T00:00:00.000000000",
          "2016-12-26T00:00:00.000000000",
          "2017-01-02T00:00:00.000000000",
          "2017-01-09T00:00:00.000000000",
          "2017-01-16T00:00:00.000000000",
          "2017-01-23T00:00:00.000000000",
          "2017-01-30T00:00:00.000000000",
          "2017-02-06T00:00:00.000000000",
          "2017-02-13T00:00:00.000000000",
          "2017-02-20T00:00:00.000000000",
          "2017-02-27T00:00:00.000000000",
          "2017-03-06T00:00:00.000000000",
          "2017-03-13T00:00:00.000000000",
          "2017-03-20T00:00:00.000000000",
          "2017-03-27T00:00:00.000000000",
          "2017-04-03T00:00:00.000000000",
          "2017-04-10T00:00:00.000000000",
          "2017-04-17T00:00:00.000000000",
          "2017-04-24T00:00:00.000000000",
          "2017-05-01T00:00:00.000000000",
          "2017-05-08T00:00:00.000000000",
          "2017-05-15T00:00:00.000000000",
          "2017-05-22T00:00:00.000000000",
          "2017-05-29T00:00:00.000000000",
          "2017-06-05T00:00:00.000000000",
          "2017-06-12T00:00:00.000000000",
          "2017-06-19T00:00:00.000000000",
          "2017-06-26T00:00:00.000000000",
          "2017-07-03T00:00:00.000000000",
          "2017-07-10T00:00:00.000000000",
          "2017-07-17T00:00:00.000000000",
          "2017-07-24T00:00:00.000000000",
          "2017-07-31T00:00:00.000000000",
          "2017-08-07T00:00:00.000000000",
          "2017-08-14T00:00:00.000000000",
          "2017-08-21T00:00:00.000000000",
          "2017-08-28T00:00:00.000000000",
          "2017-09-04T00:00:00.000000000",
          "2017-09-11T00:00:00.000000000",
          "2017-09-18T00:00:00.000000000",
          "2017-09-25T00:00:00.000000000",
          "2017-10-02T00:00:00.000000000",
          "2017-10-09T00:00:00.000000000",
          "2017-10-16T00:00:00.000000000",
          "2017-10-23T00:00:00.000000000",
          "2017-10-30T00:00:00.000000000",
          "2017-11-06T00:00:00.000000000",
          "2017-11-13T00:00:00.000000000",
          "2017-11-20T00:00:00.000000000",
          "2017-11-27T00:00:00.000000000",
          "2017-12-04T00:00:00.000000000",
          "2017-12-11T00:00:00.000000000",
          "2017-12-18T00:00:00.000000000",
          "2017-12-25T00:00:00.000000000",
          "2018-01-01T00:00:00.000000000",
          "2018-01-08T00:00:00.000000000",
          "2018-01-15T00:00:00.000000000",
          "2018-01-22T00:00:00.000000000",
          "2018-01-29T00:00:00.000000000",
          "2018-02-05T00:00:00.000000000",
          "2018-02-12T00:00:00.000000000",
          "2018-02-19T00:00:00.000000000",
          "2018-02-26T00:00:00.000000000",
          "2018-03-05T00:00:00.000000000",
          "2018-03-12T00:00:00.000000000",
          "2018-03-19T00:00:00.000000000",
          "2018-03-26T00:00:00.000000000",
          "2018-04-02T00:00:00.000000000",
          "2018-04-09T00:00:00.000000000",
          "2018-04-16T00:00:00.000000000",
          "2018-04-23T00:00:00.000000000",
          "2018-04-30T00:00:00.000000000",
          "2018-05-07T00:00:00.000000000",
          "2018-05-14T00:00:00.000000000",
          "2018-05-21T00:00:00.000000000",
          "2018-05-28T00:00:00.000000000",
          "2018-06-04T00:00:00.000000000",
          "2018-06-11T00:00:00.000000000",
          "2018-06-18T00:00:00.000000000",
          "2018-06-25T00:00:00.000000000",
          "2018-07-02T00:00:00.000000000",
          "2018-07-09T00:00:00.000000000",
          "2018-07-16T00:00:00.000000000",
          "2018-07-23T00:00:00.000000000",
          "2018-07-30T00:00:00.000000000",
          "2018-08-06T00:00:00.000000000",
          "2018-08-13T00:00:00.000000000",
          "2018-08-20T00:00:00.000000000",
          "2018-08-27T00:00:00.000000000",
          "2018-09-03T00:00:00.000000000",
          "2018-09-10T00:00:00.000000000",
          "2018-09-17T00:00:00.000000000",
          "2018-09-24T00:00:00.000000000",
          "2018-10-01T00:00:00.000000000",
          "2018-10-08T00:00:00.000000000",
          "2018-10-15T00:00:00.000000000",
          "2018-10-22T00:00:00.000000000",
          "2018-10-29T00:00:00.000000000",
          "2018-11-05T00:00:00.000000000",
          "2018-11-12T00:00:00.000000000"
         ],
         "y": {
          "bdata": "zczMzMwscUDNzMzMzNRwQM3MzMzM/GpAMzMzMzPTcEDNzMzMzNxtQJqZmZmZiWtAmpmZmZl5bUCamZmZmdltQM3MzMzMHHFAAAAAAAAgckBmZmZmZiZyQAAAAAAAmHBAmpmZmZnZbkAAAAAAAOBvQDMzMzMz82tAZmZmZmYGbEAAAAAAAKBsQAAAAAAA4G1AmpmZmZk5bkAzMzMzMxNtQM3MzMzMrG1AMzMzMzPja0AzMzMzM5NsQAAAAAAAoG1AAAAAAADwbkAAAAAAABBwQJqZmZmZ0XBAZmZmZmYmckAzMzMzM1txQAAAAAAAUHJAmpmZmZmZcUDNzMzMzHRwQJqZmZmZEXBAzczMzMxsakAAAAAAALBsQDMzMzMz821AzczMzMy8bECamZmZmUlsQM3MzMzM3G1AMzMzMzMDbkDNzMzMzKxuQM3MzMzMfHBAmpmZmZnRcUDNzMzMzHR2QDMzMzMzw3dAMzMzMzOjdECamZmZmSF0QAAAAAAAoHdAzczMzMykeEAAAAAAAKB7QJqZmZmZWXtAzczMzMxcekDNzMzMzBR7QDMzMzMz+3tAZmZmZmYGeEDNzMzMzIx4QDMzMzMzQ3dAmpmZmZlJd0CamZmZmRF5QM3MzMzMXHtAMzMzMzNDe0BmZmZmZu55QM3MzMzM5HlAmpmZmZmxeUAzMzMzM2N6QM3MzMzMNHpAZmZmZmZWekAzMzMzM7t6QDMzMzMz23xAMzMzMzPDe0BmZmZmZsZ8QGZmZmZmbnxAMzMzMzO7e0BmZmZmZqKAQM3MzMzMPIJAzczMzMzghUAAAAAAAPCGQJqZmZmZJYRAmpmZmZkZhUCamZmZmTWEQDMzMzMz84RAAAAAAABwhEAAAAAAAPiCQJqZmZmZaYJAAAAAAAC4gUAAAAAAAFyCQJqZmZmZ8YFAZmZmZmbugkAAAAAAAACDQGZmZmZmDoNAAAAAAAD0gkDNzMzMzByDQGZmZmZmSoNAMzMzMzPrg0AAAAAAAFSEQJqZmZmZ1YVAMzMzMzMLhkDNzMzMzASGQJqZmZmZAYdAZmZmZmbqhkBmZmZmZpKHQAAAAAAAVIhAZmZmZmauiEAzMzMzMxOMQAAAAAAAyI9AZmZmZmYejEBmZmZmZtqJQAAAAAAAzIxAmpmZmZnFjEDNzMzMzAKQQDMzMzMzG49AZmZmZmbWkEAzMzMzM5OSQAAAAAAA9JNAzczMzMxYk0AAAAAAAF6QQGZmZmZmVJBAZmZmZmbukUDNzMzMzNqSQAAAAAAAqJJAzczMzMyAk0AzMzMzMx+WQAAAAAAAAppAmpmZmZmzmkDNzMzMzJigQGZmZmZmzKFAAAAAAAAipUCamZmZmcGkQJqZmZmZcaRAMzMzMzMco0AAAAAAABmkQAAAAAAAUKJAzczMzMxyoUDNzMzMzJalQJqZmZmZhqZAzczMzMyTqkBmZmZm5uewQDMzMzMzSq9AzczMzEwmsUAAAAAAgKuwQGZmZmbmebBAzczMzEwEsECamZmZmbmuQM3MzMxMMbFAAAAAAICpskDNzMzMTH+2QJqZmZmZD7dAzczMzEzst0AzMzMzMy+7QAAAAACAerlAmpmZmVkawECamZmZmQLDQDMzMzPzs8ZAAAAAACBX0EAzMzMzE4fSQAAAAADABMtAMzMzM3NCykCamZmZGUDNQAAAAADAwMpAZmZmZmY4xUBmZmZmZvbFQAAAAACAGrtAAAAAAMBjwUAzMzMzs9DFQM3MzMyMFsRAzczMzEwhxkAzMzMzs9jBQGZmZmZm1MBAAAAAAIDPv0BmZmZmZpy7QGZmZmbmfbpAAAAAAACGv0BmZmZmZnzBQM3MzMyMDsJAzczMzMxrwkDNzMzMDPHAQGZmZmamacBAzczMzEzPu0DNzMzMTFC9QGZmZmbm5bpAzczMzMw/ukCamZmZmXC4QAAAAACA27lAmpmZmRkLukBmZmZm5km6QAAAAAAAK75AmpmZmRnxv0CamZmZmR+7QM3MzMxMb7hAmpmZmRl8uECamZmZmfG6QDMzMzMzYLxAAAAAAACxuEBmZmZm5mu4QJqZmZkZuLlAMzMzMzPQuUCamZmZmQ26QM3MzMzMK7pAzczMzMybuUAAAAAAAL+4QDMzMzOzO7lAmpmZmRkuuUA=",
          "dtype": "f8"
         }
        }
       ],
       "layout": {
        "template": {
         "data": {
          "bar": [
           {
            "error_x": {
             "color": "#2a3f5f"
            },
            "error_y": {
             "color": "#2a3f5f"
            },
            "marker": {
             "line": {
              "color": "#E5ECF6",
              "width": 0.5
             },
             "pattern": {
              "fillmode": "overlay",
              "size": 10,
              "solidity": 0.2
             }
            },
            "type": "bar"
           }
          ],
          "barpolar": [
           {
            "marker": {
             "line": {
              "color": "#E5ECF6",
              "width": 0.5
             },
             "pattern": {
              "fillmode": "overlay",
              "size": 10,
              "solidity": 0.2
             }
            },
            "type": "barpolar"
           }
          ],
          "carpet": [
           {
            "aaxis": {
             "endlinecolor": "#2a3f5f",
             "gridcolor": "white",
             "linecolor": "white",
             "minorgridcolor": "white",
             "startlinecolor": "#2a3f5f"
            },
            "baxis": {
             "endlinecolor": "#2a3f5f",
             "gridcolor": "white",
             "linecolor": "white",
             "minorgridcolor": "white",
             "startlinecolor": "#2a3f5f"
            },
            "type": "carpet"
           }
          ],
          "choropleth": [
           {
            "colorbar": {
             "outlinewidth": 0,
             "ticks": ""
            },
            "type": "choropleth"
           }
          ],
          "contour": [
           {
            "colorbar": {
             "outlinewidth": 0,
             "ticks": ""
            },
            "colorscale": [
             [
              0,
              "#0d0887"
             ],
             [
              0.1111111111111111,
              "#46039f"
             ],
             [
              0.2222222222222222,
              "#7201a8"
             ],
             [
              0.3333333333333333,
              "#9c179e"
             ],
             [
              0.4444444444444444,
              "#bd3786"
             ],
             [
              0.5555555555555556,
              "#d8576b"
             ],
             [
              0.6666666666666666,
              "#ed7953"
             ],
             [
              0.7777777777777778,
              "#fb9f3a"
             ],
             [
              0.8888888888888888,
              "#fdca26"
             ],
             [
              1,
              "#f0f921"
             ]
            ],
            "type": "contour"
           }
          ],
          "contourcarpet": [
           {
            "colorbar": {
             "outlinewidth": 0,
             "ticks": ""
            },
            "type": "contourcarpet"
           }
          ],
          "heatmap": [
           {
            "colorbar": {
             "outlinewidth": 0,
             "ticks": ""
            },
            "colorscale": [
             [
              0,
              "#0d0887"
             ],
             [
              0.1111111111111111,
              "#46039f"
             ],
             [
              0.2222222222222222,
              "#7201a8"
             ],
             [
              0.3333333333333333,
              "#9c179e"
             ],
             [
              0.4444444444444444,
              "#bd3786"
             ],
             [
              0.5555555555555556,
              "#d8576b"
             ],
             [
              0.6666666666666666,
              "#ed7953"
             ],
             [
              0.7777777777777778,
              "#fb9f3a"
             ],
             [
              0.8888888888888888,
              "#fdca26"
             ],
             [
              1,
              "#f0f921"
             ]
            ],
            "type": "heatmap"
           }
          ],
          "histogram": [
           {
            "marker": {
             "pattern": {
              "fillmode": "overlay",
              "size": 10,
              "solidity": 0.2
             }
            },
            "type": "histogram"
           }
          ],
          "histogram2d": [
           {
            "colorbar": {
             "outlinewidth": 0,
             "ticks": ""
            },
            "colorscale": [
             [
              0,
              "#0d0887"
             ],
             [
              0.1111111111111111,
              "#46039f"
             ],
             [
              0.2222222222222222,
              "#7201a8"
             ],
             [
              0.3333333333333333,
              "#9c179e"
             ],
             [
              0.4444444444444444,
              "#bd3786"
             ],
             [
              0.5555555555555556,
              "#d8576b"
             ],
             [
              0.6666666666666666,
              "#ed7953"
             ],
             [
              0.7777777777777778,
              "#fb9f3a"
             ],
             [
              0.8888888888888888,
              "#fdca26"
             ],
             [
              1,
              "#f0f921"
             ]
            ],
            "type": "histogram2d"
           }
          ],
          "histogram2dcontour": [
           {
            "colorbar": {
             "outlinewidth": 0,
             "ticks": ""
            },
            "colorscale": [
             [
              0,
              "#0d0887"
             ],
             [
              0.1111111111111111,
              "#46039f"
             ],
             [
              0.2222222222222222,
              "#7201a8"
             ],
             [
              0.3333333333333333,
              "#9c179e"
             ],
             [
              0.4444444444444444,
              "#bd3786"
             ],
             [
              0.5555555555555556,
              "#d8576b"
             ],
             [
              0.6666666666666666,
              "#ed7953"
             ],
             [
              0.7777777777777778,
              "#fb9f3a"
             ],
             [
              0.8888888888888888,
              "#fdca26"
             ],
             [
              1,
              "#f0f921"
             ]
            ],
            "type": "histogram2dcontour"
           }
          ],
          "mesh3d": [
           {
            "colorbar": {
             "outlinewidth": 0,
             "ticks": ""
            },
            "type": "mesh3d"
           }
          ],
          "parcoords": [
           {
            "line": {
             "colorbar": {
              "outlinewidth": 0,
              "ticks": ""
             }
            },
            "type": "parcoords"
           }
          ],
          "pie": [
           {
            "automargin": true,
            "type": "pie"
           }
          ],
          "scatter": [
           {
            "fillpattern": {
             "fillmode": "overlay",
             "size": 10,
             "solidity": 0.2
            },
            "type": "scatter"
           }
          ],
          "scatter3d": [
           {
            "line": {
             "colorbar": {
              "outlinewidth": 0,
              "ticks": ""
             }
            },
            "marker": {
             "colorbar": {
              "outlinewidth": 0,
              "ticks": ""
             }
            },
            "type": "scatter3d"
           }
          ],
          "scattercarpet": [
           {
            "marker": {
             "colorbar": {
              "outlinewidth": 0,
              "ticks": ""
             }
            },
            "type": "scattercarpet"
           }
          ],
          "scattergeo": [
           {
            "marker": {
             "colorbar": {
              "outlinewidth": 0,
              "ticks": ""
             }
            },
            "type": "scattergeo"
           }
          ],
          "scattergl": [
           {
            "marker": {
             "colorbar": {
              "outlinewidth": 0,
              "ticks": ""
             }
            },
            "type": "scattergl"
           }
          ],
          "scattermap": [
           {
            "marker": {
             "colorbar": {
              "outlinewidth": 0,
              "ticks": ""
             }
            },
            "type": "scattermap"
           }
          ],
          "scattermapbox": [
           {
            "marker": {
             "colorbar": {
              "outlinewidth": 0,
              "ticks": ""
             }
            },
            "type": "scattermapbox"
           }
          ],
          "scatterpolar": [
           {
            "marker": {
             "colorbar": {
              "outlinewidth": 0,
              "ticks": ""
             }
            },
            "type": "scatterpolar"
           }
          ],
          "scatterpolargl": [
           {
            "marker": {
             "colorbar": {
              "outlinewidth": 0,
              "ticks": ""
             }
            },
            "type": "scatterpolargl"
           }
          ],
          "scatterternary": [
           {
            "marker": {
             "colorbar": {
              "outlinewidth": 0,
              "ticks": ""
             }
            },
            "type": "scatterternary"
           }
          ],
          "surface": [
           {
            "colorbar": {
             "outlinewidth": 0,
             "ticks": ""
            },
            "colorscale": [
             [
              0,
              "#0d0887"
             ],
             [
              0.1111111111111111,
              "#46039f"
             ],
             [
              0.2222222222222222,
              "#7201a8"
             ],
             [
              0.3333333333333333,
              "#9c179e"
             ],
             [
              0.4444444444444444,
              "#bd3786"
             ],
             [
              0.5555555555555556,
              "#d8576b"
             ],
             [
              0.6666666666666666,
              "#ed7953"
             ],
             [
              0.7777777777777778,
              "#fb9f3a"
             ],
             [
              0.8888888888888888,
              "#fdca26"
             ],
             [
              1,
              "#f0f921"
             ]
            ],
            "type": "surface"
           }
          ],
          "table": [
           {
            "cells": {
             "fill": {
              "color": "#EBF0F8"
             },
             "line": {
              "color": "white"
             }
            },
            "header": {
             "fill": {
              "color": "#C8D4E3"
             },
             "line": {
              "color": "white"
             }
            },
            "type": "table"
           }
          ]
         },
         "layout": {
          "annotationdefaults": {
           "arrowcolor": "#2a3f5f",
           "arrowhead": 0,
           "arrowwidth": 1
          },
          "autotypenumbers": "strict",
          "coloraxis": {
           "colorbar": {
            "outlinewidth": 0,
            "ticks": ""
           }
          },
          "colorscale": {
           "diverging": [
            [
             0,
             "#8e0152"
            ],
            [
             0.1,
             "#c51b7d"
            ],
            [
             0.2,
             "#de77ae"
            ],
            [
             0.3,
             "#f1b6da"
            ],
            [
             0.4,
             "#fde0ef"
            ],
            [
             0.5,
             "#f7f7f7"
            ],
            [
             0.6,
             "#e6f5d0"
            ],
            [
             0.7,
             "#b8e186"
            ],
            [
             0.8,
             "#7fbc41"
            ],
            [
             0.9,
             "#4d9221"
            ],
            [
             1,
             "#276419"
            ]
           ],
           "sequential": [
            [
             0,
             "#0d0887"
            ],
            [
             0.1111111111111111,
             "#46039f"
            ],
            [
             0.2222222222222222,
             "#7201a8"
            ],
            [
             0.3333333333333333,
             "#9c179e"
            ],
            [
             0.4444444444444444,
             "#bd3786"
            ],
            [
             0.5555555555555556,
             "#d8576b"
            ],
            [
             0.6666666666666666,
             "#ed7953"
            ],
            [
             0.7777777777777778,
             "#fb9f3a"
            ],
            [
             0.8888888888888888,
             "#fdca26"
            ],
            [
             1,
             "#f0f921"
            ]
           ],
           "sequentialminus": [
            [
             0,
             "#0d0887"
            ],
            [
             0.1111111111111111,
             "#46039f"
            ],
            [
             0.2222222222222222,
             "#7201a8"
            ],
            [
             0.3333333333333333,
             "#9c179e"
            ],
            [
             0.4444444444444444,
             "#bd3786"
            ],
            [
             0.5555555555555556,
             "#d8576b"
            ],
            [
             0.6666666666666666,
             "#ed7953"
            ],
            [
             0.7777777777777778,
             "#fb9f3a"
            ],
            [
             0.8888888888888888,
             "#fdca26"
            ],
            [
             1,
             "#f0f921"
            ]
           ]
          },
          "colorway": [
           "#636efa",
           "#EF553B",
           "#00cc96",
           "#ab63fa",
           "#FFA15A",
           "#19d3f3",
           "#FF6692",
           "#B6E880",
           "#FF97FF",
           "#FECB52"
          ],
          "font": {
           "color": "#2a3f5f"
          },
          "geo": {
           "bgcolor": "white",
           "lakecolor": "white",
           "landcolor": "#E5ECF6",
           "showlakes": true,
           "showland": true,
           "subunitcolor": "white"
          },
          "hoverlabel": {
           "align": "left"
          },
          "hovermode": "closest",
          "mapbox": {
           "style": "light"
          },
          "paper_bgcolor": "white",
          "plot_bgcolor": "#E5ECF6",
          "polar": {
           "angularaxis": {
            "gridcolor": "white",
            "linecolor": "white",
            "ticks": ""
           },
           "bgcolor": "#E5ECF6",
           "radialaxis": {
            "gridcolor": "white",
            "linecolor": "white",
            "ticks": ""
           }
          },
          "scene": {
           "xaxis": {
            "backgroundcolor": "#E5ECF6",
            "gridcolor": "white",
            "gridwidth": 2,
            "linecolor": "white",
            "showbackground": true,
            "ticks": "",
            "zerolinecolor": "white"
           },
           "yaxis": {
            "backgroundcolor": "#E5ECF6",
            "gridcolor": "white",
            "gridwidth": 2,
            "linecolor": "white",
            "showbackground": true,
            "ticks": "",
            "zerolinecolor": "white"
           },
           "zaxis": {
            "backgroundcolor": "#E5ECF6",
            "gridcolor": "white",
            "gridwidth": 2,
            "linecolor": "white",
            "showbackground": true,
            "ticks": "",
            "zerolinecolor": "white"
           }
          },
          "shapedefaults": {
           "line": {
            "color": "#2a3f5f"
           }
          },
          "ternary": {
           "aaxis": {
            "gridcolor": "white",
            "linecolor": "white",
            "ticks": ""
           },
           "baxis": {
            "gridcolor": "white",
            "linecolor": "white",
            "ticks": ""
           },
           "bgcolor": "#E5ECF6",
           "caxis": {
            "gridcolor": "white",
            "linecolor": "white",
            "ticks": ""
           }
          },
          "title": {
           "x": 0.05
          },
          "xaxis": {
           "automargin": true,
           "gridcolor": "white",
           "linecolor": "white",
           "ticks": "",
           "title": {
            "standoff": 15
           },
           "zerolinecolor": "white",
           "zerolinewidth": 2
          },
          "yaxis": {
           "automargin": true,
           "gridcolor": "white",
           "linecolor": "white",
           "ticks": "",
           "title": {
            "standoff": 15
           },
           "zerolinecolor": "white",
           "zerolinewidth": 2
          }
         }
        },
        "title": {
         "text": "Historical Bitcoin Prices (2015-2018) with the Slider"
        },
        "xaxis": {
         "rangeselector": {
          "buttons": [
           {
            "count": 1,
            "label": "1m",
            "step": "month",
            "stepmode": "backward"
           },
           {
            "count": 6,
            "label": "6m",
            "step": "month",
            "stepmode": "backward"
           },
           {
            "count": 12,
            "label": "1y",
            "step": "month",
            "stepmode": "backward"
           },
           {
            "count": 36,
            "label": "3y",
            "step": "month",
            "stepmode": "backward"
           },
           {
            "step": "all"
           }
          ]
         },
         "rangeslider": {
          "visible": true
         },
         "type": "date"
        }
       }
      },
      "text/html": [
       "<div>            <script src=\"https://cdnjs.cloudflare.com/ajax/libs/mathjax/2.7.5/MathJax.js?config=TeX-AMS-MML_SVG\"></script><script type=\"text/javascript\">if (window.MathJax && window.MathJax.Hub && window.MathJax.Hub.Config) {window.MathJax.Hub.Config({SVG: {font: \"STIX-Web\"}});}</script>                <script type=\"text/javascript\">window.PlotlyConfig = {MathJaxConfig: 'local'};</script>\n",
       "        <script charset=\"utf-8\" src=\"https://cdn.plot.ly/plotly-3.0.0.min.js\"></script>                <div id=\"c5e977dd-0a0b-4504-9764-65040e4ce15a\" class=\"plotly-graph-div\" style=\"height:525px; width:100%;\"></div>            <script type=\"text/javascript\">                window.PLOTLYENV=window.PLOTLYENV || {};                                if (document.getElementById(\"c5e977dd-0a0b-4504-9764-65040e4ce15a\")) {                    Plotly.newPlot(                        \"c5e977dd-0a0b-4504-9764-65040e4ce15a\",                        [{\"mode\":\"lines\",\"name\":\"Open\",\"x\":[\"2015-01-05T00:00:00.000000000\",\"2015-01-12T00:00:00.000000000\",\"2015-01-19T00:00:00.000000000\",\"2015-01-26T00:00:00.000000000\",\"2015-02-02T00:00:00.000000000\",\"2015-02-09T00:00:00.000000000\",\"2015-02-16T00:00:00.000000000\",\"2015-02-23T00:00:00.000000000\",\"2015-03-02T00:00:00.000000000\",\"2015-03-09T00:00:00.000000000\",\"2015-03-16T00:00:00.000000000\",\"2015-03-23T00:00:00.000000000\",\"2015-03-30T00:00:00.000000000\",\"2015-04-06T00:00:00.000000000\",\"2015-04-13T00:00:00.000000000\",\"2015-04-20T00:00:00.000000000\",\"2015-04-27T00:00:00.000000000\",\"2015-05-04T00:00:00.000000000\",\"2015-05-11T00:00:00.000000000\",\"2015-05-18T00:00:00.000000000\",\"2015-05-25T00:00:00.000000000\",\"2015-06-01T00:00:00.000000000\",\"2015-06-08T00:00:00.000000000\",\"2015-06-15T00:00:00.000000000\",\"2015-06-22T00:00:00.000000000\",\"2015-06-29T00:00:00.000000000\",\"2015-07-06T00:00:00.000000000\",\"2015-07-13T00:00:00.000000000\",\"2015-07-20T00:00:00.000000000\",\"2015-07-27T00:00:00.000000000\",\"2015-08-03T00:00:00.000000000\",\"2015-08-10T00:00:00.000000000\",\"2015-08-17T00:00:00.000000000\",\"2015-08-24T00:00:00.000000000\",\"2015-08-31T00:00:00.000000000\",\"2015-09-07T00:00:00.000000000\",\"2015-09-14T00:00:00.000000000\",\"2015-09-21T00:00:00.000000000\",\"2015-09-28T00:00:00.000000000\",\"2015-10-05T00:00:00.000000000\",\"2015-10-12T00:00:00.000000000\",\"2015-10-19T00:00:00.000000000\",\"2015-10-26T00:00:00.000000000\",\"2015-11-02T00:00:00.000000000\",\"2015-11-09T00:00:00.000000000\",\"2015-11-16T00:00:00.000000000\",\"2015-11-23T00:00:00.000000000\",\"2015-11-30T00:00:00.000000000\",\"2015-12-07T00:00:00.000000000\",\"2015-12-14T00:00:00.000000000\",\"2015-12-21T00:00:00.000000000\",\"2015-12-28T00:00:00.000000000\",\"2016-01-04T00:00:00.000000000\",\"2016-01-11T00:00:00.000000000\",\"2016-01-18T00:00:00.000000000\",\"2016-01-25T00:00:00.000000000\",\"2016-02-01T00:00:00.000000000\",\"2016-02-08T00:00:00.000000000\",\"2016-02-15T00:00:00.000000000\",\"2016-02-22T00:00:00.000000000\",\"2016-02-29T00:00:00.000000000\",\"2016-03-07T00:00:00.000000000\",\"2016-03-14T00:00:00.000000000\",\"2016-03-21T00:00:00.000000000\",\"2016-03-28T00:00:00.000000000\",\"2016-04-04T00:00:00.000000000\",\"2016-04-11T00:00:00.000000000\",\"2016-04-18T00:00:00.000000000\",\"2016-04-25T00:00:00.000000000\",\"2016-05-02T00:00:00.000000000\",\"2016-05-09T00:00:00.000000000\",\"2016-05-16T00:00:00.000000000\",\"2016-05-23T00:00:00.000000000\",\"2016-05-30T00:00:00.000000000\",\"2016-06-06T00:00:00.000000000\",\"2016-06-13T00:00:00.000000000\",\"2016-06-20T00:00:00.000000000\",\"2016-06-27T00:00:00.000000000\",\"2016-07-04T00:00:00.000000000\",\"2016-07-11T00:00:00.000000000\",\"2016-07-18T00:00:00.000000000\",\"2016-07-25T00:00:00.000000000\",\"2016-08-01T00:00:00.000000000\",\"2016-08-08T00:00:00.000000000\",\"2016-08-15T00:00:00.000000000\",\"2016-08-22T00:00:00.000000000\",\"2016-08-29T00:00:00.000000000\",\"2016-09-05T00:00:00.000000000\",\"2016-09-12T00:00:00.000000000\",\"2016-09-19T00:00:00.000000000\",\"2016-09-26T00:00:00.000000000\",\"2016-10-03T00:00:00.000000000\",\"2016-10-10T00:00:00.000000000\",\"2016-10-17T00:00:00.000000000\",\"2016-10-24T00:00:00.000000000\",\"2016-10-31T00:00:00.000000000\",\"2016-11-07T00:00:00.000000000\",\"2016-11-14T00:00:00.000000000\",\"2016-11-21T00:00:00.000000000\",\"2016-11-28T00:00:00.000000000\",\"2016-12-05T00:00:00.000000000\",\"2016-12-12T00:00:00.000000000\",\"2016-12-19T00:00:00.000000000\",\"2016-12-26T00:00:00.000000000\",\"2017-01-02T00:00:00.000000000\",\"2017-01-09T00:00:00.000000000\",\"2017-01-16T00:00:00.000000000\",\"2017-01-23T00:00:00.000000000\",\"2017-01-30T00:00:00.000000000\",\"2017-02-06T00:00:00.000000000\",\"2017-02-13T00:00:00.000000000\",\"2017-02-20T00:00:00.000000000\",\"2017-02-27T00:00:00.000000000\",\"2017-03-06T00:00:00.000000000\",\"2017-03-13T00:00:00.000000000\",\"2017-03-20T00:00:00.000000000\",\"2017-03-27T00:00:00.000000000\",\"2017-04-03T00:00:00.000000000\",\"2017-04-10T00:00:00.000000000\",\"2017-04-17T00:00:00.000000000\",\"2017-04-24T00:00:00.000000000\",\"2017-05-01T00:00:00.000000000\",\"2017-05-08T00:00:00.000000000\",\"2017-05-15T00:00:00.000000000\",\"2017-05-22T00:00:00.000000000\",\"2017-05-29T00:00:00.000000000\",\"2017-06-05T00:00:00.000000000\",\"2017-06-12T00:00:00.000000000\",\"2017-06-19T00:00:00.000000000\",\"2017-06-26T00:00:00.000000000\",\"2017-07-03T00:00:00.000000000\",\"2017-07-10T00:00:00.000000000\",\"2017-07-17T00:00:00.000000000\",\"2017-07-24T00:00:00.000000000\",\"2017-07-31T00:00:00.000000000\",\"2017-08-07T00:00:00.000000000\",\"2017-08-14T00:00:00.000000000\",\"2017-08-21T00:00:00.000000000\",\"2017-08-28T00:00:00.000000000\",\"2017-09-04T00:00:00.000000000\",\"2017-09-11T00:00:00.000000000\",\"2017-09-18T00:00:00.000000000\",\"2017-09-25T00:00:00.000000000\",\"2017-10-02T00:00:00.000000000\",\"2017-10-09T00:00:00.000000000\",\"2017-10-16T00:00:00.000000000\",\"2017-10-23T00:00:00.000000000\",\"2017-10-30T00:00:00.000000000\",\"2017-11-06T00:00:00.000000000\",\"2017-11-13T00:00:00.000000000\",\"2017-11-20T00:00:00.000000000\",\"2017-11-27T00:00:00.000000000\",\"2017-12-04T00:00:00.000000000\",\"2017-12-11T00:00:00.000000000\",\"2017-12-18T00:00:00.000000000\",\"2017-12-25T00:00:00.000000000\",\"2018-01-01T00:00:00.000000000\",\"2018-01-08T00:00:00.000000000\",\"2018-01-15T00:00:00.000000000\",\"2018-01-22T00:00:00.000000000\",\"2018-01-29T00:00:00.000000000\",\"2018-02-05T00:00:00.000000000\",\"2018-02-12T00:00:00.000000000\",\"2018-02-19T00:00:00.000000000\",\"2018-02-26T00:00:00.000000000\",\"2018-03-05T00:00:00.000000000\",\"2018-03-12T00:00:00.000000000\",\"2018-03-19T00:00:00.000000000\",\"2018-03-26T00:00:00.000000000\",\"2018-04-02T00:00:00.000000000\",\"2018-04-09T00:00:00.000000000\",\"2018-04-16T00:00:00.000000000\",\"2018-04-23T00:00:00.000000000\",\"2018-04-30T00:00:00.000000000\",\"2018-05-07T00:00:00.000000000\",\"2018-05-14T00:00:00.000000000\",\"2018-05-21T00:00:00.000000000\",\"2018-05-28T00:00:00.000000000\",\"2018-06-04T00:00:00.000000000\",\"2018-06-11T00:00:00.000000000\",\"2018-06-18T00:00:00.000000000\",\"2018-06-25T00:00:00.000000000\",\"2018-07-02T00:00:00.000000000\",\"2018-07-09T00:00:00.000000000\",\"2018-07-16T00:00:00.000000000\",\"2018-07-23T00:00:00.000000000\",\"2018-07-30T00:00:00.000000000\",\"2018-08-06T00:00:00.000000000\",\"2018-08-13T00:00:00.000000000\",\"2018-08-20T00:00:00.000000000\",\"2018-08-27T00:00:00.000000000\",\"2018-09-03T00:00:00.000000000\",\"2018-09-10T00:00:00.000000000\",\"2018-09-17T00:00:00.000000000\",\"2018-09-24T00:00:00.000000000\",\"2018-10-01T00:00:00.000000000\",\"2018-10-08T00:00:00.000000000\",\"2018-10-15T00:00:00.000000000\",\"2018-10-22T00:00:00.000000000\",\"2018-10-29T00:00:00.000000000\",\"2018-11-05T00:00:00.000000000\",\"2018-11-12T00:00:00.000000000\"],\"y\":{\"dtype\":\"f8\",\"bdata\":\"MzMzMzOLcEDNzMzMzIxwQDMzMzMzU2pAMzMzMzODb0CamZmZmSlsQGZmZmZm9mtAmpmZmZkpbUBmZmZmZnZtQGZmZmZmHnBAAAAAAAAocUBmZmZmZs5xQJqZmZmZyXBAMzMzMzNDbkCamZmZmTlwQM3MzMzMfG1AAAAAAADga0BmZmZmZlZrQAAAAAAAAG5AAAAAAAAAbkCamZmZmYltQAAAAAAAIG5AmpmZmZm5bEAAAAAAAPBrQJqZmZmZOW1AMzMzMzODbkDNzMzMzBxvQJqZmZmZ4XBAZmZmZmZmc0AzMzMzMxNxQM3MzMzMPHJAZmZmZmaWcUBmZmZmZn5wQJqZmZmZEXBAmpmZmZlZbEDNzMzMzIxsQM3MzMzM\\u002fG1AZmZmZmbGbEAzMzMzM+NsQAAAAAAAEG1AmpmZmZnJbUAzMzMzM\\u002fNuQDMzMzMzW3BAZmZmZmb+cUAAAAAAADB0QJqZmZmZOXdAAAAAAADYc0DNzMzMzCx0QM3MzMzMLHdAZmZmZmaWeEAzMzMzMyt7QM3MzMzMnHtAZmZmZmZmekAzMzMzM+t6QDMzMzMz43tAAAAAAADod0CamZmZmSF5QM3MzMzMHHdAZmZmZmaed0AAAAAAAFh5QGZmZmZmXntAAAAAAAAIe0AAAAAAAGB5QGZmZmZmxnlAAAAAAAC4eUCamZmZmYl6QJqZmZmZMXpAzczMzMxEekDNzMzMzKR6QJqZmZmZmXxAMzMzMzNDfEBmZmZmZp58QJqZmZmZoXxAmpmZmZl5e0AAAAAAACCAQDMzMzMz94FAAAAAAADUhEAAAAAAAMiHQDMzMzMzi4NAzczMzMyshEDNzMzMzDiEQGZmZmZmIoVAZmZmZmaahEAzMzMzM2+DQGZmZmZmdoJAzczMzMzIgUCamZmZmSWCQAAAAAAA+IFAAAAAAAAMg0DNzMzMzOyCQJqZmZmZFYNAAAAAAADMgkCamZmZmRWDQGZmZmZmPoNAzczMzMwAhEAAAAAAAGiEQGZmZmZmyoVAMzMzMzMvhkAAAAAAAPCFQAAAAAAAxIZAMzMzMzPLhkAzMzMzM\\u002fOHQDMzMzMz\\u002f4dAAAAAAACoiEDNzMzMzNiLQDMzMzMzG49AMzMzMzMnjECamZmZmamJQGZmZmZmtoxAAAAAAACUjEDNzMzMzMCPQAAAAAAAJI9AmpmZmZljkEBmZmZmZk6SQM3MzMzM3JNAZmZmZmYkk0DNzMzMzPSPQDMzMzMzS45AmpmZmZklkUAzMzMzM9GSQDMzMzMzY5JAZmZmZmaEk0CamZmZmR+VQJqZmZmZSZhAZmZmZmaym0DNzMzMzPCfQAAAAAAAGqFAMzMzMzO4o0DNzMzMzDqnQDMzMzMz16NAMzMzMzPbo0AAAAAAANGjQM3MzMzMnqNAZmZmZmbonUAzMzMzM4mlQAAAAAAAnaVAAAAAAABAqUAzMzMzM72vQDMzMzMzxa9AzczMzMz5sEBmZmZm5gSyQGZmZmbmlbBAMzMzMzPTrEAAAAAAAKesQJqZmZkZM7FAMzMzM7MDskBmZmZmZi22QGZmZmbmXrdAMzMzM7MDuEAAAAAAgN28QJqZmZkZ9rZAmpmZmZlqv0AzMzMzMzPCQJqZmZkZ9sVAAAAAAEBqzUDNzMzMbJ7SQAAAAAAA78pAAAAAAEANy0BmZmZmJrLPQAAAAADAv8pAAAAAAMCmxkAzMzMzcwnHQGZmZmZmDsBAmpmZmZmTv0DNzMzMTE7EQDMzMzNzu8JAmpmZmdlLxkBmZmZm5p\\u002fCQDMzMzNzBMBAAAAAAACNwEBmZmZmZqm6QDMzMzOze7tAmpmZmRlVwEBmZmZmpjTBQGZmZmbmY8JAzczMzIzZwkAzMzMzs\\u002frAQAAAAADAqMBAzczMzEzHvEDNzMzMTDG+QDMzMzMzd7pAAAAAAIA8uUCamZmZGQu4QJqZmZkZzbhAmpmZmRk7ukDNzMzMzNq4QGZmZmZm9LxAmpmZmVkLwEDNzMzMzHO7QAAAAAAAqbhAMzMzMzNKuUAzMzMzszi6QM3MzMzMebxAAAAAAIBeuEAzMzMzM2S5QM3MzMxMObpAMzMzMzPruUAAAAAAANO5QM3MzMzMtrhAAAAAAAC3uUCamZmZGVa5QDMzMzMzTrlAmpmZmRkbuUA=\"},\"type\":\"scatter\"},{\"mode\":\"lines\",\"name\":\"Price\",\"x\":[\"2015-01-05T00:00:00.000000000\",\"2015-01-12T00:00:00.000000000\",\"2015-01-19T00:00:00.000000000\",\"2015-01-26T00:00:00.000000000\",\"2015-02-02T00:00:00.000000000\",\"2015-02-09T00:00:00.000000000\",\"2015-02-16T00:00:00.000000000\",\"2015-02-23T00:00:00.000000000\",\"2015-03-02T00:00:00.000000000\",\"2015-03-09T00:00:00.000000000\",\"2015-03-16T00:00:00.000000000\",\"2015-03-23T00:00:00.000000000\",\"2015-03-30T00:00:00.000000000\",\"2015-04-06T00:00:00.000000000\",\"2015-04-13T00:00:00.000000000\",\"2015-04-20T00:00:00.000000000\",\"2015-04-27T00:00:00.000000000\",\"2015-05-04T00:00:00.000000000\",\"2015-05-11T00:00:00.000000000\",\"2015-05-18T00:00:00.000000000\",\"2015-05-25T00:00:00.000000000\",\"2015-06-01T00:00:00.000000000\",\"2015-06-08T00:00:00.000000000\",\"2015-06-15T00:00:00.000000000\",\"2015-06-22T00:00:00.000000000\",\"2015-06-29T00:00:00.000000000\",\"2015-07-06T00:00:00.000000000\",\"2015-07-13T00:00:00.000000000\",\"2015-07-20T00:00:00.000000000\",\"2015-07-27T00:00:00.000000000\",\"2015-08-03T00:00:00.000000000\",\"2015-08-10T00:00:00.000000000\",\"2015-08-17T00:00:00.000000000\",\"2015-08-24T00:00:00.000000000\",\"2015-08-31T00:00:00.000000000\",\"2015-09-07T00:00:00.000000000\",\"2015-09-14T00:00:00.000000000\",\"2015-09-21T00:00:00.000000000\",\"2015-09-28T00:00:00.000000000\",\"2015-10-05T00:00:00.000000000\",\"2015-10-12T00:00:00.000000000\",\"2015-10-19T00:00:00.000000000\",\"2015-10-26T00:00:00.000000000\",\"2015-11-02T00:00:00.000000000\",\"2015-11-09T00:00:00.000000000\",\"2015-11-16T00:00:00.000000000\",\"2015-11-23T00:00:00.000000000\",\"2015-11-30T00:00:00.000000000\",\"2015-12-07T00:00:00.000000000\",\"2015-12-14T00:00:00.000000000\",\"2015-12-21T00:00:00.000000000\",\"2015-12-28T00:00:00.000000000\",\"2016-01-04T00:00:00.000000000\",\"2016-01-11T00:00:00.000000000\",\"2016-01-18T00:00:00.000000000\",\"2016-01-25T00:00:00.000000000\",\"2016-02-01T00:00:00.000000000\",\"2016-02-08T00:00:00.000000000\",\"2016-02-15T00:00:00.000000000\",\"2016-02-22T00:00:00.000000000\",\"2016-02-29T00:00:00.000000000\",\"2016-03-07T00:00:00.000000000\",\"2016-03-14T00:00:00.000000000\",\"2016-03-21T00:00:00.000000000\",\"2016-03-28T00:00:00.000000000\",\"2016-04-04T00:00:00.000000000\",\"2016-04-11T00:00:00.000000000\",\"2016-04-18T00:00:00.000000000\",\"2016-04-25T00:00:00.000000000\",\"2016-05-02T00:00:00.000000000\",\"2016-05-09T00:00:00.000000000\",\"2016-05-16T00:00:00.000000000\",\"2016-05-23T00:00:00.000000000\",\"2016-05-30T00:00:00.000000000\",\"2016-06-06T00:00:00.000000000\",\"2016-06-13T00:00:00.000000000\",\"2016-06-20T00:00:00.000000000\",\"2016-06-27T00:00:00.000000000\",\"2016-07-04T00:00:00.000000000\",\"2016-07-11T00:00:00.000000000\",\"2016-07-18T00:00:00.000000000\",\"2016-07-25T00:00:00.000000000\",\"2016-08-01T00:00:00.000000000\",\"2016-08-08T00:00:00.000000000\",\"2016-08-15T00:00:00.000000000\",\"2016-08-22T00:00:00.000000000\",\"2016-08-29T00:00:00.000000000\",\"2016-09-05T00:00:00.000000000\",\"2016-09-12T00:00:00.000000000\",\"2016-09-19T00:00:00.000000000\",\"2016-09-26T00:00:00.000000000\",\"2016-10-03T00:00:00.000000000\",\"2016-10-10T00:00:00.000000000\",\"2016-10-17T00:00:00.000000000\",\"2016-10-24T00:00:00.000000000\",\"2016-10-31T00:00:00.000000000\",\"2016-11-07T00:00:00.000000000\",\"2016-11-14T00:00:00.000000000\",\"2016-11-21T00:00:00.000000000\",\"2016-11-28T00:00:00.000000000\",\"2016-12-05T00:00:00.000000000\",\"2016-12-12T00:00:00.000000000\",\"2016-12-19T00:00:00.000000000\",\"2016-12-26T00:00:00.000000000\",\"2017-01-02T00:00:00.000000000\",\"2017-01-09T00:00:00.000000000\",\"2017-01-16T00:00:00.000000000\",\"2017-01-23T00:00:00.000000000\",\"2017-01-30T00:00:00.000000000\",\"2017-02-06T00:00:00.000000000\",\"2017-02-13T00:00:00.000000000\",\"2017-02-20T00:00:00.000000000\",\"2017-02-27T00:00:00.000000000\",\"2017-03-06T00:00:00.000000000\",\"2017-03-13T00:00:00.000000000\",\"2017-03-20T00:00:00.000000000\",\"2017-03-27T00:00:00.000000000\",\"2017-04-03T00:00:00.000000000\",\"2017-04-10T00:00:00.000000000\",\"2017-04-17T00:00:00.000000000\",\"2017-04-24T00:00:00.000000000\",\"2017-05-01T00:00:00.000000000\",\"2017-05-08T00:00:00.000000000\",\"2017-05-15T00:00:00.000000000\",\"2017-05-22T00:00:00.000000000\",\"2017-05-29T00:00:00.000000000\",\"2017-06-05T00:00:00.000000000\",\"2017-06-12T00:00:00.000000000\",\"2017-06-19T00:00:00.000000000\",\"2017-06-26T00:00:00.000000000\",\"2017-07-03T00:00:00.000000000\",\"2017-07-10T00:00:00.000000000\",\"2017-07-17T00:00:00.000000000\",\"2017-07-24T00:00:00.000000000\",\"2017-07-31T00:00:00.000000000\",\"2017-08-07T00:00:00.000000000\",\"2017-08-14T00:00:00.000000000\",\"2017-08-21T00:00:00.000000000\",\"2017-08-28T00:00:00.000000000\",\"2017-09-04T00:00:00.000000000\",\"2017-09-11T00:00:00.000000000\",\"2017-09-18T00:00:00.000000000\",\"2017-09-25T00:00:00.000000000\",\"2017-10-02T00:00:00.000000000\",\"2017-10-09T00:00:00.000000000\",\"2017-10-16T00:00:00.000000000\",\"2017-10-23T00:00:00.000000000\",\"2017-10-30T00:00:00.000000000\",\"2017-11-06T00:00:00.000000000\",\"2017-11-13T00:00:00.000000000\",\"2017-11-20T00:00:00.000000000\",\"2017-11-27T00:00:00.000000000\",\"2017-12-04T00:00:00.000000000\",\"2017-12-11T00:00:00.000000000\",\"2017-12-18T00:00:00.000000000\",\"2017-12-25T00:00:00.000000000\",\"2018-01-01T00:00:00.000000000\",\"2018-01-08T00:00:00.000000000\",\"2018-01-15T00:00:00.000000000\",\"2018-01-22T00:00:00.000000000\",\"2018-01-29T00:00:00.000000000\",\"2018-02-05T00:00:00.000000000\",\"2018-02-12T00:00:00.000000000\",\"2018-02-19T00:00:00.000000000\",\"2018-02-26T00:00:00.000000000\",\"2018-03-05T00:00:00.000000000\",\"2018-03-12T00:00:00.000000000\",\"2018-03-19T00:00:00.000000000\",\"2018-03-26T00:00:00.000000000\",\"2018-04-02T00:00:00.000000000\",\"2018-04-09T00:00:00.000000000\",\"2018-04-16T00:00:00.000000000\",\"2018-04-23T00:00:00.000000000\",\"2018-04-30T00:00:00.000000000\",\"2018-05-07T00:00:00.000000000\",\"2018-05-14T00:00:00.000000000\",\"2018-05-21T00:00:00.000000000\",\"2018-05-28T00:00:00.000000000\",\"2018-06-04T00:00:00.000000000\",\"2018-06-11T00:00:00.000000000\",\"2018-06-18T00:00:00.000000000\",\"2018-06-25T00:00:00.000000000\",\"2018-07-02T00:00:00.000000000\",\"2018-07-09T00:00:00.000000000\",\"2018-07-16T00:00:00.000000000\",\"2018-07-23T00:00:00.000000000\",\"2018-07-30T00:00:00.000000000\",\"2018-08-06T00:00:00.000000000\",\"2018-08-13T00:00:00.000000000\",\"2018-08-20T00:00:00.000000000\",\"2018-08-27T00:00:00.000000000\",\"2018-09-03T00:00:00.000000000\",\"2018-09-10T00:00:00.000000000\",\"2018-09-17T00:00:00.000000000\",\"2018-09-24T00:00:00.000000000\",\"2018-10-01T00:00:00.000000000\",\"2018-10-08T00:00:00.000000000\",\"2018-10-15T00:00:00.000000000\",\"2018-10-22T00:00:00.000000000\",\"2018-10-29T00:00:00.000000000\",\"2018-11-05T00:00:00.000000000\",\"2018-11-12T00:00:00.000000000\"],\"y\":{\"dtype\":\"f8\",\"bdata\":\"zczMzMwscUDNzMzMzNRwQM3MzMzM\\u002fGpAMzMzMzPTcEDNzMzMzNxtQJqZmZmZiWtAmpmZmZl5bUCamZmZmdltQM3MzMzMHHFAAAAAAAAgckBmZmZmZiZyQAAAAAAAmHBAmpmZmZnZbkAAAAAAAOBvQDMzMzMz82tAZmZmZmYGbEAAAAAAAKBsQAAAAAAA4G1AmpmZmZk5bkAzMzMzMxNtQM3MzMzMrG1AMzMzMzPja0AzMzMzM5NsQAAAAAAAoG1AAAAAAADwbkAAAAAAABBwQJqZmZmZ0XBAZmZmZmYmckAzMzMzM1txQAAAAAAAUHJAmpmZmZmZcUDNzMzMzHRwQJqZmZmZEXBAzczMzMxsakAAAAAAALBsQDMzMzMz821AzczMzMy8bECamZmZmUlsQM3MzMzM3G1AMzMzMzMDbkDNzMzMzKxuQM3MzMzMfHBAmpmZmZnRcUDNzMzMzHR2QDMzMzMzw3dAMzMzMzOjdECamZmZmSF0QAAAAAAAoHdAzczMzMykeEAAAAAAAKB7QJqZmZmZWXtAzczMzMxcekDNzMzMzBR7QDMzMzMz+3tAZmZmZmYGeEDNzMzMzIx4QDMzMzMzQ3dAmpmZmZlJd0CamZmZmRF5QM3MzMzMXHtAMzMzMzNDe0BmZmZmZu55QM3MzMzM5HlAmpmZmZmxeUAzMzMzM2N6QM3MzMzMNHpAZmZmZmZWekAzMzMzM7t6QDMzMzMz23xAMzMzMzPDe0BmZmZmZsZ8QGZmZmZmbnxAMzMzMzO7e0BmZmZmZqKAQM3MzMzMPIJAzczMzMzghUAAAAAAAPCGQJqZmZmZJYRAmpmZmZkZhUCamZmZmTWEQDMzMzMz84RAAAAAAABwhEAAAAAAAPiCQJqZmZmZaYJAAAAAAAC4gUAAAAAAAFyCQJqZmZmZ8YFAZmZmZmbugkAAAAAAAACDQGZmZmZmDoNAAAAAAAD0gkDNzMzMzByDQGZmZmZmSoNAMzMzMzPrg0AAAAAAAFSEQJqZmZmZ1YVAMzMzMzMLhkDNzMzMzASGQJqZmZmZAYdAZmZmZmbqhkBmZmZmZpKHQAAAAAAAVIhAZmZmZmauiEAzMzMzMxOMQAAAAAAAyI9AZmZmZmYejEBmZmZmZtqJQAAAAAAAzIxAmpmZmZnFjEDNzMzMzAKQQDMzMzMzG49AZmZmZmbWkEAzMzMzM5OSQAAAAAAA9JNAzczMzMxYk0AAAAAAAF6QQGZmZmZmVJBAZmZmZmbukUDNzMzMzNqSQAAAAAAAqJJAzczMzMyAk0AzMzMzMx+WQAAAAAAAAppAmpmZmZmzmkDNzMzMzJigQGZmZmZmzKFAAAAAAAAipUCamZmZmcGkQJqZmZmZcaRAMzMzMzMco0AAAAAAABmkQAAAAAAAUKJAzczMzMxyoUDNzMzMzJalQJqZmZmZhqZAzczMzMyTqkBmZmZm5uewQDMzMzMzSq9AzczMzEwmsUAAAAAAgKuwQGZmZmbmebBAzczMzEwEsECamZmZmbmuQM3MzMxMMbFAAAAAAICpskDNzMzMTH+2QJqZmZmZD7dAzczMzEzst0AzMzMzMy+7QAAAAACAerlAmpmZmVkawECamZmZmQLDQDMzMzPzs8ZAAAAAACBX0EAzMzMzE4fSQAAAAADABMtAMzMzM3NCykCamZmZGUDNQAAAAADAwMpAZmZmZmY4xUBmZmZmZvbFQAAAAACAGrtAAAAAAMBjwUAzMzMzs9DFQM3MzMyMFsRAzczMzEwhxkAzMzMzs9jBQGZmZmZm1MBAAAAAAIDPv0BmZmZmZpy7QGZmZmbmfbpAAAAAAACGv0BmZmZmZnzBQM3MzMyMDsJAzczMzMxrwkDNzMzMDPHAQGZmZmamacBAzczMzEzPu0DNzMzMTFC9QGZmZmbm5bpAzczMzMw\\u002fukCamZmZmXC4QAAAAACA27lAmpmZmRkLukBmZmZm5km6QAAAAAAAK75AmpmZmRnxv0CamZmZmR+7QM3MzMxMb7hAmpmZmRl8uECamZmZmfG6QDMzMzMzYLxAAAAAAACxuEBmZmZm5mu4QJqZmZkZuLlAMzMzMzPQuUCamZmZmQ26QM3MzMzMK7pAzczMzMybuUAAAAAAAL+4QDMzMzOzO7lAmpmZmRkuuUA=\"},\"type\":\"scatter\"}],                        {\"template\":{\"data\":{\"barpolar\":[{\"marker\":{\"line\":{\"color\":\"#E5ECF6\",\"width\":0.5},\"pattern\":{\"fillmode\":\"overlay\",\"size\":10,\"solidity\":0.2}},\"type\":\"barpolar\"}],\"bar\":[{\"error_x\":{\"color\":\"#2a3f5f\"},\"error_y\":{\"color\":\"#2a3f5f\"},\"marker\":{\"line\":{\"color\":\"#E5ECF6\",\"width\":0.5},\"pattern\":{\"fillmode\":\"overlay\",\"size\":10,\"solidity\":0.2}},\"type\":\"bar\"}],\"carpet\":[{\"aaxis\":{\"endlinecolor\":\"#2a3f5f\",\"gridcolor\":\"white\",\"linecolor\":\"white\",\"minorgridcolor\":\"white\",\"startlinecolor\":\"#2a3f5f\"},\"baxis\":{\"endlinecolor\":\"#2a3f5f\",\"gridcolor\":\"white\",\"linecolor\":\"white\",\"minorgridcolor\":\"white\",\"startlinecolor\":\"#2a3f5f\"},\"type\":\"carpet\"}],\"choropleth\":[{\"colorbar\":{\"outlinewidth\":0,\"ticks\":\"\"},\"type\":\"choropleth\"}],\"contourcarpet\":[{\"colorbar\":{\"outlinewidth\":0,\"ticks\":\"\"},\"type\":\"contourcarpet\"}],\"contour\":[{\"colorbar\":{\"outlinewidth\":0,\"ticks\":\"\"},\"colorscale\":[[0.0,\"#0d0887\"],[0.1111111111111111,\"#46039f\"],[0.2222222222222222,\"#7201a8\"],[0.3333333333333333,\"#9c179e\"],[0.4444444444444444,\"#bd3786\"],[0.5555555555555556,\"#d8576b\"],[0.6666666666666666,\"#ed7953\"],[0.7777777777777778,\"#fb9f3a\"],[0.8888888888888888,\"#fdca26\"],[1.0,\"#f0f921\"]],\"type\":\"contour\"}],\"heatmap\":[{\"colorbar\":{\"outlinewidth\":0,\"ticks\":\"\"},\"colorscale\":[[0.0,\"#0d0887\"],[0.1111111111111111,\"#46039f\"],[0.2222222222222222,\"#7201a8\"],[0.3333333333333333,\"#9c179e\"],[0.4444444444444444,\"#bd3786\"],[0.5555555555555556,\"#d8576b\"],[0.6666666666666666,\"#ed7953\"],[0.7777777777777778,\"#fb9f3a\"],[0.8888888888888888,\"#fdca26\"],[1.0,\"#f0f921\"]],\"type\":\"heatmap\"}],\"histogram2dcontour\":[{\"colorbar\":{\"outlinewidth\":0,\"ticks\":\"\"},\"colorscale\":[[0.0,\"#0d0887\"],[0.1111111111111111,\"#46039f\"],[0.2222222222222222,\"#7201a8\"],[0.3333333333333333,\"#9c179e\"],[0.4444444444444444,\"#bd3786\"],[0.5555555555555556,\"#d8576b\"],[0.6666666666666666,\"#ed7953\"],[0.7777777777777778,\"#fb9f3a\"],[0.8888888888888888,\"#fdca26\"],[1.0,\"#f0f921\"]],\"type\":\"histogram2dcontour\"}],\"histogram2d\":[{\"colorbar\":{\"outlinewidth\":0,\"ticks\":\"\"},\"colorscale\":[[0.0,\"#0d0887\"],[0.1111111111111111,\"#46039f\"],[0.2222222222222222,\"#7201a8\"],[0.3333333333333333,\"#9c179e\"],[0.4444444444444444,\"#bd3786\"],[0.5555555555555556,\"#d8576b\"],[0.6666666666666666,\"#ed7953\"],[0.7777777777777778,\"#fb9f3a\"],[0.8888888888888888,\"#fdca26\"],[1.0,\"#f0f921\"]],\"type\":\"histogram2d\"}],\"histogram\":[{\"marker\":{\"pattern\":{\"fillmode\":\"overlay\",\"size\":10,\"solidity\":0.2}},\"type\":\"histogram\"}],\"mesh3d\":[{\"colorbar\":{\"outlinewidth\":0,\"ticks\":\"\"},\"type\":\"mesh3d\"}],\"parcoords\":[{\"line\":{\"colorbar\":{\"outlinewidth\":0,\"ticks\":\"\"}},\"type\":\"parcoords\"}],\"pie\":[{\"automargin\":true,\"type\":\"pie\"}],\"scatter3d\":[{\"line\":{\"colorbar\":{\"outlinewidth\":0,\"ticks\":\"\"}},\"marker\":{\"colorbar\":{\"outlinewidth\":0,\"ticks\":\"\"}},\"type\":\"scatter3d\"}],\"scattercarpet\":[{\"marker\":{\"colorbar\":{\"outlinewidth\":0,\"ticks\":\"\"}},\"type\":\"scattercarpet\"}],\"scattergeo\":[{\"marker\":{\"colorbar\":{\"outlinewidth\":0,\"ticks\":\"\"}},\"type\":\"scattergeo\"}],\"scattergl\":[{\"marker\":{\"colorbar\":{\"outlinewidth\":0,\"ticks\":\"\"}},\"type\":\"scattergl\"}],\"scattermapbox\":[{\"marker\":{\"colorbar\":{\"outlinewidth\":0,\"ticks\":\"\"}},\"type\":\"scattermapbox\"}],\"scattermap\":[{\"marker\":{\"colorbar\":{\"outlinewidth\":0,\"ticks\":\"\"}},\"type\":\"scattermap\"}],\"scatterpolargl\":[{\"marker\":{\"colorbar\":{\"outlinewidth\":0,\"ticks\":\"\"}},\"type\":\"scatterpolargl\"}],\"scatterpolar\":[{\"marker\":{\"colorbar\":{\"outlinewidth\":0,\"ticks\":\"\"}},\"type\":\"scatterpolar\"}],\"scatter\":[{\"fillpattern\":{\"fillmode\":\"overlay\",\"size\":10,\"solidity\":0.2},\"type\":\"scatter\"}],\"scatterternary\":[{\"marker\":{\"colorbar\":{\"outlinewidth\":0,\"ticks\":\"\"}},\"type\":\"scatterternary\"}],\"surface\":[{\"colorbar\":{\"outlinewidth\":0,\"ticks\":\"\"},\"colorscale\":[[0.0,\"#0d0887\"],[0.1111111111111111,\"#46039f\"],[0.2222222222222222,\"#7201a8\"],[0.3333333333333333,\"#9c179e\"],[0.4444444444444444,\"#bd3786\"],[0.5555555555555556,\"#d8576b\"],[0.6666666666666666,\"#ed7953\"],[0.7777777777777778,\"#fb9f3a\"],[0.8888888888888888,\"#fdca26\"],[1.0,\"#f0f921\"]],\"type\":\"surface\"}],\"table\":[{\"cells\":{\"fill\":{\"color\":\"#EBF0F8\"},\"line\":{\"color\":\"white\"}},\"header\":{\"fill\":{\"color\":\"#C8D4E3\"},\"line\":{\"color\":\"white\"}},\"type\":\"table\"}]},\"layout\":{\"annotationdefaults\":{\"arrowcolor\":\"#2a3f5f\",\"arrowhead\":0,\"arrowwidth\":1},\"autotypenumbers\":\"strict\",\"coloraxis\":{\"colorbar\":{\"outlinewidth\":0,\"ticks\":\"\"}},\"colorscale\":{\"diverging\":[[0,\"#8e0152\"],[0.1,\"#c51b7d\"],[0.2,\"#de77ae\"],[0.3,\"#f1b6da\"],[0.4,\"#fde0ef\"],[0.5,\"#f7f7f7\"],[0.6,\"#e6f5d0\"],[0.7,\"#b8e186\"],[0.8,\"#7fbc41\"],[0.9,\"#4d9221\"],[1,\"#276419\"]],\"sequential\":[[0.0,\"#0d0887\"],[0.1111111111111111,\"#46039f\"],[0.2222222222222222,\"#7201a8\"],[0.3333333333333333,\"#9c179e\"],[0.4444444444444444,\"#bd3786\"],[0.5555555555555556,\"#d8576b\"],[0.6666666666666666,\"#ed7953\"],[0.7777777777777778,\"#fb9f3a\"],[0.8888888888888888,\"#fdca26\"],[1.0,\"#f0f921\"]],\"sequentialminus\":[[0.0,\"#0d0887\"],[0.1111111111111111,\"#46039f\"],[0.2222222222222222,\"#7201a8\"],[0.3333333333333333,\"#9c179e\"],[0.4444444444444444,\"#bd3786\"],[0.5555555555555556,\"#d8576b\"],[0.6666666666666666,\"#ed7953\"],[0.7777777777777778,\"#fb9f3a\"],[0.8888888888888888,\"#fdca26\"],[1.0,\"#f0f921\"]]},\"colorway\":[\"#636efa\",\"#EF553B\",\"#00cc96\",\"#ab63fa\",\"#FFA15A\",\"#19d3f3\",\"#FF6692\",\"#B6E880\",\"#FF97FF\",\"#FECB52\"],\"font\":{\"color\":\"#2a3f5f\"},\"geo\":{\"bgcolor\":\"white\",\"lakecolor\":\"white\",\"landcolor\":\"#E5ECF6\",\"showlakes\":true,\"showland\":true,\"subunitcolor\":\"white\"},\"hoverlabel\":{\"align\":\"left\"},\"hovermode\":\"closest\",\"mapbox\":{\"style\":\"light\"},\"paper_bgcolor\":\"white\",\"plot_bgcolor\":\"#E5ECF6\",\"polar\":{\"angularaxis\":{\"gridcolor\":\"white\",\"linecolor\":\"white\",\"ticks\":\"\"},\"bgcolor\":\"#E5ECF6\",\"radialaxis\":{\"gridcolor\":\"white\",\"linecolor\":\"white\",\"ticks\":\"\"}},\"scene\":{\"xaxis\":{\"backgroundcolor\":\"#E5ECF6\",\"gridcolor\":\"white\",\"gridwidth\":2,\"linecolor\":\"white\",\"showbackground\":true,\"ticks\":\"\",\"zerolinecolor\":\"white\"},\"yaxis\":{\"backgroundcolor\":\"#E5ECF6\",\"gridcolor\":\"white\",\"gridwidth\":2,\"linecolor\":\"white\",\"showbackground\":true,\"ticks\":\"\",\"zerolinecolor\":\"white\"},\"zaxis\":{\"backgroundcolor\":\"#E5ECF6\",\"gridcolor\":\"white\",\"gridwidth\":2,\"linecolor\":\"white\",\"showbackground\":true,\"ticks\":\"\",\"zerolinecolor\":\"white\"}},\"shapedefaults\":{\"line\":{\"color\":\"#2a3f5f\"}},\"ternary\":{\"aaxis\":{\"gridcolor\":\"white\",\"linecolor\":\"white\",\"ticks\":\"\"},\"baxis\":{\"gridcolor\":\"white\",\"linecolor\":\"white\",\"ticks\":\"\"},\"bgcolor\":\"#E5ECF6\",\"caxis\":{\"gridcolor\":\"white\",\"linecolor\":\"white\",\"ticks\":\"\"}},\"title\":{\"x\":0.05},\"xaxis\":{\"automargin\":true,\"gridcolor\":\"white\",\"linecolor\":\"white\",\"ticks\":\"\",\"title\":{\"standoff\":15},\"zerolinecolor\":\"white\",\"zerolinewidth\":2},\"yaxis\":{\"automargin\":true,\"gridcolor\":\"white\",\"linecolor\":\"white\",\"ticks\":\"\",\"title\":{\"standoff\":15},\"zerolinecolor\":\"white\",\"zerolinewidth\":2}}},\"title\":{\"text\":\"Historical Bitcoin Prices (2015-2018) with the Slider\"},\"xaxis\":{\"rangeselector\":{\"buttons\":[{\"count\":1,\"label\":\"1m\",\"step\":\"month\",\"stepmode\":\"backward\"},{\"count\":6,\"label\":\"6m\",\"step\":\"month\",\"stepmode\":\"backward\"},{\"count\":12,\"label\":\"1y\",\"step\":\"month\",\"stepmode\":\"backward\"},{\"count\":36,\"label\":\"3y\",\"step\":\"month\",\"stepmode\":\"backward\"},{\"step\":\"all\"}]},\"rangeslider\":{\"visible\":true},\"type\":\"date\"}},                        {\"responsive\": true}                    ).then(function(){\n",
       "                            \n",
       "var gd = document.getElementById('c5e977dd-0a0b-4504-9764-65040e4ce15a');\n",
       "var x = new MutationObserver(function (mutations, observer) {{\n",
       "        var display = window.getComputedStyle(gd).display;\n",
       "        if (!display || display === 'none') {{\n",
       "            console.log([gd, 'removed!']);\n",
       "            Plotly.purge(gd);\n",
       "            observer.disconnect();\n",
       "        }}\n",
       "}});\n",
       "\n",
       "// Listen for the removal of the full notebook cells\n",
       "var notebookContainer = gd.closest('#notebook-container');\n",
       "if (notebookContainer) {{\n",
       "    x.observe(notebookContainer, {childList: true});\n",
       "}}\n",
       "\n",
       "// Listen for the clearing of the current output cell\n",
       "var outputEl = gd.closest('.output');\n",
       "if (outputEl) {{\n",
       "    x.observe(outputEl, {childList: true});\n",
       "}}\n",
       "\n",
       "                        })                };            </script>        </div>"
      ]
     },
     "metadata": {},
     "output_type": "display_data"
    }
   ],
   "source": [
    "import plotly.graph_objs as go\n",
    "from plotly.offline import init_notebook_mode, iplot\n",
    "\n",
    "# Khởi tạo chế độ notebook cho Plotly\n",
    "init_notebook_mode(connected=True)\n",
    "\n",
    "# Chuyển đổi các cột thành kiểu chuỗi trước khi thay thế\n",
    "weekly_rows['Open'] = weekly_rows['Open'].astype(str).str.replace(',', '').astype(float)\n",
    "weekly_rows['Price'] = weekly_rows['Price'].astype(str).str.replace(',', '').astype(float)\n",
    "\n",
    "# Tạo các trace cho biểu đồ\n",
    "trace1 = go.Scatter(\n",
    "    x=weekly_rows['Date'],  # Sử dụng 'Date'\n",
    "    y=weekly_rows['Open'],\n",
    "    mode='lines',\n",
    "    name='Open'\n",
    ")\n",
    "\n",
    "trace2 = go.Scatter(\n",
    "    x=weekly_rows['Date'],  # Sử dụng 'Date'\n",
    "    y=weekly_rows['Price'],  # Sử dụng 'Price'\n",
    "    mode='lines',\n",
    "    name='Price'\n",
    ")\n",
    "\n",
    "# Thiết lập layout cho biểu đồ\n",
    "layout = dict(\n",
    "    title='Historical Bitcoin Prices (2015-2018) with the Slider',\n",
    "    xaxis=dict(\n",
    "        rangeselector=dict(\n",
    "            buttons=list([\n",
    "                dict(count=1, label='1m', step='month', stepmode='backward'),\n",
    "                dict(count=6, label='6m', step='month', stepmode='backward'),\n",
    "                dict(count=12, label='1y', step='month', stepmode='backward'),\n",
    "                dict(count=36, label='3y', step='month', stepmode='backward'),\n",
    "                dict(step='all')\n",
    "            ])\n",
    "        ),\n",
    "        rangeslider=dict(visible=True),\n",
    "        type='date'\n",
    "    )\n",
    ")\n",
    "\n",
    "# Tạo biểu đồ\n",
    "data = [trace1, trace2]\n",
    "fig = dict(data=data, layout=layout)\n",
    "iplot(fig, filename=\"Time Series with Rangeslider\")"
   ]
  },
  {
   "cell_type": "code",
   "execution_count": 71,
   "metadata": {},
   "outputs": [
    {
     "name": "stdout",
     "output_type": "stream",
     "text": [
      "Date        datetime64[ns]\n",
      "Price              float64\n",
      "Open               float64\n",
      "High                object\n",
      "Low                 object\n",
      "Vol.                object\n",
      "Change %            object\n",
      "dtype: object\n"
     ]
    }
   ],
   "source": [
    "   print(weekly_rows.dtypes)"
   ]
  },
  {
   "cell_type": "code",
   "execution_count": 72,
   "metadata": {},
   "outputs": [
    {
     "name": "stdout",
     "output_type": "stream",
     "text": [
      "    Open  Price\n",
      "0  264.7  274.8\n",
      "1  264.8  269.3\n",
      "2  210.6  215.9\n",
      "3  252.1  269.2\n",
      "4  225.3  238.9\n"
     ]
    }
   ],
   "source": [
    "   print(weekly_rows[['Open', 'Price']].head())"
   ]
  },
  {
   "cell_type": "code",
   "execution_count": 11,
   "metadata": {},
   "outputs": [
    {
     "data": {
      "text/html": [
       "        <script type=\"text/javascript\">\n",
       "        window.PlotlyConfig = {MathJaxConfig: 'local'};\n",
       "        if (window.MathJax && window.MathJax.Hub && window.MathJax.Hub.Config) {window.MathJax.Hub.Config({SVG: {font: \"STIX-Web\"}});}\n",
       "        </script>\n",
       "        <script type=\"module\">import \"https://cdn.plot.ly/plotly-3.0.0.min\"</script>\n",
       "        "
      ]
     },
     "metadata": {},
     "output_type": "display_data"
    },
    {
     "data": {
      "application/vnd.plotly.v1+json": {
       "config": {
        "linkText": "Export to plot.ly",
        "plotlyServerURL": "https://plot.ly",
        "showLink": false
       },
       "data": [
        {
         "mode": "lines",
         "name": "Bitcoin Volume (USD)",
         "type": "scatter",
         "x": [
          "2015-01-05T00:00:00.000000000",
          "2015-01-12T00:00:00.000000000",
          "2015-01-19T00:00:00.000000000",
          "2015-01-26T00:00:00.000000000",
          "2015-02-02T00:00:00.000000000",
          "2015-02-09T00:00:00.000000000",
          "2015-02-16T00:00:00.000000000",
          "2015-02-23T00:00:00.000000000",
          "2015-03-02T00:00:00.000000000",
          "2015-03-09T00:00:00.000000000",
          "2015-03-16T00:00:00.000000000",
          "2015-03-23T00:00:00.000000000",
          "2015-03-30T00:00:00.000000000",
          "2015-04-06T00:00:00.000000000",
          "2015-04-13T00:00:00.000000000",
          "2015-04-20T00:00:00.000000000",
          "2015-04-27T00:00:00.000000000",
          "2015-05-04T00:00:00.000000000",
          "2015-05-11T00:00:00.000000000",
          "2015-05-18T00:00:00.000000000",
          "2015-05-25T00:00:00.000000000",
          "2015-06-01T00:00:00.000000000",
          "2015-06-08T00:00:00.000000000",
          "2015-06-15T00:00:00.000000000",
          "2015-06-22T00:00:00.000000000",
          "2015-06-29T00:00:00.000000000",
          "2015-07-06T00:00:00.000000000",
          "2015-07-13T00:00:00.000000000",
          "2015-07-20T00:00:00.000000000",
          "2015-07-27T00:00:00.000000000",
          "2015-08-03T00:00:00.000000000",
          "2015-08-10T00:00:00.000000000",
          "2015-08-17T00:00:00.000000000",
          "2015-08-24T00:00:00.000000000",
          "2015-08-31T00:00:00.000000000",
          "2015-09-07T00:00:00.000000000",
          "2015-09-14T00:00:00.000000000",
          "2015-09-21T00:00:00.000000000",
          "2015-09-28T00:00:00.000000000",
          "2015-10-05T00:00:00.000000000",
          "2015-10-12T00:00:00.000000000",
          "2015-10-19T00:00:00.000000000",
          "2015-10-26T00:00:00.000000000",
          "2015-11-02T00:00:00.000000000",
          "2015-11-09T00:00:00.000000000",
          "2015-11-16T00:00:00.000000000",
          "2015-11-23T00:00:00.000000000",
          "2015-11-30T00:00:00.000000000",
          "2015-12-07T00:00:00.000000000",
          "2015-12-14T00:00:00.000000000",
          "2015-12-21T00:00:00.000000000",
          "2015-12-28T00:00:00.000000000",
          "2016-01-04T00:00:00.000000000",
          "2016-01-11T00:00:00.000000000",
          "2016-01-18T00:00:00.000000000",
          "2016-01-25T00:00:00.000000000",
          "2016-02-01T00:00:00.000000000",
          "2016-02-08T00:00:00.000000000",
          "2016-02-15T00:00:00.000000000",
          "2016-02-22T00:00:00.000000000",
          "2016-02-29T00:00:00.000000000",
          "2016-03-07T00:00:00.000000000",
          "2016-03-14T00:00:00.000000000",
          "2016-03-21T00:00:00.000000000",
          "2016-03-28T00:00:00.000000000",
          "2016-04-04T00:00:00.000000000",
          "2016-04-11T00:00:00.000000000",
          "2016-04-18T00:00:00.000000000",
          "2016-04-25T00:00:00.000000000",
          "2016-05-02T00:00:00.000000000",
          "2016-05-09T00:00:00.000000000",
          "2016-05-16T00:00:00.000000000",
          "2016-05-23T00:00:00.000000000",
          "2016-05-30T00:00:00.000000000",
          "2016-06-06T00:00:00.000000000",
          "2016-06-13T00:00:00.000000000",
          "2016-06-20T00:00:00.000000000",
          "2016-06-27T00:00:00.000000000",
          "2016-07-04T00:00:00.000000000",
          "2016-07-11T00:00:00.000000000",
          "2016-07-18T00:00:00.000000000",
          "2016-07-25T00:00:00.000000000",
          "2016-08-01T00:00:00.000000000",
          "2016-08-08T00:00:00.000000000",
          "2016-08-15T00:00:00.000000000",
          "2016-08-22T00:00:00.000000000",
          "2016-08-29T00:00:00.000000000",
          "2016-09-05T00:00:00.000000000",
          "2016-09-12T00:00:00.000000000",
          "2016-09-19T00:00:00.000000000",
          "2016-09-26T00:00:00.000000000",
          "2016-10-03T00:00:00.000000000",
          "2016-10-10T00:00:00.000000000",
          "2016-10-17T00:00:00.000000000",
          "2016-10-24T00:00:00.000000000",
          "2016-10-31T00:00:00.000000000",
          "2016-11-07T00:00:00.000000000",
          "2016-11-14T00:00:00.000000000",
          "2016-11-21T00:00:00.000000000",
          "2016-11-28T00:00:00.000000000",
          "2016-12-05T00:00:00.000000000",
          "2016-12-12T00:00:00.000000000",
          "2016-12-19T00:00:00.000000000",
          "2016-12-26T00:00:00.000000000",
          "2017-01-02T00:00:00.000000000",
          "2017-01-09T00:00:00.000000000",
          "2017-01-16T00:00:00.000000000",
          "2017-01-23T00:00:00.000000000",
          "2017-01-30T00:00:00.000000000",
          "2017-02-06T00:00:00.000000000",
          "2017-02-13T00:00:00.000000000",
          "2017-02-20T00:00:00.000000000",
          "2017-02-27T00:00:00.000000000",
          "2017-03-06T00:00:00.000000000",
          "2017-03-13T00:00:00.000000000",
          "2017-03-20T00:00:00.000000000",
          "2017-03-27T00:00:00.000000000",
          "2017-04-03T00:00:00.000000000",
          "2017-04-10T00:00:00.000000000",
          "2017-04-17T00:00:00.000000000",
          "2017-04-24T00:00:00.000000000",
          "2017-05-01T00:00:00.000000000",
          "2017-05-08T00:00:00.000000000",
          "2017-05-15T00:00:00.000000000",
          "2017-05-22T00:00:00.000000000",
          "2017-05-29T00:00:00.000000000",
          "2017-06-05T00:00:00.000000000",
          "2017-06-12T00:00:00.000000000",
          "2017-06-19T00:00:00.000000000",
          "2017-06-26T00:00:00.000000000",
          "2017-07-03T00:00:00.000000000",
          "2017-07-10T00:00:00.000000000",
          "2017-07-17T00:00:00.000000000",
          "2017-07-24T00:00:00.000000000",
          "2017-07-31T00:00:00.000000000",
          "2017-08-07T00:00:00.000000000",
          "2017-08-14T00:00:00.000000000",
          "2017-08-21T00:00:00.000000000",
          "2017-08-28T00:00:00.000000000",
          "2017-09-04T00:00:00.000000000",
          "2017-09-11T00:00:00.000000000",
          "2017-09-18T00:00:00.000000000",
          "2017-09-25T00:00:00.000000000",
          "2017-10-02T00:00:00.000000000",
          "2017-10-09T00:00:00.000000000",
          "2017-10-16T00:00:00.000000000",
          "2017-10-23T00:00:00.000000000",
          "2017-10-30T00:00:00.000000000",
          "2017-11-06T00:00:00.000000000",
          "2017-11-13T00:00:00.000000000",
          "2017-11-20T00:00:00.000000000",
          "2017-11-27T00:00:00.000000000",
          "2017-12-04T00:00:00.000000000",
          "2017-12-11T00:00:00.000000000",
          "2017-12-18T00:00:00.000000000",
          "2017-12-25T00:00:00.000000000",
          "2018-01-01T00:00:00.000000000",
          "2018-01-08T00:00:00.000000000",
          "2018-01-15T00:00:00.000000000",
          "2018-01-22T00:00:00.000000000",
          "2018-01-29T00:00:00.000000000",
          "2018-02-05T00:00:00.000000000",
          "2018-02-12T00:00:00.000000000",
          "2018-02-19T00:00:00.000000000",
          "2018-02-26T00:00:00.000000000",
          "2018-03-05T00:00:00.000000000",
          "2018-03-12T00:00:00.000000000",
          "2018-03-19T00:00:00.000000000",
          "2018-03-26T00:00:00.000000000",
          "2018-04-02T00:00:00.000000000",
          "2018-04-09T00:00:00.000000000",
          "2018-04-16T00:00:00.000000000",
          "2018-04-23T00:00:00.000000000",
          "2018-04-30T00:00:00.000000000",
          "2018-05-07T00:00:00.000000000",
          "2018-05-14T00:00:00.000000000",
          "2018-05-21T00:00:00.000000000",
          "2018-05-28T00:00:00.000000000",
          "2018-06-04T00:00:00.000000000",
          "2018-06-11T00:00:00.000000000",
          "2018-06-18T00:00:00.000000000",
          "2018-06-25T00:00:00.000000000",
          "2018-07-02T00:00:00.000000000",
          "2018-07-09T00:00:00.000000000",
          "2018-07-16T00:00:00.000000000",
          "2018-07-23T00:00:00.000000000",
          "2018-07-30T00:00:00.000000000",
          "2018-08-06T00:00:00.000000000",
          "2018-08-13T00:00:00.000000000",
          "2018-08-20T00:00:00.000000000",
          "2018-08-27T00:00:00.000000000",
          "2018-09-03T00:00:00.000000000",
          "2018-09-10T00:00:00.000000000",
          "2018-09-17T00:00:00.000000000",
          "2018-09-24T00:00:00.000000000",
          "2018-10-01T00:00:00.000000000",
          "2018-10-08T00:00:00.000000000",
          "2018-10-15T00:00:00.000000000",
          "2018-10-22T00:00:00.000000000",
          "2018-10-29T00:00:00.000000000",
          "2018-11-05T00:00:00.000000000",
          "2018-11-12T00:00:00.000000000"
         ],
         "y": {
          "bdata": "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",
          "dtype": "f8"
         }
        }
       ],
       "layout": {
        "template": {
         "data": {
          "bar": [
           {
            "error_x": {
             "color": "#2a3f5f"
            },
            "error_y": {
             "color": "#2a3f5f"
            },
            "marker": {
             "line": {
              "color": "#E5ECF6",
              "width": 0.5
             },
             "pattern": {
              "fillmode": "overlay",
              "size": 10,
              "solidity": 0.2
             }
            },
            "type": "bar"
           }
          ],
          "barpolar": [
           {
            "marker": {
             "line": {
              "color": "#E5ECF6",
              "width": 0.5
             },
             "pattern": {
              "fillmode": "overlay",
              "size": 10,
              "solidity": 0.2
             }
            },
            "type": "barpolar"
           }
          ],
          "carpet": [
           {
            "aaxis": {
             "endlinecolor": "#2a3f5f",
             "gridcolor": "white",
             "linecolor": "white",
             "minorgridcolor": "white",
             "startlinecolor": "#2a3f5f"
            },
            "baxis": {
             "endlinecolor": "#2a3f5f",
             "gridcolor": "white",
             "linecolor": "white",
             "minorgridcolor": "white",
             "startlinecolor": "#2a3f5f"
            },
            "type": "carpet"
           }
          ],
          "choropleth": [
           {
            "colorbar": {
             "outlinewidth": 0,
             "ticks": ""
            },
            "type": "choropleth"
           }
          ],
          "contour": [
           {
            "colorbar": {
             "outlinewidth": 0,
             "ticks": ""
            },
            "colorscale": [
             [
              0,
              "#0d0887"
             ],
             [
              0.1111111111111111,
              "#46039f"
             ],
             [
              0.2222222222222222,
              "#7201a8"
             ],
             [
              0.3333333333333333,
              "#9c179e"
             ],
             [
              0.4444444444444444,
              "#bd3786"
             ],
             [
              0.5555555555555556,
              "#d8576b"
             ],
             [
              0.6666666666666666,
              "#ed7953"
             ],
             [
              0.7777777777777778,
              "#fb9f3a"
             ],
             [
              0.8888888888888888,
              "#fdca26"
             ],
             [
              1,
              "#f0f921"
             ]
            ],
            "type": "contour"
           }
          ],
          "contourcarpet": [
           {
            "colorbar": {
             "outlinewidth": 0,
             "ticks": ""
            },
            "type": "contourcarpet"
           }
          ],
          "heatmap": [
           {
            "colorbar": {
             "outlinewidth": 0,
             "ticks": ""
            },
            "colorscale": [
             [
              0,
              "#0d0887"
             ],
             [
              0.1111111111111111,
              "#46039f"
             ],
             [
              0.2222222222222222,
              "#7201a8"
             ],
             [
              0.3333333333333333,
              "#9c179e"
             ],
             [
              0.4444444444444444,
              "#bd3786"
             ],
             [
              0.5555555555555556,
              "#d8576b"
             ],
             [
              0.6666666666666666,
              "#ed7953"
             ],
             [
              0.7777777777777778,
              "#fb9f3a"
             ],
             [
              0.8888888888888888,
              "#fdca26"
             ],
             [
              1,
              "#f0f921"
             ]
            ],
            "type": "heatmap"
           }
          ],
          "histogram": [
           {
            "marker": {
             "pattern": {
              "fillmode": "overlay",
              "size": 10,
              "solidity": 0.2
             }
            },
            "type": "histogram"
           }
          ],
          "histogram2d": [
           {
            "colorbar": {
             "outlinewidth": 0,
             "ticks": ""
            },
            "colorscale": [
             [
              0,
              "#0d0887"
             ],
             [
              0.1111111111111111,
              "#46039f"
             ],
             [
              0.2222222222222222,
              "#7201a8"
             ],
             [
              0.3333333333333333,
              "#9c179e"
             ],
             [
              0.4444444444444444,
              "#bd3786"
             ],
             [
              0.5555555555555556,
              "#d8576b"
             ],
             [
              0.6666666666666666,
              "#ed7953"
             ],
             [
              0.7777777777777778,
              "#fb9f3a"
             ],
             [
              0.8888888888888888,
              "#fdca26"
             ],
             [
              1,
              "#f0f921"
             ]
            ],
            "type": "histogram2d"
           }
          ],
          "histogram2dcontour": [
           {
            "colorbar": {
             "outlinewidth": 0,
             "ticks": ""
            },
            "colorscale": [
             [
              0,
              "#0d0887"
             ],
             [
              0.1111111111111111,
              "#46039f"
             ],
             [
              0.2222222222222222,
              "#7201a8"
             ],
             [
              0.3333333333333333,
              "#9c179e"
             ],
             [
              0.4444444444444444,
              "#bd3786"
             ],
             [
              0.5555555555555556,
              "#d8576b"
             ],
             [
              0.6666666666666666,
              "#ed7953"
             ],
             [
              0.7777777777777778,
              "#fb9f3a"
             ],
             [
              0.8888888888888888,
              "#fdca26"
             ],
             [
              1,
              "#f0f921"
             ]
            ],
            "type": "histogram2dcontour"
           }
          ],
          "mesh3d": [
           {
            "colorbar": {
             "outlinewidth": 0,
             "ticks": ""
            },
            "type": "mesh3d"
           }
          ],
          "parcoords": [
           {
            "line": {
             "colorbar": {
              "outlinewidth": 0,
              "ticks": ""
             }
            },
            "type": "parcoords"
           }
          ],
          "pie": [
           {
            "automargin": true,
            "type": "pie"
           }
          ],
          "scatter": [
           {
            "fillpattern": {
             "fillmode": "overlay",
             "size": 10,
             "solidity": 0.2
            },
            "type": "scatter"
           }
          ],
          "scatter3d": [
           {
            "line": {
             "colorbar": {
              "outlinewidth": 0,
              "ticks": ""
             }
            },
            "marker": {
             "colorbar": {
              "outlinewidth": 0,
              "ticks": ""
             }
            },
            "type": "scatter3d"
           }
          ],
          "scattercarpet": [
           {
            "marker": {
             "colorbar": {
              "outlinewidth": 0,
              "ticks": ""
             }
            },
            "type": "scattercarpet"
           }
          ],
          "scattergeo": [
           {
            "marker": {
             "colorbar": {
              "outlinewidth": 0,
              "ticks": ""
             }
            },
            "type": "scattergeo"
           }
          ],
          "scattergl": [
           {
            "marker": {
             "colorbar": {
              "outlinewidth": 0,
              "ticks": ""
             }
            },
            "type": "scattergl"
           }
          ],
          "scattermap": [
           {
            "marker": {
             "colorbar": {
              "outlinewidth": 0,
              "ticks": ""
             }
            },
            "type": "scattermap"
           }
          ],
          "scattermapbox": [
           {
            "marker": {
             "colorbar": {
              "outlinewidth": 0,
              "ticks": ""
             }
            },
            "type": "scattermapbox"
           }
          ],
          "scatterpolar": [
           {
            "marker": {
             "colorbar": {
              "outlinewidth": 0,
              "ticks": ""
             }
            },
            "type": "scatterpolar"
           }
          ],
          "scatterpolargl": [
           {
            "marker": {
             "colorbar": {
              "outlinewidth": 0,
              "ticks": ""
             }
            },
            "type": "scatterpolargl"
           }
          ],
          "scatterternary": [
           {
            "marker": {
             "colorbar": {
              "outlinewidth": 0,
              "ticks": ""
             }
            },
            "type": "scatterternary"
           }
          ],
          "surface": [
           {
            "colorbar": {
             "outlinewidth": 0,
             "ticks": ""
            },
            "colorscale": [
             [
              0,
              "#0d0887"
             ],
             [
              0.1111111111111111,
              "#46039f"
             ],
             [
              0.2222222222222222,
              "#7201a8"
             ],
             [
              0.3333333333333333,
              "#9c179e"
             ],
             [
              0.4444444444444444,
              "#bd3786"
             ],
             [
              0.5555555555555556,
              "#d8576b"
             ],
             [
              0.6666666666666666,
              "#ed7953"
             ],
             [
              0.7777777777777778,
              "#fb9f3a"
             ],
             [
              0.8888888888888888,
              "#fdca26"
             ],
             [
              1,
              "#f0f921"
             ]
            ],
            "type": "surface"
           }
          ],
          "table": [
           {
            "cells": {
             "fill": {
              "color": "#EBF0F8"
             },
             "line": {
              "color": "white"
             }
            },
            "header": {
             "fill": {
              "color": "#C8D4E3"
             },
             "line": {
              "color": "white"
             }
            },
            "type": "table"
           }
          ]
         },
         "layout": {
          "annotationdefaults": {
           "arrowcolor": "#2a3f5f",
           "arrowhead": 0,
           "arrowwidth": 1
          },
          "autotypenumbers": "strict",
          "coloraxis": {
           "colorbar": {
            "outlinewidth": 0,
            "ticks": ""
           }
          },
          "colorscale": {
           "diverging": [
            [
             0,
             "#8e0152"
            ],
            [
             0.1,
             "#c51b7d"
            ],
            [
             0.2,
             "#de77ae"
            ],
            [
             0.3,
             "#f1b6da"
            ],
            [
             0.4,
             "#fde0ef"
            ],
            [
             0.5,
             "#f7f7f7"
            ],
            [
             0.6,
             "#e6f5d0"
            ],
            [
             0.7,
             "#b8e186"
            ],
            [
             0.8,
             "#7fbc41"
            ],
            [
             0.9,
             "#4d9221"
            ],
            [
             1,
             "#276419"
            ]
           ],
           "sequential": [
            [
             0,
             "#0d0887"
            ],
            [
             0.1111111111111111,
             "#46039f"
            ],
            [
             0.2222222222222222,
             "#7201a8"
            ],
            [
             0.3333333333333333,
             "#9c179e"
            ],
            [
             0.4444444444444444,
             "#bd3786"
            ],
            [
             0.5555555555555556,
             "#d8576b"
            ],
            [
             0.6666666666666666,
             "#ed7953"
            ],
            [
             0.7777777777777778,
             "#fb9f3a"
            ],
            [
             0.8888888888888888,
             "#fdca26"
            ],
            [
             1,
             "#f0f921"
            ]
           ],
           "sequentialminus": [
            [
             0,
             "#0d0887"
            ],
            [
             0.1111111111111111,
             "#46039f"
            ],
            [
             0.2222222222222222,
             "#7201a8"
            ],
            [
             0.3333333333333333,
             "#9c179e"
            ],
            [
             0.4444444444444444,
             "#bd3786"
            ],
            [
             0.5555555555555556,
             "#d8576b"
            ],
            [
             0.6666666666666666,
             "#ed7953"
            ],
            [
             0.7777777777777778,
             "#fb9f3a"
            ],
            [
             0.8888888888888888,
             "#fdca26"
            ],
            [
             1,
             "#f0f921"
            ]
           ]
          },
          "colorway": [
           "#636efa",
           "#EF553B",
           "#00cc96",
           "#ab63fa",
           "#FFA15A",
           "#19d3f3",
           "#FF6692",
           "#B6E880",
           "#FF97FF",
           "#FECB52"
          ],
          "font": {
           "color": "#2a3f5f"
          },
          "geo": {
           "bgcolor": "white",
           "lakecolor": "white",
           "landcolor": "#E5ECF6",
           "showlakes": true,
           "showland": true,
           "subunitcolor": "white"
          },
          "hoverlabel": {
           "align": "left"
          },
          "hovermode": "closest",
          "mapbox": {
           "style": "light"
          },
          "paper_bgcolor": "white",
          "plot_bgcolor": "#E5ECF6",
          "polar": {
           "angularaxis": {
            "gridcolor": "white",
            "linecolor": "white",
            "ticks": ""
           },
           "bgcolor": "#E5ECF6",
           "radialaxis": {
            "gridcolor": "white",
            "linecolor": "white",
            "ticks": ""
           }
          },
          "scene": {
           "xaxis": {
            "backgroundcolor": "#E5ECF6",
            "gridcolor": "white",
            "gridwidth": 2,
            "linecolor": "white",
            "showbackground": true,
            "ticks": "",
            "zerolinecolor": "white"
           },
           "yaxis": {
            "backgroundcolor": "#E5ECF6",
            "gridcolor": "white",
            "gridwidth": 2,
            "linecolor": "white",
            "showbackground": true,
            "ticks": "",
            "zerolinecolor": "white"
           },
           "zaxis": {
            "backgroundcolor": "#E5ECF6",
            "gridcolor": "white",
            "gridwidth": 2,
            "linecolor": "white",
            "showbackground": true,
            "ticks": "",
            "zerolinecolor": "white"
           }
          },
          "shapedefaults": {
           "line": {
            "color": "#2a3f5f"
           }
          },
          "ternary": {
           "aaxis": {
            "gridcolor": "white",
            "linecolor": "white",
            "ticks": ""
           },
           "baxis": {
            "gridcolor": "white",
            "linecolor": "white",
            "ticks": ""
           },
           "bgcolor": "#E5ECF6",
           "caxis": {
            "gridcolor": "white",
            "linecolor": "white",
            "ticks": ""
           }
          },
          "title": {
           "x": 0.05
          },
          "xaxis": {
           "automargin": true,
           "gridcolor": "white",
           "linecolor": "white",
           "ticks": "",
           "title": {
            "standoff": 15
           },
           "zerolinecolor": "white",
           "zerolinewidth": 2
          },
          "yaxis": {
           "automargin": true,
           "gridcolor": "white",
           "linecolor": "white",
           "ticks": "",
           "title": {
            "standoff": 15
           },
           "zerolinecolor": "white",
           "zerolinewidth": 2
          }
         }
        },
        "title": {
         "text": "Historical Bitcoin Volume (USD) (2015-2018) with the slider"
        },
        "xaxis": {
         "rangeselector": {
          "buttons": [
           {
            "count": 1,
            "label": "1m",
            "step": "month",
            "stepmode": "backward"
           },
           {
            "count": 6,
            "label": "6m",
            "step": "month",
            "stepmode": "backward"
           },
           {
            "count": 12,
            "label": "1y",
            "step": "month",
            "stepmode": "backward"
           },
           {
            "count": 36,
            "label": "3y",
            "step": "month",
            "stepmode": "backward"
           },
           {
            "step": "all"
           }
          ]
         },
         "rangeslider": {
          "visible": true
         },
         "type": "date"
        }
       }
      },
      "text/html": [
       "<div>            <script src=\"https://cdnjs.cloudflare.com/ajax/libs/mathjax/2.7.5/MathJax.js?config=TeX-AMS-MML_SVG\"></script><script type=\"text/javascript\">if (window.MathJax && window.MathJax.Hub && window.MathJax.Hub.Config) {window.MathJax.Hub.Config({SVG: {font: \"STIX-Web\"}});}</script>                <script type=\"text/javascript\">window.PlotlyConfig = {MathJaxConfig: 'local'};</script>\n",
       "        <script charset=\"utf-8\" src=\"https://cdn.plot.ly/plotly-3.0.0.min.js\"></script>                <div id=\"3480ddc8-4d2f-4fb6-a4d5-ddc56a37ff94\" class=\"plotly-graph-div\" style=\"height:525px; width:100%;\"></div>            <script type=\"text/javascript\">                window.PLOTLYENV=window.PLOTLYENV || {};                                if (document.getElementById(\"3480ddc8-4d2f-4fb6-a4d5-ddc56a37ff94\")) {                    Plotly.newPlot(                        \"3480ddc8-4d2f-4fb6-a4d5-ddc56a37ff94\",                        [{\"mode\":\"lines\",\"name\":\"Bitcoin Volume (USD)\",\"x\":[\"2015-01-05T00:00:00.000000000\",\"2015-01-12T00:00:00.000000000\",\"2015-01-19T00:00:00.000000000\",\"2015-01-26T00:00:00.000000000\",\"2015-02-02T00:00:00.000000000\",\"2015-02-09T00:00:00.000000000\",\"2015-02-16T00:00:00.000000000\",\"2015-02-23T00:00:00.000000000\",\"2015-03-02T00:00:00.000000000\",\"2015-03-09T00:00:00.000000000\",\"2015-03-16T00:00:00.000000000\",\"2015-03-23T00:00:00.000000000\",\"2015-03-30T00:00:00.000000000\",\"2015-04-06T00:00:00.000000000\",\"2015-04-13T00:00:00.000000000\",\"2015-04-20T00:00:00.000000000\",\"2015-04-27T00:00:00.000000000\",\"2015-05-04T00:00:00.000000000\",\"2015-05-11T00:00:00.000000000\",\"2015-05-18T00:00:00.000000000\",\"2015-05-25T00:00:00.000000000\",\"2015-06-01T00:00:00.000000000\",\"2015-06-08T00:00:00.000000000\",\"2015-06-15T00:00:00.000000000\",\"2015-06-22T00:00:00.000000000\",\"2015-06-29T00:00:00.000000000\",\"2015-07-06T00:00:00.000000000\",\"2015-07-13T00:00:00.000000000\",\"2015-07-20T00:00:00.000000000\",\"2015-07-27T00:00:00.000000000\",\"2015-08-03T00:00:00.000000000\",\"2015-08-10T00:00:00.000000000\",\"2015-08-17T00:00:00.000000000\",\"2015-08-24T00:00:00.000000000\",\"2015-08-31T00:00:00.000000000\",\"2015-09-07T00:00:00.000000000\",\"2015-09-14T00:00:00.000000000\",\"2015-09-21T00:00:00.000000000\",\"2015-09-28T00:00:00.000000000\",\"2015-10-05T00:00:00.000000000\",\"2015-10-12T00:00:00.000000000\",\"2015-10-19T00:00:00.000000000\",\"2015-10-26T00:00:00.000000000\",\"2015-11-02T00:00:00.000000000\",\"2015-11-09T00:00:00.000000000\",\"2015-11-16T00:00:00.000000000\",\"2015-11-23T00:00:00.000000000\",\"2015-11-30T00:00:00.000000000\",\"2015-12-07T00:00:00.000000000\",\"2015-12-14T00:00:00.000000000\",\"2015-12-21T00:00:00.000000000\",\"2015-12-28T00:00:00.000000000\",\"2016-01-04T00:00:00.000000000\",\"2016-01-11T00:00:00.000000000\",\"2016-01-18T00:00:00.000000000\",\"2016-01-25T00:00:00.000000000\",\"2016-02-01T00:00:00.000000000\",\"2016-02-08T00:00:00.000000000\",\"2016-02-15T00:00:00.000000000\",\"2016-02-22T00:00:00.000000000\",\"2016-02-29T00:00:00.000000000\",\"2016-03-07T00:00:00.000000000\",\"2016-03-14T00:00:00.000000000\",\"2016-03-21T00:00:00.000000000\",\"2016-03-28T00:00:00.000000000\",\"2016-04-04T00:00:00.000000000\",\"2016-04-11T00:00:00.000000000\",\"2016-04-18T00:00:00.000000000\",\"2016-04-25T00:00:00.000000000\",\"2016-05-02T00:00:00.000000000\",\"2016-05-09T00:00:00.000000000\",\"2016-05-16T00:00:00.000000000\",\"2016-05-23T00:00:00.000000000\",\"2016-05-30T00:00:00.000000000\",\"2016-06-06T00:00:00.000000000\",\"2016-06-13T00:00:00.000000000\",\"2016-06-20T00:00:00.000000000\",\"2016-06-27T00:00:00.000000000\",\"2016-07-04T00:00:00.000000000\",\"2016-07-11T00:00:00.000000000\",\"2016-07-18T00:00:00.000000000\",\"2016-07-25T00:00:00.000000000\",\"2016-08-01T00:00:00.000000000\",\"2016-08-08T00:00:00.000000000\",\"2016-08-15T00:00:00.000000000\",\"2016-08-22T00:00:00.000000000\",\"2016-08-29T00:00:00.000000000\",\"2016-09-05T00:00:00.000000000\",\"2016-09-12T00:00:00.000000000\",\"2016-09-19T00:00:00.000000000\",\"2016-09-26T00:00:00.000000000\",\"2016-10-03T00:00:00.000000000\",\"2016-10-10T00:00:00.000000000\",\"2016-10-17T00:00:00.000000000\",\"2016-10-24T00:00:00.000000000\",\"2016-10-31T00:00:00.000000000\",\"2016-11-07T00:00:00.000000000\",\"2016-11-14T00:00:00.000000000\",\"2016-11-21T00:00:00.000000000\",\"2016-11-28T00:00:00.000000000\",\"2016-12-05T00:00:00.000000000\",\"2016-12-12T00:00:00.000000000\",\"2016-12-19T00:00:00.000000000\",\"2016-12-26T00:00:00.000000000\",\"2017-01-02T00:00:00.000000000\",\"2017-01-09T00:00:00.000000000\",\"2017-01-16T00:00:00.000000000\",\"2017-01-23T00:00:00.000000000\",\"2017-01-30T00:00:00.000000000\",\"2017-02-06T00:00:00.000000000\",\"2017-02-13T00:00:00.000000000\",\"2017-02-20T00:00:00.000000000\",\"2017-02-27T00:00:00.000000000\",\"2017-03-06T00:00:00.000000000\",\"2017-03-13T00:00:00.000000000\",\"2017-03-20T00:00:00.000000000\",\"2017-03-27T00:00:00.000000000\",\"2017-04-03T00:00:00.000000000\",\"2017-04-10T00:00:00.000000000\",\"2017-04-17T00:00:00.000000000\",\"2017-04-24T00:00:00.000000000\",\"2017-05-01T00:00:00.000000000\",\"2017-05-08T00:00:00.000000000\",\"2017-05-15T00:00:00.000000000\",\"2017-05-22T00:00:00.000000000\",\"2017-05-29T00:00:00.000000000\",\"2017-06-05T00:00:00.000000000\",\"2017-06-12T00:00:00.000000000\",\"2017-06-19T00:00:00.000000000\",\"2017-06-26T00:00:00.000000000\",\"2017-07-03T00:00:00.000000000\",\"2017-07-10T00:00:00.000000000\",\"2017-07-17T00:00:00.000000000\",\"2017-07-24T00:00:00.000000000\",\"2017-07-31T00:00:00.000000000\",\"2017-08-07T00:00:00.000000000\",\"2017-08-14T00:00:00.000000000\",\"2017-08-21T00:00:00.000000000\",\"2017-08-28T00:00:00.000000000\",\"2017-09-04T00:00:00.000000000\",\"2017-09-11T00:00:00.000000000\",\"2017-09-18T00:00:00.000000000\",\"2017-09-25T00:00:00.000000000\",\"2017-10-02T00:00:00.000000000\",\"2017-10-09T00:00:00.000000000\",\"2017-10-16T00:00:00.000000000\",\"2017-10-23T00:00:00.000000000\",\"2017-10-30T00:00:00.000000000\",\"2017-11-06T00:00:00.000000000\",\"2017-11-13T00:00:00.000000000\",\"2017-11-20T00:00:00.000000000\",\"2017-11-27T00:00:00.000000000\",\"2017-12-04T00:00:00.000000000\",\"2017-12-11T00:00:00.000000000\",\"2017-12-18T00:00:00.000000000\",\"2017-12-25T00:00:00.000000000\",\"2018-01-01T00:00:00.000000000\",\"2018-01-08T00:00:00.000000000\",\"2018-01-15T00:00:00.000000000\",\"2018-01-22T00:00:00.000000000\",\"2018-01-29T00:00:00.000000000\",\"2018-02-05T00:00:00.000000000\",\"2018-02-12T00:00:00.000000000\",\"2018-02-19T00:00:00.000000000\",\"2018-02-26T00:00:00.000000000\",\"2018-03-05T00:00:00.000000000\",\"2018-03-12T00:00:00.000000000\",\"2018-03-19T00:00:00.000000000\",\"2018-03-26T00:00:00.000000000\",\"2018-04-02T00:00:00.000000000\",\"2018-04-09T00:00:00.000000000\",\"2018-04-16T00:00:00.000000000\",\"2018-04-23T00:00:00.000000000\",\"2018-04-30T00:00:00.000000000\",\"2018-05-07T00:00:00.000000000\",\"2018-05-14T00:00:00.000000000\",\"2018-05-21T00:00:00.000000000\",\"2018-05-28T00:00:00.000000000\",\"2018-06-04T00:00:00.000000000\",\"2018-06-11T00:00:00.000000000\",\"2018-06-18T00:00:00.000000000\",\"2018-06-25T00:00:00.000000000\",\"2018-07-02T00:00:00.000000000\",\"2018-07-09T00:00:00.000000000\",\"2018-07-16T00:00:00.000000000\",\"2018-07-23T00:00:00.000000000\",\"2018-07-30T00:00:00.000000000\",\"2018-08-06T00:00:00.000000000\",\"2018-08-13T00:00:00.000000000\",\"2018-08-20T00:00:00.000000000\",\"2018-08-27T00:00:00.000000000\",\"2018-09-03T00:00:00.000000000\",\"2018-09-10T00:00:00.000000000\",\"2018-09-17T00:00:00.000000000\",\"2018-09-24T00:00:00.000000000\",\"2018-10-01T00:00:00.000000000\",\"2018-10-08T00:00:00.000000000\",\"2018-10-15T00:00:00.000000000\",\"2018-10-22T00:00:00.000000000\",\"2018-10-29T00:00:00.000000000\",\"2018-11-05T00:00:00.000000000\",\"2018-11-12T00:00:00.000000000\"],\"y\":{\"dtype\":\"f8\",\"bdata\":\"AAAAAMDZ6kAAAAAAgMvYQAAAAAAA195AAAAAAODO+UAAAAAAgA3jQAAAAACgYvZAAAAAAOAw\\u002fEAAAAAAwJnuQAAAAAAgzPNAAAAAANCGAkEAAAAAQDLwQAAAAACg4vNAAAAAACDV9EAAAAAAQG3mQAAAAADgq\\u002flAAAAAAMDo5UAAAAAAICH+QAAAAAAA4PBAAAAAAEDq60AAAAAAgPLpQAAAAACAxdlAAAAAAEBB9UAAAAAAYBryQAAAAADA\\u002fe5AAAAAAMA850AAAAAAAJ72QAAAAABAHfZAAAAAABDtAUEAAAAAAMHmQAAAAADgBPFAAAAAAEBo5kAAAAAAQLfnQAAAAAAAYedAAAAAAOACCEEAAAAAwJ3qQAAAAADA7OtAAAAAAIDV7UAAAAAAwBbqQAAAAAAAY+9AAAAAAADn7UAAAAAAwLjjQAAAAABAZ+xAAAAAAKDf8UAAAAAA4DsLQQAAAABApv5AAAAAAEBG9UAAAAAAQN3kQAEAAACgrv9AAAAAAOCe90AAAAAAQLkKQQAAAABgyP1AAAAAAOCv8EAAAAAAQOLpQAAAAADAoetAAAAAAEDr8EAAAAAAwITwQAAAAADgJvJAAAAAAABk7kAAAAAAIAf1QAAAAABAWetAAAAAACDK8EAAAAAAQCnuQAAAAABAFuhAAAAAAAAT5UAAAAAAQDflQAAAAAAAVOBAAAAAAMDE4UAAAAAAANHfQAAAAADA7\\u002fNAAAAAAKAH8kAAAAAAgKTnQAAAAAAA3+FAAAAAAICH4UAAAAAAoO3yQAAAAAAAGO9AAAAAANB0CkEAAAAAIGr7QAAAAAAgXvhAAAAAAMA070AAAAAAgG7mQAAAAACAyuRAAAAAAIDJ4EAAAAAAQEbwQAAAAAAATNhAAAAAAEB94EAAAAAAAGPgQAAAAAAATddAAAAAAICy2EAAAAAAgEvbQAAAAAAAvtRAAAAAAIDd2kAAAAAAgG\\u002fVQAAAAACAo9hAAAAAAIAK20AAAAAAADvgQAAAAABAlOJAAAAAAAAF3kAAAAAAwG7iQP\\u002f\\u002f\\u002f\\u002f9\\u002fv99AAAAAAACp4EAAAAAAQPzoQAAAAAAAFtxAAAAAAADd2EAAAAAAwPDiQAAAAADAtu9AAAAAAICO7kAAAAAAgDjgQAEAAAAA+d9AAAAAAACd0kABAAAAAEXfQAAAAADAEeBAAAAAAIBI3kAAAAAAwFHhQAAAAACATd5AAAAAAICF7UAAAAAAwP7tQAAAAADAR\\u002fZAAAAAAEAM+EAAAAAAQInjQAAAAAAAsuZAAAAAAIDR4kAAAAAAgIX4QAAAAADgLfpAAAAAAACX80AAAAAAYEkFQQAAAAAAhfZAAAAAACAq9UAAAAAAQJsKQQAAAABg+vNAAAAAADA+BEEAAAAAwF30QAAAAACAOf5AAAAAANCXBUEAAAAAIET0QAAAAAAAP\\u002fZAAAAAAOCC9UABAAAAwFz\\u002fQAAAAACgIfZAAAAAACBu8kAAAAAAAM0EQQAAAACAq\\u002fVAAAAAANAOAkEAAAAAgHb4QAAAAAAAYvFAAAAAAODm+kAAAAAAAPbtQAAAAACgvQBBAAAAAMAx80AAAAAAUH4DQQAAAAAgxQVBAAAAAEB78kAAAAAAQBn6QAAAAAAgv\\u002fZAAAAAAJB\\u002fA0EAAAAAkP8AQQAAAACAPfpAAAAAAOAl80AAAAAAkGMBQQAAAABg4\\u002fFAAAAAABCgCEEAAAAAYMYAQQAAAADEHyJBAAAAAHAiDUEAAAAAAEUKQQAAAAAgzQxBAAAAAPDJA0EBAAAAsHsPQQAAAACAWBNBAAAAAGAsDkEAAAAAcFQIQQAAAAAwcQ1BAAAAACAiCEEAAAAAoAICQQAAAADwJANBAAAAAMAmBEEAAAAAkOIJQQAAAAAANPxAAAAAABCXAkEAAAAAkDYBQQAAAAAAWQVBAAAAAKCQAEEAAAAAELgJQQAAAACA9gVBAAAAACCrEUEAAAAA4AwTQQAAAABYnBBBAAAAABCRDUEAAAAAMJ0EQQAAAABQkwxBAAAAALCmR0EAAAAAMN9IQQAAAACYhk1BAAAAADi6R0EAAAAAMN9IQQAAAACU4FxBAAAAAE6HYUEAAAAAADj9QAAAAAAIDxtBAAAAACDM+EAAAAAAQJgDQf\\u002f\\u002f\\u002f\\u002f\\u002ffX\\u002f9AAAAAAIAa\\u002f0A=\"},\"type\":\"scatter\"}],                        {\"template\":{\"data\":{\"barpolar\":[{\"marker\":{\"line\":{\"color\":\"#E5ECF6\",\"width\":0.5},\"pattern\":{\"fillmode\":\"overlay\",\"size\":10,\"solidity\":0.2}},\"type\":\"barpolar\"}],\"bar\":[{\"error_x\":{\"color\":\"#2a3f5f\"},\"error_y\":{\"color\":\"#2a3f5f\"},\"marker\":{\"line\":{\"color\":\"#E5ECF6\",\"width\":0.5},\"pattern\":{\"fillmode\":\"overlay\",\"size\":10,\"solidity\":0.2}},\"type\":\"bar\"}],\"carpet\":[{\"aaxis\":{\"endlinecolor\":\"#2a3f5f\",\"gridcolor\":\"white\",\"linecolor\":\"white\",\"minorgridcolor\":\"white\",\"startlinecolor\":\"#2a3f5f\"},\"baxis\":{\"endlinecolor\":\"#2a3f5f\",\"gridcolor\":\"white\",\"linecolor\":\"white\",\"minorgridcolor\":\"white\",\"startlinecolor\":\"#2a3f5f\"},\"type\":\"carpet\"}],\"choropleth\":[{\"colorbar\":{\"outlinewidth\":0,\"ticks\":\"\"},\"type\":\"choropleth\"}],\"contourcarpet\":[{\"colorbar\":{\"outlinewidth\":0,\"ticks\":\"\"},\"type\":\"contourcarpet\"}],\"contour\":[{\"colorbar\":{\"outlinewidth\":0,\"ticks\":\"\"},\"colorscale\":[[0.0,\"#0d0887\"],[0.1111111111111111,\"#46039f\"],[0.2222222222222222,\"#7201a8\"],[0.3333333333333333,\"#9c179e\"],[0.4444444444444444,\"#bd3786\"],[0.5555555555555556,\"#d8576b\"],[0.6666666666666666,\"#ed7953\"],[0.7777777777777778,\"#fb9f3a\"],[0.8888888888888888,\"#fdca26\"],[1.0,\"#f0f921\"]],\"type\":\"contour\"}],\"heatmap\":[{\"colorbar\":{\"outlinewidth\":0,\"ticks\":\"\"},\"colorscale\":[[0.0,\"#0d0887\"],[0.1111111111111111,\"#46039f\"],[0.2222222222222222,\"#7201a8\"],[0.3333333333333333,\"#9c179e\"],[0.4444444444444444,\"#bd3786\"],[0.5555555555555556,\"#d8576b\"],[0.6666666666666666,\"#ed7953\"],[0.7777777777777778,\"#fb9f3a\"],[0.8888888888888888,\"#fdca26\"],[1.0,\"#f0f921\"]],\"type\":\"heatmap\"}],\"histogram2dcontour\":[{\"colorbar\":{\"outlinewidth\":0,\"ticks\":\"\"},\"colorscale\":[[0.0,\"#0d0887\"],[0.1111111111111111,\"#46039f\"],[0.2222222222222222,\"#7201a8\"],[0.3333333333333333,\"#9c179e\"],[0.4444444444444444,\"#bd3786\"],[0.5555555555555556,\"#d8576b\"],[0.6666666666666666,\"#ed7953\"],[0.7777777777777778,\"#fb9f3a\"],[0.8888888888888888,\"#fdca26\"],[1.0,\"#f0f921\"]],\"type\":\"histogram2dcontour\"}],\"histogram2d\":[{\"colorbar\":{\"outlinewidth\":0,\"ticks\":\"\"},\"colorscale\":[[0.0,\"#0d0887\"],[0.1111111111111111,\"#46039f\"],[0.2222222222222222,\"#7201a8\"],[0.3333333333333333,\"#9c179e\"],[0.4444444444444444,\"#bd3786\"],[0.5555555555555556,\"#d8576b\"],[0.6666666666666666,\"#ed7953\"],[0.7777777777777778,\"#fb9f3a\"],[0.8888888888888888,\"#fdca26\"],[1.0,\"#f0f921\"]],\"type\":\"histogram2d\"}],\"histogram\":[{\"marker\":{\"pattern\":{\"fillmode\":\"overlay\",\"size\":10,\"solidity\":0.2}},\"type\":\"histogram\"}],\"mesh3d\":[{\"colorbar\":{\"outlinewidth\":0,\"ticks\":\"\"},\"type\":\"mesh3d\"}],\"parcoords\":[{\"line\":{\"colorbar\":{\"outlinewidth\":0,\"ticks\":\"\"}},\"type\":\"parcoords\"}],\"pie\":[{\"automargin\":true,\"type\":\"pie\"}],\"scatter3d\":[{\"line\":{\"colorbar\":{\"outlinewidth\":0,\"ticks\":\"\"}},\"marker\":{\"colorbar\":{\"outlinewidth\":0,\"ticks\":\"\"}},\"type\":\"scatter3d\"}],\"scattercarpet\":[{\"marker\":{\"colorbar\":{\"outlinewidth\":0,\"ticks\":\"\"}},\"type\":\"scattercarpet\"}],\"scattergeo\":[{\"marker\":{\"colorbar\":{\"outlinewidth\":0,\"ticks\":\"\"}},\"type\":\"scattergeo\"}],\"scattergl\":[{\"marker\":{\"colorbar\":{\"outlinewidth\":0,\"ticks\":\"\"}},\"type\":\"scattergl\"}],\"scattermapbox\":[{\"marker\":{\"colorbar\":{\"outlinewidth\":0,\"ticks\":\"\"}},\"type\":\"scattermapbox\"}],\"scattermap\":[{\"marker\":{\"colorbar\":{\"outlinewidth\":0,\"ticks\":\"\"}},\"type\":\"scattermap\"}],\"scatterpolargl\":[{\"marker\":{\"colorbar\":{\"outlinewidth\":0,\"ticks\":\"\"}},\"type\":\"scatterpolargl\"}],\"scatterpolar\":[{\"marker\":{\"colorbar\":{\"outlinewidth\":0,\"ticks\":\"\"}},\"type\":\"scatterpolar\"}],\"scatter\":[{\"fillpattern\":{\"fillmode\":\"overlay\",\"size\":10,\"solidity\":0.2},\"type\":\"scatter\"}],\"scatterternary\":[{\"marker\":{\"colorbar\":{\"outlinewidth\":0,\"ticks\":\"\"}},\"type\":\"scatterternary\"}],\"surface\":[{\"colorbar\":{\"outlinewidth\":0,\"ticks\":\"\"},\"colorscale\":[[0.0,\"#0d0887\"],[0.1111111111111111,\"#46039f\"],[0.2222222222222222,\"#7201a8\"],[0.3333333333333333,\"#9c179e\"],[0.4444444444444444,\"#bd3786\"],[0.5555555555555556,\"#d8576b\"],[0.6666666666666666,\"#ed7953\"],[0.7777777777777778,\"#fb9f3a\"],[0.8888888888888888,\"#fdca26\"],[1.0,\"#f0f921\"]],\"type\":\"surface\"}],\"table\":[{\"cells\":{\"fill\":{\"color\":\"#EBF0F8\"},\"line\":{\"color\":\"white\"}},\"header\":{\"fill\":{\"color\":\"#C8D4E3\"},\"line\":{\"color\":\"white\"}},\"type\":\"table\"}]},\"layout\":{\"annotationdefaults\":{\"arrowcolor\":\"#2a3f5f\",\"arrowhead\":0,\"arrowwidth\":1},\"autotypenumbers\":\"strict\",\"coloraxis\":{\"colorbar\":{\"outlinewidth\":0,\"ticks\":\"\"}},\"colorscale\":{\"diverging\":[[0,\"#8e0152\"],[0.1,\"#c51b7d\"],[0.2,\"#de77ae\"],[0.3,\"#f1b6da\"],[0.4,\"#fde0ef\"],[0.5,\"#f7f7f7\"],[0.6,\"#e6f5d0\"],[0.7,\"#b8e186\"],[0.8,\"#7fbc41\"],[0.9,\"#4d9221\"],[1,\"#276419\"]],\"sequential\":[[0.0,\"#0d0887\"],[0.1111111111111111,\"#46039f\"],[0.2222222222222222,\"#7201a8\"],[0.3333333333333333,\"#9c179e\"],[0.4444444444444444,\"#bd3786\"],[0.5555555555555556,\"#d8576b\"],[0.6666666666666666,\"#ed7953\"],[0.7777777777777778,\"#fb9f3a\"],[0.8888888888888888,\"#fdca26\"],[1.0,\"#f0f921\"]],\"sequentialminus\":[[0.0,\"#0d0887\"],[0.1111111111111111,\"#46039f\"],[0.2222222222222222,\"#7201a8\"],[0.3333333333333333,\"#9c179e\"],[0.4444444444444444,\"#bd3786\"],[0.5555555555555556,\"#d8576b\"],[0.6666666666666666,\"#ed7953\"],[0.7777777777777778,\"#fb9f3a\"],[0.8888888888888888,\"#fdca26\"],[1.0,\"#f0f921\"]]},\"colorway\":[\"#636efa\",\"#EF553B\",\"#00cc96\",\"#ab63fa\",\"#FFA15A\",\"#19d3f3\",\"#FF6692\",\"#B6E880\",\"#FF97FF\",\"#FECB52\"],\"font\":{\"color\":\"#2a3f5f\"},\"geo\":{\"bgcolor\":\"white\",\"lakecolor\":\"white\",\"landcolor\":\"#E5ECF6\",\"showlakes\":true,\"showland\":true,\"subunitcolor\":\"white\"},\"hoverlabel\":{\"align\":\"left\"},\"hovermode\":\"closest\",\"mapbox\":{\"style\":\"light\"},\"paper_bgcolor\":\"white\",\"plot_bgcolor\":\"#E5ECF6\",\"polar\":{\"angularaxis\":{\"gridcolor\":\"white\",\"linecolor\":\"white\",\"ticks\":\"\"},\"bgcolor\":\"#E5ECF6\",\"radialaxis\":{\"gridcolor\":\"white\",\"linecolor\":\"white\",\"ticks\":\"\"}},\"scene\":{\"xaxis\":{\"backgroundcolor\":\"#E5ECF6\",\"gridcolor\":\"white\",\"gridwidth\":2,\"linecolor\":\"white\",\"showbackground\":true,\"ticks\":\"\",\"zerolinecolor\":\"white\"},\"yaxis\":{\"backgroundcolor\":\"#E5ECF6\",\"gridcolor\":\"white\",\"gridwidth\":2,\"linecolor\":\"white\",\"showbackground\":true,\"ticks\":\"\",\"zerolinecolor\":\"white\"},\"zaxis\":{\"backgroundcolor\":\"#E5ECF6\",\"gridcolor\":\"white\",\"gridwidth\":2,\"linecolor\":\"white\",\"showbackground\":true,\"ticks\":\"\",\"zerolinecolor\":\"white\"}},\"shapedefaults\":{\"line\":{\"color\":\"#2a3f5f\"}},\"ternary\":{\"aaxis\":{\"gridcolor\":\"white\",\"linecolor\":\"white\",\"ticks\":\"\"},\"baxis\":{\"gridcolor\":\"white\",\"linecolor\":\"white\",\"ticks\":\"\"},\"bgcolor\":\"#E5ECF6\",\"caxis\":{\"gridcolor\":\"white\",\"linecolor\":\"white\",\"ticks\":\"\"}},\"title\":{\"x\":0.05},\"xaxis\":{\"automargin\":true,\"gridcolor\":\"white\",\"linecolor\":\"white\",\"ticks\":\"\",\"title\":{\"standoff\":15},\"zerolinecolor\":\"white\",\"zerolinewidth\":2},\"yaxis\":{\"automargin\":true,\"gridcolor\":\"white\",\"linecolor\":\"white\",\"ticks\":\"\",\"title\":{\"standoff\":15},\"zerolinecolor\":\"white\",\"zerolinewidth\":2}}},\"title\":{\"text\":\"Historical Bitcoin Volume (USD) (2015-2018) with the slider\"},\"xaxis\":{\"rangeselector\":{\"buttons\":[{\"count\":1,\"label\":\"1m\",\"step\":\"month\",\"stepmode\":\"backward\"},{\"count\":6,\"label\":\"6m\",\"step\":\"month\",\"stepmode\":\"backward\"},{\"count\":12,\"label\":\"1y\",\"step\":\"month\",\"stepmode\":\"backward\"},{\"count\":36,\"label\":\"3y\",\"step\":\"month\",\"stepmode\":\"backward\"},{\"step\":\"all\"}]},\"rangeslider\":{\"visible\":true},\"type\":\"date\"}},                        {\"responsive\": true}                    ).then(function(){\n",
       "                            \n",
       "var gd = document.getElementById('3480ddc8-4d2f-4fb6-a4d5-ddc56a37ff94');\n",
       "var x = new MutationObserver(function (mutations, observer) {{\n",
       "        var display = window.getComputedStyle(gd).display;\n",
       "        if (!display || display === 'none') {{\n",
       "            console.log([gd, 'removed!']);\n",
       "            Plotly.purge(gd);\n",
       "            observer.disconnect();\n",
       "        }}\n",
       "}});\n",
       "\n",
       "// Listen for the removal of the full notebook cells\n",
       "var notebookContainer = gd.closest('#notebook-container');\n",
       "if (notebookContainer) {{\n",
       "    x.observe(notebookContainer, {childList: true});\n",
       "}}\n",
       "\n",
       "// Listen for the clearing of the current output cell\n",
       "var outputEl = gd.closest('.output');\n",
       "if (outputEl) {{\n",
       "    x.observe(outputEl, {childList: true});\n",
       "}}\n",
       "\n",
       "                        })                };            </script>        </div>"
      ]
     },
     "metadata": {},
     "output_type": "display_data"
    }
   ],
   "source": [
    "import plotly.graph_objs as go\n",
    "from plotly.offline import init_notebook_mode, iplot\n",
    "\n",
    "# Khởi tạo chế độ notebook cho Plotly\n",
    "init_notebook_mode(connected=True)\n",
    "\n",
    "# Hàm chuyển đổi giá trị khối lượng\n",
    "def convert_volume(vol):\n",
    "    if 'K' in vol:\n",
    "        return float(vol.replace('K', '').replace(',', '').strip()) * 1000\n",
    "    elif 'M' in vol:\n",
    "        return float(vol.replace('M', '').replace(',', '').strip()) * 1_000_000\n",
    "    else:\n",
    "        return float(vol.replace(',', '').strip())\n",
    "\n",
    "# Chuyển đổi cột 'Vol.' từ dạng chuỗi sang float\n",
    "weekly_rows['Vol.'] = weekly_rows['Vol.'].apply(convert_volume)\n",
    "\n",
    "# Tạo các trace cho biểu đồ\n",
    "trace1 = go.Scatter(\n",
    "    x=weekly_rows['Date'],  # Sử dụng 'Date'\n",
    "    y=weekly_rows['Vol.'],  # Sử dụng cột đã chuyển đổi\n",
    "    mode='lines',\n",
    "    name='Bitcoin Volume (USD)'\n",
    ")\n",
    "\n",
    "# Thiết lập layout cho biểu đồ\n",
    "layout = dict(\n",
    "    title='Historical Bitcoin Volume (USD) (2015-2018) with the slider',\n",
    "    xaxis=dict(\n",
    "        rangeselector=dict(\n",
    "            buttons=list([\n",
    "                dict(count=1, label='1m', step='month', stepmode='backward'),\n",
    "                dict(count=6, label='6m', step='month', stepmode='backward'),\n",
    "                dict(count=12, label='1y', step='month', stepmode='backward'),\n",
    "                dict(count=36, label='3y', step='month', stepmode='backward'),\n",
    "                dict(step='all')\n",
    "            ])\n",
    "        ),\n",
    "        rangeslider=dict(visible=True),\n",
    "        type='date'\n",
    "    )\n",
    ")\n",
    "\n",
    "# Tạo biểu đồ\n",
    "data = [trace1]\n",
    "fig = dict(data=data, layout=layout)\n",
    "iplot(fig, filename=\"Time Series with Rangeslider\")"
   ]
  },
  {
   "cell_type": "code",
   "execution_count": 9,
   "metadata": {},
   "outputs": [
    {
     "name": "stdout",
     "output_type": "stream",
     "text": [
      "0     54.99K\n",
      "1     25.39K\n",
      "2     31.58K\n",
      "3    105.71K\n",
      "4     39.02K\n",
      "Name: Vol., dtype: object\n"
     ]
    }
   ],
   "source": [
    "print(weekly_rows['Vol.'].head())"
   ]
  },
  {
   "cell_type": "code",
   "execution_count": 14,
   "metadata": {},
   "outputs": [
    {
     "data": {
      "text/html": [
       "        <script type=\"text/javascript\">\n",
       "        window.PlotlyConfig = {MathJaxConfig: 'local'};\n",
       "        if (window.MathJax && window.MathJax.Hub && window.MathJax.Hub.Config) {window.MathJax.Hub.Config({SVG: {font: \"STIX-Web\"}});}\n",
       "        </script>\n",
       "        <script type=\"module\">import \"https://cdn.plot.ly/plotly-3.0.0.min\"</script>\n",
       "        "
      ]
     },
     "metadata": {},
     "output_type": "display_data"
    },
    {
     "ename": "ValueError",
     "evalue": "Invalid property specified for object of type plotly.graph_objs.layout.XAxis: 'titlefont'\n\nDid you mean \"tickfont\"?\n\n    Valid properties:\n        anchor\n            If set to an opposite-letter axis id (e.g. `x2`, `y`),\n            this axis is bound to the corresponding opposite-letter\n            axis. If set to \"free\", this axis' position is\n            determined by `position`.\n        automargin\n            Determines whether long tick labels automatically grow\n            the figure margins.\n        autorange\n            Determines whether or not the range of this axis is\n            computed in relation to the input data. See `rangemode`\n            for more info. If `range` is provided and it has a\n            value for both the lower and upper bound, `autorange`\n            is set to False. Using \"min\" applies autorange only to\n            set the minimum. Using \"max\" applies autorange only to\n            set the maximum. Using *min reversed* applies autorange\n            only to set the minimum on a reversed axis. Using *max\n            reversed* applies autorange only to set the maximum on\n            a reversed axis. Using \"reversed\" applies autorange on\n            both ends and reverses the axis direction.\n        autorangeoptions\n            :class:`plotly.graph_objects.layout.xaxis.Autorangeopti\n            ons` instance or dict with compatible properties\n        autotickangles\n            When `tickangle` is set to \"auto\", it will be set to\n            the first angle in this array that is large enough to\n            prevent label overlap.\n        autotypenumbers\n            Using \"strict\" a numeric string in trace data is not\n            converted to a number. Using *convert types* a numeric\n            string in trace data may be treated as a number during\n            automatic axis `type` detection. Defaults to\n            layout.autotypenumbers.\n        calendar\n            Sets the calendar system to use for `range` and `tick0`\n            if this is a date axis. This does not set the calendar\n            for interpreting data on this axis, that's specified in\n            the trace or via the global `layout.calendar`\n        categoryarray\n            Sets the order in which categories on this axis appear.\n            Only has an effect if `categoryorder` is set to\n            \"array\". Used with `categoryorder`.\n        categoryarraysrc\n            Sets the source reference on Chart Studio Cloud for\n            `categoryarray`.\n        categoryorder\n            Specifies the ordering logic for the case of\n            categorical variables. By default, plotly uses \"trace\",\n            which specifies the order that is present in the data\n            supplied. Set `categoryorder` to *category ascending*\n            or *category descending* if order should be determined\n            by the alphanumerical order of the category names. Set\n            `categoryorder` to \"array\" to derive the ordering from\n            the attribute `categoryarray`. If a category is not\n            found in the `categoryarray` array, the sorting\n            behavior for that attribute will be identical to the\n            \"trace\" mode. The unspecified categories will follow\n            the categories in `categoryarray`. Set `categoryorder`\n            to *total ascending* or *total descending* if order\n            should be determined by the numerical order of the\n            values. Similarly, the order can be determined by the\n            min, max, sum, mean, geometric mean or median of all\n            the values.\n        color\n            Sets default for all colors associated with this axis\n            all at once: line, font, tick, and grid colors. Grid\n            color is lightened by blending this with the plot\n            background Individual pieces can override this.\n        constrain\n            If this axis needs to be compressed (either due to its\n            own `scaleanchor` and `scaleratio` or those of the\n            other axis), determines how that happens: by increasing\n            the \"range\", or by decreasing the \"domain\". Default is\n            \"domain\" for axes containing image traces, \"range\"\n            otherwise.\n        constraintoward\n            If this axis needs to be compressed (either due to its\n            own `scaleanchor` and `scaleratio` or those of the\n            other axis), determines which direction we push the\n            originally specified plot area. Options are \"left\",\n            \"center\" (default), and \"right\" for x axes, and \"top\",\n            \"middle\" (default), and \"bottom\" for y axes.\n        dividercolor\n            Sets the color of the dividers Only has an effect on\n            \"multicategory\" axes.\n        dividerwidth\n            Sets the width (in px) of the dividers Only has an\n            effect on \"multicategory\" axes.\n        domain\n            Sets the domain of this axis (in plot fraction).\n        dtick\n            Sets the step in-between ticks on this axis. Use with\n            `tick0`. Must be a positive number, or special strings\n            available to \"log\" and \"date\" axes. If the axis `type`\n            is \"log\", then ticks are set every 10^(n*dtick) where n\n            is the tick number. For example, to set a tick mark at\n            1, 10, 100, 1000, ... set dtick to 1. To set tick marks\n            at 1, 100, 10000, ... set dtick to 2. To set tick marks\n            at 1, 5, 25, 125, 625, 3125, ... set dtick to\n            log_10(5), or 0.69897000433. \"log\" has several special\n            values; \"L<f>\", where `f` is a positive number, gives\n            ticks linearly spaced in value (but not position). For\n            example `tick0` = 0.1, `dtick` = \"L0.5\" will put ticks\n            at 0.1, 0.6, 1.1, 1.6 etc. To show powers of 10 plus\n            small digits between, use \"D1\" (all digits) or \"D2\"\n            (only 2 and 5). `tick0` is ignored for \"D1\" and \"D2\".\n            If the axis `type` is \"date\", then you must convert the\n            time to milliseconds. For example, to set the interval\n            between ticks to one day, set `dtick` to 86400000.0.\n            \"date\" also has special values \"M<n>\" gives ticks\n            spaced by a number of months. `n` must be a positive\n            integer. To set ticks on the 15th of every third month,\n            set `tick0` to \"2000-01-15\" and `dtick` to \"M3\". To set\n            ticks every 4 years, set `dtick` to \"M48\"\n        exponentformat\n            Determines a formatting rule for the tick exponents.\n            For example, consider the number 1,000,000,000. If\n            \"none\", it appears as 1,000,000,000. If \"e\", 1e+9. If\n            \"E\", 1E+9. If \"power\", 1x10^9 (with 9 in a super\n            script). If \"SI\", 1G. If \"B\", 1B.\n        fixedrange\n            Determines whether or not this axis is zoom-able. If\n            true, then zoom is disabled.\n        gridcolor\n            Sets the color of the grid lines.\n        griddash\n            Sets the dash style of lines. Set to a dash type string\n            (\"solid\", \"dot\", \"dash\", \"longdash\", \"dashdot\", or\n            \"longdashdot\") or a dash length list in px (eg\n            \"5px,10px,2px,2px\").\n        gridwidth\n            Sets the width (in px) of the grid lines.\n        hoverformat\n            Sets the hover text formatting rule using d3 formatting\n            mini-languages which are very similar to those in\n            Python. For numbers, see:\n            https://github.com/d3/d3-format/tree/v1.4.5#d3-format.\n            And for dates see: https://github.com/d3/d3-time-\n            format/tree/v2.2.3#locale_format. We add two items to\n            d3's date formatter: \"%h\" for half of the year as a\n            decimal number as well as \"%{n}f\" for fractional\n            seconds with n digits. For example, *2016-10-13\n            09:15:23.456* with tickformat \"%H~%M~%S.%2f\" would\n            display \"09~15~23.46\"\n        insiderange\n            Could be used to set the desired inside range of this\n            axis (excluding the labels) when `ticklabelposition` of\n            the anchored axis has \"inside\". Not implemented for\n            axes with `type` \"log\". This would be ignored when\n            `range` is provided.\n        labelalias\n            Replacement text for specific tick or hover labels. For\n            example using {US: 'USA', CA: 'Canada'} changes US to\n            USA and CA to Canada. The labels we would have shown\n            must match the keys exactly, after adding any\n            tickprefix or ticksuffix. For negative numbers the\n            minus sign symbol used (U+2212) is wider than the\n            regular ascii dash. That means you need to use −1\n            instead of -1. labelalias can be used with any axis\n            type, and both keys (if needed) and values (if desired)\n            can include html-like tags or MathJax.\n        layer\n            Sets the layer on which this axis is displayed. If\n            *above traces*, this axis is displayed above all the\n            subplot's traces If *below traces*, this axis is\n            displayed below all the subplot's traces, but above the\n            grid lines. Useful when used together with scatter-like\n            traces with `cliponaxis` set to False to show markers\n            and/or text nodes above this axis.\n        linecolor\n            Sets the axis line color.\n        linewidth\n            Sets the width (in px) of the axis line.\n        matches\n            If set to another axis id (e.g. `x2`, `y`), the range\n            of this axis will match the range of the corresponding\n            axis in data-coordinates space. Moreover, matching axes\n            share auto-range values, category lists and histogram\n            auto-bins. Note that setting axes simultaneously in\n            both a `scaleanchor` and a `matches` constraint is\n            currently forbidden. Moreover, note that matching axes\n            must have the same `type`.\n        maxallowed\n            Determines the maximum range of this axis.\n        minallowed\n            Determines the minimum range of this axis.\n        minexponent\n            Hide SI prefix for 10^n if |n| is below this number.\n            This only has an effect when `tickformat` is \"SI\" or\n            \"B\".\n        minor\n            :class:`plotly.graph_objects.layout.xaxis.Minor`\n            instance or dict with compatible properties\n        mirror\n            Determines if the axis lines or/and ticks are mirrored\n            to the opposite side of the plotting area. If True, the\n            axis lines are mirrored. If \"ticks\", the axis lines and\n            ticks are mirrored. If False, mirroring is disable. If\n            \"all\", axis lines are mirrored on all shared-axes\n            subplots. If \"allticks\", axis lines and ticks are\n            mirrored on all shared-axes subplots.\n        nticks\n            Specifies the maximum number of ticks for the\n            particular axis. The actual number of ticks will be\n            chosen automatically to be less than or equal to\n            `nticks`. Has an effect only if `tickmode` is set to\n            \"auto\".\n        overlaying\n            If set a same-letter axis id, this axis is overlaid on\n            top of the corresponding same-letter axis, with traces\n            and axes visible for both axes. If False, this axis\n            does not overlay any same-letter axes. In this case,\n            for axes with overlapping domains only the highest-\n            numbered axis will be visible.\n        position\n            Sets the position of this axis in the plotting space\n            (in normalized coordinates). Only has an effect if\n            `anchor` is set to \"free\".\n        range\n            Sets the range of this axis. If the axis `type` is\n            \"log\", then you must take the log of your desired range\n            (e.g. to set the range from 1 to 100, set the range\n            from 0 to 2). If the axis `type` is \"date\", it should\n            be date strings, like date data, though Date objects\n            and unix milliseconds will be accepted and converted to\n            strings. If the axis `type` is \"category\", it should be\n            numbers, using the scale where each category is\n            assigned a serial number from zero in the order it\n            appears. Leaving either or both elements `null` impacts\n            the default `autorange`.\n        rangebreaks\n            A tuple of\n            :class:`plotly.graph_objects.layout.xaxis.Rangebreak`\n            instances or dicts with compatible properties\n        rangebreakdefaults\n            When used in a template (as\n            layout.template.layout.xaxis.rangebreakdefaults), sets\n            the default property values to use for elements of\n            layout.xaxis.rangebreaks\n        rangemode\n            If \"normal\", the range is computed in relation to the\n            extrema of the input data. If *tozero*`, the range\n            extends to 0, regardless of the input data If\n            \"nonnegative\", the range is non-negative, regardless of\n            the input data. Applies only to linear axes.\n        rangeselector\n            :class:`plotly.graph_objects.layout.xaxis.Rangeselector\n            ` instance or dict with compatible properties\n        rangeslider\n            :class:`plotly.graph_objects.layout.xaxis.Rangeslider`\n            instance or dict with compatible properties\n        scaleanchor\n            If set to another axis id (e.g. `x2`, `y`), the range\n            of this axis changes together with the range of the\n            corresponding axis such that the scale of pixels per\n            unit is in a constant ratio. Both axes are still\n            zoomable, but when you zoom one, the other will zoom\n            the same amount, keeping a fixed midpoint. `constrain`\n            and `constraintoward` determine how we enforce the\n            constraint. You can chain these, ie `yaxis:\n            {scaleanchor: *x*}, xaxis2: {scaleanchor: *y*}` but you\n            can only link axes of the same `type`. The linked axis\n            can have the opposite letter (to constrain the aspect\n            ratio) or the same letter (to match scales across\n            subplots). Loops (`yaxis: {scaleanchor: *x*}, xaxis:\n            {scaleanchor: *y*}` or longer) are redundant and the\n            last constraint encountered will be ignored to avoid\n            possible inconsistent constraints via `scaleratio`.\n            Note that setting axes simultaneously in both a\n            `scaleanchor` and a `matches` constraint is currently\n            forbidden. Setting `false` allows to remove a default\n            constraint (occasionally, you may need to prevent a\n            default `scaleanchor` constraint from being applied,\n            eg. when having an image trace `yaxis: {scaleanchor:\n            \"x\"}` is set automatically in order for pixels to be\n            rendered as squares, setting `yaxis: {scaleanchor:\n            false}` allows to remove the constraint).\n        scaleratio\n            If this axis is linked to another by `scaleanchor`,\n            this determines the pixel to unit scale ratio. For\n            example, if this value is 10, then every unit on this\n            axis spans 10 times the number of pixels as a unit on\n            the linked axis. Use this for example to create an\n            elevation profile where the vertical scale is\n            exaggerated a fixed amount with respect to the\n            horizontal.\n        separatethousands\n            If \"true\", even 4-digit integers are separated\n        showdividers\n            Determines whether or not a dividers are drawn between\n            the category levels of this axis. Only has an effect on\n            \"multicategory\" axes.\n        showexponent\n            If \"all\", all exponents are shown besides their\n            significands. If \"first\", only the exponent of the\n            first tick is shown. If \"last\", only the exponent of\n            the last tick is shown. If \"none\", no exponents appear.\n        showgrid\n            Determines whether or not grid lines are drawn. If\n            True, the grid lines are drawn at every tick mark.\n        showline\n            Determines whether or not a line bounding this axis is\n            drawn.\n        showspikes\n            Determines whether or not spikes (aka droplines) are\n            drawn for this axis. Note: This only takes affect when\n            hovermode = closest\n        showticklabels\n            Determines whether or not the tick labels are drawn.\n        showtickprefix\n            If \"all\", all tick labels are displayed with a prefix.\n            If \"first\", only the first tick is displayed with a\n            prefix. If \"last\", only the last tick is displayed with\n            a suffix. If \"none\", tick prefixes are hidden.\n        showticksuffix\n            Same as `showtickprefix` but for tick suffixes.\n        side\n            Determines whether a x (y) axis is positioned at the\n            \"bottom\" (\"left\") or \"top\" (\"right\") of the plotting\n            area.\n        spikecolor\n            Sets the spike color. If undefined, will use the series\n            color\n        spikedash\n            Sets the dash style of lines. Set to a dash type string\n            (\"solid\", \"dot\", \"dash\", \"longdash\", \"dashdot\", or\n            \"longdashdot\") or a dash length list in px (eg\n            \"5px,10px,2px,2px\").\n        spikemode\n            Determines the drawing mode for the spike line If\n            \"toaxis\", the line is drawn from the data point to the\n            axis the  series is plotted on. If \"across\", the line\n            is drawn across the entire plot area, and supercedes\n            \"toaxis\". If \"marker\", then a marker dot is drawn on\n            the axis the series is plotted on\n        spikesnap\n            Determines whether spikelines are stuck to the cursor\n            or to the closest datapoints.\n        spikethickness\n            Sets the width (in px) of the zero line.\n        tick0\n            Sets the placement of the first tick on this axis. Use\n            with `dtick`. If the axis `type` is \"log\", then you\n            must take the log of your starting tick (e.g. to set\n            the starting tick to 100, set the `tick0` to 2) except\n            when `dtick`=*L<f>* (see `dtick` for more info). If the\n            axis `type` is \"date\", it should be a date string, like\n            date data. If the axis `type` is \"category\", it should\n            be a number, using the scale where each category is\n            assigned a serial number from zero in the order it\n            appears.\n        tickangle\n            Sets the angle of the tick labels with respect to the\n            horizontal. For example, a `tickangle` of -90 draws the\n            tick labels vertically.\n        tickcolor\n            Sets the tick color.\n        tickfont\n            Sets the tick font.\n        tickformat\n            Sets the tick label formatting rule using d3 formatting\n            mini-languages which are very similar to those in\n            Python. For numbers, see:\n            https://github.com/d3/d3-format/tree/v1.4.5#d3-format.\n            And for dates see: https://github.com/d3/d3-time-\n            format/tree/v2.2.3#locale_format. We add two items to\n            d3's date formatter: \"%h\" for half of the year as a\n            decimal number as well as \"%{n}f\" for fractional\n            seconds with n digits. For example, *2016-10-13\n            09:15:23.456* with tickformat \"%H~%M~%S.%2f\" would\n            display \"09~15~23.46\"\n        tickformatstops\n            A tuple of :class:`plotly.graph_objects.layout.xaxis.Ti\n            ckformatstop` instances or dicts with compatible\n            properties\n        tickformatstopdefaults\n            When used in a template (as\n            layout.template.layout.xaxis.tickformatstopdefaults),\n            sets the default property values to use for elements of\n            layout.xaxis.tickformatstops\n        ticklabelindex\n            Only for axes with `type` \"date\" or \"linear\". Instead\n            of drawing the major tick label, draw the label for the\n            minor tick that is n positions away from the major\n            tick. E.g. to always draw the label for the minor tick\n            before each major tick, choose `ticklabelindex` -1.\n            This is useful for date axes with `ticklabelmode`\n            \"period\" if you want to label the period that ends with\n            each major tick instead of the period that begins\n            there.\n        ticklabelindexsrc\n            Sets the source reference on Chart Studio Cloud for\n            `ticklabelindex`.\n        ticklabelmode\n            Determines where tick labels are drawn with respect to\n            their corresponding ticks and grid lines. Only has an\n            effect for axes of `type` \"date\" When set to \"period\",\n            tick labels are drawn in the middle of the period\n            between ticks.\n        ticklabeloverflow\n            Determines how we handle tick labels that would\n            overflow either the graph div or the domain of the\n            axis. The default value for inside tick labels is *hide\n            past domain*. Otherwise on \"category\" and\n            \"multicategory\" axes the default is \"allow\". In other\n            cases the default is *hide past div*.\n        ticklabelposition\n            Determines where tick labels are drawn with respect to\n            the axis Please note that top or bottom has no effect\n            on x axes or when `ticklabelmode` is set to \"period\".\n            Similarly left or right has no effect on y axes or when\n            `ticklabelmode` is set to \"period\". Has no effect on\n            \"multicategory\" axes or when `tickson` is set to\n            \"boundaries\". When used on axes linked by `matches` or\n            `scaleanchor`, no extra padding for inside labels would\n            be added by autorange, so that the scales could match.\n        ticklabelshift\n            Shifts the tick labels by the specified number of\n            pixels in parallel to the axis. Positive values move\n            the labels in the positive direction of the axis.\n        ticklabelstandoff\n            Sets the standoff distance (in px) between the axis\n            tick labels and their default position. A positive\n            `ticklabelstandoff` moves the labels farther away from\n            the plot area if `ticklabelposition` is \"outside\", and\n            deeper into the plot area if `ticklabelposition` is\n            \"inside\". A negative `ticklabelstandoff` works in the\n            opposite direction, moving outside ticks towards the\n            plot area and inside ticks towards the outside. If the\n            negative value is large enough, inside ticks can even\n            end up outside and vice versa.\n        ticklabelstep\n            Sets the spacing between tick labels as compared to the\n            spacing between ticks. A value of 1 (default) means\n            each tick gets a label. A value of 2 means shows every\n            2nd label. A larger value n means only every nth tick\n            is labeled. `tick0` determines which labels are shown.\n            Not implemented for axes with `type` \"log\" or\n            \"multicategory\", or when `tickmode` is \"array\".\n        ticklen\n            Sets the tick length (in px).\n        tickmode\n            Sets the tick mode for this axis. If \"auto\", the number\n            of ticks is set via `nticks`. If \"linear\", the\n            placement of the ticks is determined by a starting\n            position `tick0` and a tick step `dtick` (\"linear\" is\n            the default value if `tick0` and `dtick` are provided).\n            If \"array\", the placement of the ticks is set via\n            `tickvals` and the tick text is `ticktext`. (\"array\" is\n            the default value if `tickvals` is provided). If\n            \"sync\", the number of ticks will sync with the\n            overlayed axis set by `overlaying` property.\n        tickprefix\n            Sets a tick label prefix.\n        ticks\n            Determines whether ticks are drawn or not. If \"\", this\n            axis' ticks are not drawn. If \"outside\" (\"inside\"),\n            this axis' are drawn outside (inside) the axis lines.\n        tickson\n            Determines where ticks and grid lines are drawn with\n            respect to their corresponding tick labels. Only has an\n            effect for axes of `type` \"category\" or\n            \"multicategory\". When set to \"boundaries\", ticks and\n            grid lines are drawn half a category to the left/bottom\n            of labels.\n        ticksuffix\n            Sets a tick label suffix.\n        ticktext\n            Sets the text displayed at the ticks position via\n            `tickvals`. Only has an effect if `tickmode` is set to\n            \"array\". Used with `tickvals`.\n        ticktextsrc\n            Sets the source reference on Chart Studio Cloud for\n            `ticktext`.\n        tickvals\n            Sets the values at which ticks on this axis appear.\n            Only has an effect if `tickmode` is set to \"array\".\n            Used with `ticktext`.\n        tickvalssrc\n            Sets the source reference on Chart Studio Cloud for\n            `tickvals`.\n        tickwidth\n            Sets the tick width (in px).\n        title\n            :class:`plotly.graph_objects.layout.xaxis.Title`\n            instance or dict with compatible properties\n        type\n            Sets the axis type. By default, plotly attempts to\n            determined the axis type by looking into the data of\n            the traces that referenced the axis in question.\n        uirevision\n            Controls persistence of user-driven changes in axis\n            `range`, `autorange`, and `title` if in `editable:\n            true` configuration. Defaults to `layout.uirevision`.\n        visible\n            A single toggle to hide the axis while preserving\n            interaction like dragging. Default is true when a\n            cheater plot is present on the axis, otherwise false\n        zeroline\n            Determines whether or not a line is drawn at along the\n            0 value of this axis. If True, the zero line is drawn\n            on top of the grid lines.\n        zerolinecolor\n            Sets the line color of the zero line.\n        zerolinewidth\n            Sets the width (in px) of the zero line.\n        \nDid you mean \"tickfont\"?\n\nBad property path:\ntitlefont\n^^^^^^^^^",
     "output_type": "error",
     "traceback": [
      "\u001b[1;31m---------------------------------------------------------------------------\u001b[0m",
      "\u001b[1;31mValueError\u001b[0m                                Traceback (most recent call last)",
      "Cell \u001b[1;32mIn[14], line 18\u001b[0m\n\u001b[0;32m      7\u001b[0m \u001b[38;5;66;03m# BTC Volume vs USD visualization\u001b[39;00m\n\u001b[0;32m      8\u001b[0m trace \u001b[38;5;241m=\u001b[39m go\u001b[38;5;241m.\u001b[39mScattergl(\n\u001b[0;32m      9\u001b[0m     y\u001b[38;5;241m=\u001b[39mweekly_rows[\u001b[38;5;124m'\u001b[39m\u001b[38;5;124mVol.\u001b[39m\u001b[38;5;124m'\u001b[39m]\u001b[38;5;241m.\u001b[39mastype(\u001b[38;5;28mfloat\u001b[39m),  \u001b[38;5;66;03m# Sử dụng 'Vol.' thay vì 'Volume_(BTC)'\u001b[39;00m\n\u001b[0;32m     10\u001b[0m     x\u001b[38;5;241m=\u001b[39mweekly_rows[\u001b[38;5;124m'\u001b[39m\u001b[38;5;124mPrice\u001b[39m\u001b[38;5;124m'\u001b[39m]\u001b[38;5;241m.\u001b[39mastype(\u001b[38;5;28mfloat\u001b[39m),  \u001b[38;5;66;03m# Sử dụng 'Price' thay vì 'Weighted_Price'\u001b[39;00m\n\u001b[1;32m   (...)\u001b[0m\n\u001b[0;32m     15\u001b[0m     )\n\u001b[0;32m     16\u001b[0m )\n\u001b[1;32m---> 18\u001b[0m layout \u001b[38;5;241m=\u001b[39m \u001b[43mgo\u001b[49m\u001b[38;5;241;43m.\u001b[39;49m\u001b[43mLayout\u001b[49m\u001b[43m(\u001b[49m\n\u001b[0;32m     19\u001b[0m \u001b[43m    \u001b[49m\u001b[43mtitle\u001b[49m\u001b[38;5;241;43m=\u001b[39;49m\u001b[38;5;124;43m'\u001b[39;49m\u001b[38;5;124;43mBTC Volume v/s USD\u001b[39;49m\u001b[38;5;124;43m'\u001b[39;49m\u001b[43m,\u001b[49m\n\u001b[0;32m     20\u001b[0m \u001b[43m    \u001b[49m\u001b[43mxaxis\u001b[49m\u001b[38;5;241;43m=\u001b[39;49m\u001b[38;5;28;43mdict\u001b[39;49m\u001b[43m(\u001b[49m\n\u001b[0;32m     21\u001b[0m \u001b[43m        \u001b[49m\u001b[43mtitle\u001b[49m\u001b[38;5;241;43m=\u001b[39;49m\u001b[38;5;124;43m'\u001b[39;49m\u001b[38;5;124;43mWeighted Price\u001b[39;49m\u001b[38;5;124;43m'\u001b[39;49m\u001b[43m,\u001b[49m\n\u001b[0;32m     22\u001b[0m \u001b[43m        \u001b[49m\u001b[43mtitlefont\u001b[49m\u001b[38;5;241;43m=\u001b[39;49m\u001b[38;5;28;43mdict\u001b[39;49m\u001b[43m(\u001b[49m\n\u001b[0;32m     23\u001b[0m \u001b[43m            \u001b[49m\u001b[43mfamily\u001b[49m\u001b[38;5;241;43m=\u001b[39;49m\u001b[38;5;124;43m'\u001b[39;49m\u001b[38;5;124;43mCourier New, monospace\u001b[39;49m\u001b[38;5;124;43m'\u001b[39;49m\u001b[43m,\u001b[49m\n\u001b[0;32m     24\u001b[0m \u001b[43m            \u001b[49m\u001b[43msize\u001b[49m\u001b[38;5;241;43m=\u001b[39;49m\u001b[38;5;241;43m18\u001b[39;49m\u001b[43m,\u001b[49m\n\u001b[0;32m     25\u001b[0m \u001b[43m            \u001b[49m\u001b[43mcolor\u001b[49m\u001b[38;5;241;43m=\u001b[39;49m\u001b[38;5;124;43m'\u001b[39;49m\u001b[38;5;124;43m#7f7f7f\u001b[39;49m\u001b[38;5;124;43m'\u001b[39;49m\n\u001b[0;32m     26\u001b[0m \u001b[43m        \u001b[49m\u001b[43m)\u001b[49m\u001b[43m,\u001b[49m\n\u001b[0;32m     27\u001b[0m \u001b[43m        \u001b[49m\u001b[43mtickfont\u001b[49m\u001b[38;5;241;43m=\u001b[39;49m\u001b[38;5;28;43mdict\u001b[39;49m\u001b[43m(\u001b[49m\u001b[43m  \u001b[49m\u001b[38;5;66;43;03m# Sử dụng tickfont cho nhãn trục\u001b[39;49;00m\n\u001b[0;32m     28\u001b[0m \u001b[43m            \u001b[49m\u001b[43mfamily\u001b[49m\u001b[38;5;241;43m=\u001b[39;49m\u001b[38;5;124;43m'\u001b[39;49m\u001b[38;5;124;43mCourier New, monospace\u001b[39;49m\u001b[38;5;124;43m'\u001b[39;49m\u001b[43m,\u001b[49m\n\u001b[0;32m     29\u001b[0m \u001b[43m            \u001b[49m\u001b[43msize\u001b[49m\u001b[38;5;241;43m=\u001b[39;49m\u001b[38;5;241;43m14\u001b[39;49m\u001b[43m,\u001b[49m\n\u001b[0;32m     30\u001b[0m \u001b[43m            \u001b[49m\u001b[43mcolor\u001b[49m\u001b[38;5;241;43m=\u001b[39;49m\u001b[38;5;124;43m'\u001b[39;49m\u001b[38;5;124;43m#7f7f7f\u001b[39;49m\u001b[38;5;124;43m'\u001b[39;49m\n\u001b[0;32m     31\u001b[0m \u001b[43m        \u001b[49m\u001b[43m)\u001b[49m\n\u001b[0;32m     32\u001b[0m \u001b[43m    \u001b[49m\u001b[43m)\u001b[49m\u001b[43m,\u001b[49m\n\u001b[0;32m     33\u001b[0m \u001b[43m    \u001b[49m\u001b[43myaxis\u001b[49m\u001b[38;5;241;43m=\u001b[39;49m\u001b[38;5;28;43mdict\u001b[39;49m\u001b[43m(\u001b[49m\n\u001b[0;32m     34\u001b[0m \u001b[43m        \u001b[49m\u001b[43mtitle\u001b[49m\u001b[38;5;241;43m=\u001b[39;49m\u001b[38;5;124;43m'\u001b[39;49m\u001b[38;5;124;43mVolume BTC\u001b[39;49m\u001b[38;5;124;43m'\u001b[39;49m\u001b[43m,\u001b[49m\n\u001b[0;32m     35\u001b[0m \u001b[43m        \u001b[49m\u001b[43mtitlefont\u001b[49m\u001b[38;5;241;43m=\u001b[39;49m\u001b[38;5;28;43mdict\u001b[39;49m\u001b[43m(\u001b[49m\n\u001b[0;32m     36\u001b[0m \u001b[43m            \u001b[49m\u001b[43mfamily\u001b[49m\u001b[38;5;241;43m=\u001b[39;49m\u001b[38;5;124;43m'\u001b[39;49m\u001b[38;5;124;43mCourier New, monospace\u001b[39;49m\u001b[38;5;124;43m'\u001b[39;49m\u001b[43m,\u001b[49m\n\u001b[0;32m     37\u001b[0m \u001b[43m            \u001b[49m\u001b[43msize\u001b[49m\u001b[38;5;241;43m=\u001b[39;49m\u001b[38;5;241;43m18\u001b[39;49m\u001b[43m,\u001b[49m\n\u001b[0;32m     38\u001b[0m \u001b[43m            \u001b[49m\u001b[43mcolor\u001b[49m\u001b[38;5;241;43m=\u001b[39;49m\u001b[38;5;124;43m'\u001b[39;49m\u001b[38;5;124;43m#7f7f7f\u001b[39;49m\u001b[38;5;124;43m'\u001b[39;49m\n\u001b[0;32m     39\u001b[0m \u001b[43m        \u001b[49m\u001b[43m)\u001b[49m\u001b[43m,\u001b[49m\n\u001b[0;32m     40\u001b[0m \u001b[43m        \u001b[49m\u001b[43mtickfont\u001b[49m\u001b[38;5;241;43m=\u001b[39;49m\u001b[38;5;28;43mdict\u001b[39;49m\u001b[43m(\u001b[49m\u001b[43m  \u001b[49m\u001b[38;5;66;43;03m# Sử dụng tickfont cho nhãn trục\u001b[39;49;00m\n\u001b[0;32m     41\u001b[0m \u001b[43m            \u001b[49m\u001b[43mfamily\u001b[49m\u001b[38;5;241;43m=\u001b[39;49m\u001b[38;5;124;43m'\u001b[39;49m\u001b[38;5;124;43mCourier New, monospace\u001b[39;49m\u001b[38;5;124;43m'\u001b[39;49m\u001b[43m,\u001b[49m\n\u001b[0;32m     42\u001b[0m \u001b[43m            \u001b[49m\u001b[43msize\u001b[49m\u001b[38;5;241;43m=\u001b[39;49m\u001b[38;5;241;43m14\u001b[39;49m\u001b[43m,\u001b[49m\n\u001b[0;32m     43\u001b[0m \u001b[43m            \u001b[49m\u001b[43mcolor\u001b[49m\u001b[38;5;241;43m=\u001b[39;49m\u001b[38;5;124;43m'\u001b[39;49m\u001b[38;5;124;43m#7f7f7f\u001b[39;49m\u001b[38;5;124;43m'\u001b[39;49m\n\u001b[0;32m     44\u001b[0m \u001b[43m        \u001b[49m\u001b[43m)\u001b[49m\n\u001b[0;32m     45\u001b[0m \u001b[43m    \u001b[49m\u001b[43m)\u001b[49m\n\u001b[0;32m     46\u001b[0m \u001b[43m)\u001b[49m\n\u001b[0;32m     48\u001b[0m \u001b[38;5;66;03m# Tạo biểu đồ\u001b[39;00m\n\u001b[0;32m     49\u001b[0m data \u001b[38;5;241m=\u001b[39m [trace]\n",
      "File \u001b[1;32mc:\\Users\\Admin\\AppData\\Local\\Programs\\Python\\Python310\\lib\\site-packages\\plotly\\graph_objs\\_layout.py:7188\u001b[0m, in \u001b[0;36mLayout.__init__\u001b[1;34m(self, arg, activeselection, activeshape, annotations, annotationdefaults, autosize, autotypenumbers, barcornerradius, bargap, bargroupgap, barmode, barnorm, boxgap, boxgroupgap, boxmode, calendar, clickmode, coloraxis, colorscale, colorway, computed, datarevision, dragmode, editrevision, extendfunnelareacolors, extendiciclecolors, extendpiecolors, extendsunburstcolors, extendtreemapcolors, font, funnelareacolorway, funnelgap, funnelgroupgap, funnelmode, geo, grid, height, hiddenlabels, hiddenlabelssrc, hidesources, hoverdistance, hoverlabel, hovermode, hoversubplots, iciclecolorway, images, imagedefaults, legend, map, mapbox, margin, meta, metasrc, minreducedheight, minreducedwidth, modebar, newselection, newshape, paper_bgcolor, piecolorway, plot_bgcolor, polar, scattergap, scattermode, scene, selectdirection, selectionrevision, selections, selectiondefaults, separators, shapes, shapedefaults, showlegend, sliders, sliderdefaults, smith, spikedistance, sunburstcolorway, template, ternary, title, transition, treemapcolorway, uirevision, uniformtext, updatemenus, updatemenudefaults, violingap, violingroupgap, violinmode, waterfallgap, waterfallgroupgap, waterfallmode, width, xaxis, yaxis, **kwargs)\u001b[0m\n\u001b[0;32m   7186\u001b[0m _v \u001b[38;5;241m=\u001b[39m xaxis \u001b[38;5;28;01mif\u001b[39;00m xaxis \u001b[38;5;129;01mis\u001b[39;00m \u001b[38;5;129;01mnot\u001b[39;00m \u001b[38;5;28;01mNone\u001b[39;00m \u001b[38;5;28;01melse\u001b[39;00m _v\n\u001b[0;32m   7187\u001b[0m \u001b[38;5;28;01mif\u001b[39;00m _v \u001b[38;5;129;01mis\u001b[39;00m \u001b[38;5;129;01mnot\u001b[39;00m \u001b[38;5;28;01mNone\u001b[39;00m:\n\u001b[1;32m-> 7188\u001b[0m     \u001b[38;5;28;43mself\u001b[39;49m\u001b[43m[\u001b[49m\u001b[38;5;124;43m\"\u001b[39;49m\u001b[38;5;124;43mxaxis\u001b[39;49m\u001b[38;5;124;43m\"\u001b[39;49m\u001b[43m]\u001b[49m \u001b[38;5;241m=\u001b[39m _v\n\u001b[0;32m   7189\u001b[0m _v \u001b[38;5;241m=\u001b[39m arg\u001b[38;5;241m.\u001b[39mpop(\u001b[38;5;124m\"\u001b[39m\u001b[38;5;124myaxis\u001b[39m\u001b[38;5;124m\"\u001b[39m, \u001b[38;5;28;01mNone\u001b[39;00m)\n\u001b[0;32m   7190\u001b[0m _v \u001b[38;5;241m=\u001b[39m yaxis \u001b[38;5;28;01mif\u001b[39;00m yaxis \u001b[38;5;129;01mis\u001b[39;00m \u001b[38;5;129;01mnot\u001b[39;00m \u001b[38;5;28;01mNone\u001b[39;00m \u001b[38;5;28;01melse\u001b[39;00m _v\n",
      "File \u001b[1;32mc:\\Users\\Admin\\AppData\\Local\\Programs\\Python\\Python310\\lib\\site-packages\\plotly\\basedatatypes.py:5898\u001b[0m, in \u001b[0;36mBaseLayoutType.__setitem__\u001b[1;34m(self, prop, value)\u001b[0m\n\u001b[0;32m   5895\u001b[0m match \u001b[38;5;241m=\u001b[39m \u001b[38;5;28mself\u001b[39m\u001b[38;5;241m.\u001b[39m_subplot_re_match(prop)\n\u001b[0;32m   5896\u001b[0m \u001b[38;5;28;01mif\u001b[39;00m match \u001b[38;5;129;01mis\u001b[39;00m \u001b[38;5;28;01mNone\u001b[39;00m:\n\u001b[0;32m   5897\u001b[0m     \u001b[38;5;66;03m# Set as ordinary property\u001b[39;00m\n\u001b[1;32m-> 5898\u001b[0m     \u001b[38;5;28;43msuper\u001b[39;49m\u001b[43m(\u001b[49m\u001b[43mBaseLayoutHierarchyType\u001b[49m\u001b[43m,\u001b[49m\u001b[43m \u001b[49m\u001b[38;5;28;43mself\u001b[39;49m\u001b[43m)\u001b[49m\u001b[38;5;241;43m.\u001b[39;49m\u001b[38;5;21;43m__setitem__\u001b[39;49m\u001b[43m(\u001b[49m\u001b[43mprop\u001b[49m\u001b[43m,\u001b[49m\u001b[43m \u001b[49m\u001b[43mvalue\u001b[49m\u001b[43m)\u001b[49m\n\u001b[0;32m   5899\u001b[0m \u001b[38;5;28;01melse\u001b[39;00m:\n\u001b[0;32m   5900\u001b[0m     \u001b[38;5;66;03m# Set as subplotid property\u001b[39;00m\n\u001b[0;32m   5901\u001b[0m     \u001b[38;5;28mself\u001b[39m\u001b[38;5;241m.\u001b[39m_set_subplotid_prop(prop, value)\n",
      "File \u001b[1;32mc:\\Users\\Admin\\AppData\\Local\\Programs\\Python\\Python310\\lib\\site-packages\\plotly\\basedatatypes.py:4852\u001b[0m, in \u001b[0;36mBasePlotlyType.__setitem__\u001b[1;34m(self, prop, value)\u001b[0m\n\u001b[0;32m   4850\u001b[0m \u001b[38;5;66;03m# ### Handle compound property ###\u001b[39;00m\n\u001b[0;32m   4851\u001b[0m \u001b[38;5;28;01mif\u001b[39;00m \u001b[38;5;28misinstance\u001b[39m(validator, CompoundValidator):\n\u001b[1;32m-> 4852\u001b[0m     \u001b[38;5;28;43mself\u001b[39;49m\u001b[38;5;241;43m.\u001b[39;49m\u001b[43m_set_compound_prop\u001b[49m\u001b[43m(\u001b[49m\u001b[43mprop\u001b[49m\u001b[43m,\u001b[49m\u001b[43m \u001b[49m\u001b[43mvalue\u001b[49m\u001b[43m)\u001b[49m\n\u001b[0;32m   4854\u001b[0m \u001b[38;5;66;03m# ### Handle compound array property ###\u001b[39;00m\n\u001b[0;32m   4855\u001b[0m \u001b[38;5;28;01melif\u001b[39;00m \u001b[38;5;28misinstance\u001b[39m(validator, (CompoundArrayValidator, BaseDataValidator)):\n",
      "File \u001b[1;32mc:\\Users\\Admin\\AppData\\Local\\Programs\\Python\\Python310\\lib\\site-packages\\plotly\\basedatatypes.py:5263\u001b[0m, in \u001b[0;36mBasePlotlyType._set_compound_prop\u001b[1;34m(self, prop, val)\u001b[0m\n\u001b[0;32m   5260\u001b[0m \u001b[38;5;66;03m# Import value\u001b[39;00m\n\u001b[0;32m   5261\u001b[0m \u001b[38;5;66;03m# ------------\u001b[39;00m\n\u001b[0;32m   5262\u001b[0m validator \u001b[38;5;241m=\u001b[39m \u001b[38;5;28mself\u001b[39m\u001b[38;5;241m.\u001b[39m_get_validator(prop)\n\u001b[1;32m-> 5263\u001b[0m val \u001b[38;5;241m=\u001b[39m \u001b[43mvalidator\u001b[49m\u001b[38;5;241;43m.\u001b[39;49m\u001b[43mvalidate_coerce\u001b[49m\u001b[43m(\u001b[49m\u001b[43mval\u001b[49m\u001b[43m,\u001b[49m\u001b[43m \u001b[49m\u001b[43mskip_invalid\u001b[49m\u001b[38;5;241;43m=\u001b[39;49m\u001b[38;5;28;43mself\u001b[39;49m\u001b[38;5;241;43m.\u001b[39;49m\u001b[43m_skip_invalid\u001b[49m\u001b[43m)\u001b[49m\n\u001b[0;32m   5265\u001b[0m \u001b[38;5;66;03m# Save deep copies of current and new states\u001b[39;00m\n\u001b[0;32m   5266\u001b[0m \u001b[38;5;66;03m# ------------------------------------------\u001b[39;00m\n\u001b[0;32m   5267\u001b[0m curr_val \u001b[38;5;241m=\u001b[39m \u001b[38;5;28mself\u001b[39m\u001b[38;5;241m.\u001b[39m_compound_props\u001b[38;5;241m.\u001b[39mget(prop, \u001b[38;5;28;01mNone\u001b[39;00m)\n",
      "File \u001b[1;32mc:\\Users\\Admin\\AppData\\Local\\Programs\\Python\\Python310\\lib\\site-packages\\_plotly_utils\\basevalidators.py:2504\u001b[0m, in \u001b[0;36mCompoundValidator.validate_coerce\u001b[1;34m(self, v, skip_invalid, _validate)\u001b[0m\n\u001b[0;32m   2501\u001b[0m     v \u001b[38;5;241m=\u001b[39m \u001b[38;5;28mself\u001b[39m\u001b[38;5;241m.\u001b[39mdata_class()\n\u001b[0;32m   2503\u001b[0m \u001b[38;5;28;01melif\u001b[39;00m \u001b[38;5;28misinstance\u001b[39m(v, \u001b[38;5;28mdict\u001b[39m):\n\u001b[1;32m-> 2504\u001b[0m     v \u001b[38;5;241m=\u001b[39m \u001b[38;5;28;43mself\u001b[39;49m\u001b[38;5;241;43m.\u001b[39;49m\u001b[43mdata_class\u001b[49m\u001b[43m(\u001b[49m\u001b[43mv\u001b[49m\u001b[43m,\u001b[49m\u001b[43m \u001b[49m\u001b[43mskip_invalid\u001b[49m\u001b[38;5;241;43m=\u001b[39;49m\u001b[43mskip_invalid\u001b[49m\u001b[43m,\u001b[49m\u001b[43m \u001b[49m\u001b[43m_validate\u001b[49m\u001b[38;5;241;43m=\u001b[39;49m\u001b[43m_validate\u001b[49m\u001b[43m)\u001b[49m\n\u001b[0;32m   2506\u001b[0m \u001b[38;5;28;01melif\u001b[39;00m \u001b[38;5;28misinstance\u001b[39m(v, \u001b[38;5;28mself\u001b[39m\u001b[38;5;241m.\u001b[39mdata_class):\n\u001b[0;32m   2507\u001b[0m     \u001b[38;5;66;03m# Copy object\u001b[39;00m\n\u001b[0;32m   2508\u001b[0m     v \u001b[38;5;241m=\u001b[39m \u001b[38;5;28mself\u001b[39m\u001b[38;5;241m.\u001b[39mdata_class(v)\n",
      "File \u001b[1;32mc:\\Users\\Admin\\AppData\\Local\\Programs\\Python\\Python310\\lib\\site-packages\\plotly\\graph_objs\\layout\\_xaxis.py:4493\u001b[0m, in \u001b[0;36mXAxis.__init__\u001b[1;34m(self, arg, anchor, automargin, autorange, autorangeoptions, autotickangles, autotypenumbers, calendar, categoryarray, categoryarraysrc, categoryorder, color, constrain, constraintoward, dividercolor, dividerwidth, domain, dtick, exponentformat, fixedrange, gridcolor, griddash, gridwidth, hoverformat, insiderange, labelalias, layer, linecolor, linewidth, matches, maxallowed, minallowed, minexponent, minor, mirror, nticks, overlaying, position, range, rangebreaks, rangebreakdefaults, rangemode, rangeselector, rangeslider, scaleanchor, scaleratio, separatethousands, showdividers, showexponent, showgrid, showline, showspikes, showticklabels, showtickprefix, showticksuffix, side, spikecolor, spikedash, spikemode, spikesnap, spikethickness, tick0, tickangle, tickcolor, tickfont, tickformat, tickformatstops, tickformatstopdefaults, ticklabelindex, ticklabelindexsrc, ticklabelmode, ticklabeloverflow, ticklabelposition, ticklabelshift, ticklabelstandoff, ticklabelstep, ticklen, tickmode, tickprefix, ticks, tickson, ticksuffix, ticktext, ticktextsrc, tickvals, tickvalssrc, tickwidth, title, type, uirevision, visible, zeroline, zerolinecolor, zerolinewidth, **kwargs)\u001b[0m\n\u001b[0;32m   4489\u001b[0m     \u001b[38;5;28mself\u001b[39m[\u001b[38;5;124m\"\u001b[39m\u001b[38;5;124mzerolinewidth\u001b[39m\u001b[38;5;124m\"\u001b[39m] \u001b[38;5;241m=\u001b[39m _v\n\u001b[0;32m   4491\u001b[0m \u001b[38;5;66;03m# Process unknown kwargs\u001b[39;00m\n\u001b[0;32m   4492\u001b[0m \u001b[38;5;66;03m# ----------------------\u001b[39;00m\n\u001b[1;32m-> 4493\u001b[0m \u001b[38;5;28mself\u001b[39m\u001b[38;5;241m.\u001b[39m_process_kwargs(\u001b[38;5;241m*\u001b[39m\u001b[38;5;241m*\u001b[39m\u001b[38;5;28mdict\u001b[39m(arg, \u001b[38;5;241m*\u001b[39m\u001b[38;5;241m*\u001b[39mkwargs))\n\u001b[0;32m   4495\u001b[0m \u001b[38;5;66;03m# Reset skip_invalid\u001b[39;00m\n\u001b[0;32m   4496\u001b[0m \u001b[38;5;66;03m# ------------------\u001b[39;00m\n\u001b[0;32m   4497\u001b[0m \u001b[38;5;28mself\u001b[39m\u001b[38;5;241m.\u001b[39m_skip_invalid \u001b[38;5;241m=\u001b[39m \u001b[38;5;28;01mFalse\u001b[39;00m\n",
      "File \u001b[1;32mc:\\Users\\Admin\\AppData\\Local\\Programs\\Python\\Python310\\lib\\site-packages\\plotly\\basedatatypes.py:4378\u001b[0m, in \u001b[0;36mBasePlotlyType._process_kwargs\u001b[1;34m(self, **kwargs)\u001b[0m\n\u001b[0;32m   4376\u001b[0m     \u001b[38;5;28mself\u001b[39m[k] \u001b[38;5;241m=\u001b[39m v\n\u001b[0;32m   4377\u001b[0m \u001b[38;5;28;01melif\u001b[39;00m \u001b[38;5;129;01mnot\u001b[39;00m \u001b[38;5;28mself\u001b[39m\u001b[38;5;241m.\u001b[39m_skip_invalid:\n\u001b[1;32m-> 4378\u001b[0m     \u001b[38;5;28;01mraise\u001b[39;00m err\n",
      "\u001b[1;31mValueError\u001b[0m: Invalid property specified for object of type plotly.graph_objs.layout.XAxis: 'titlefont'\n\nDid you mean \"tickfont\"?\n\n    Valid properties:\n        anchor\n            If set to an opposite-letter axis id (e.g. `x2`, `y`),\n            this axis is bound to the corresponding opposite-letter\n            axis. If set to \"free\", this axis' position is\n            determined by `position`.\n        automargin\n            Determines whether long tick labels automatically grow\n            the figure margins.\n        autorange\n            Determines whether or not the range of this axis is\n            computed in relation to the input data. See `rangemode`\n            for more info. If `range` is provided and it has a\n            value for both the lower and upper bound, `autorange`\n            is set to False. Using \"min\" applies autorange only to\n            set the minimum. Using \"max\" applies autorange only to\n            set the maximum. Using *min reversed* applies autorange\n            only to set the minimum on a reversed axis. Using *max\n            reversed* applies autorange only to set the maximum on\n            a reversed axis. Using \"reversed\" applies autorange on\n            both ends and reverses the axis direction.\n        autorangeoptions\n            :class:`plotly.graph_objects.layout.xaxis.Autorangeopti\n            ons` instance or dict with compatible properties\n        autotickangles\n            When `tickangle` is set to \"auto\", it will be set to\n            the first angle in this array that is large enough to\n            prevent label overlap.\n        autotypenumbers\n            Using \"strict\" a numeric string in trace data is not\n            converted to a number. Using *convert types* a numeric\n            string in trace data may be treated as a number during\n            automatic axis `type` detection. Defaults to\n            layout.autotypenumbers.\n        calendar\n            Sets the calendar system to use for `range` and `tick0`\n            if this is a date axis. This does not set the calendar\n            for interpreting data on this axis, that's specified in\n            the trace or via the global `layout.calendar`\n        categoryarray\n            Sets the order in which categories on this axis appear.\n            Only has an effect if `categoryorder` is set to\n            \"array\". Used with `categoryorder`.\n        categoryarraysrc\n            Sets the source reference on Chart Studio Cloud for\n            `categoryarray`.\n        categoryorder\n            Specifies the ordering logic for the case of\n            categorical variables. By default, plotly uses \"trace\",\n            which specifies the order that is present in the data\n            supplied. Set `categoryorder` to *category ascending*\n            or *category descending* if order should be determined\n            by the alphanumerical order of the category names. Set\n            `categoryorder` to \"array\" to derive the ordering from\n            the attribute `categoryarray`. If a category is not\n            found in the `categoryarray` array, the sorting\n            behavior for that attribute will be identical to the\n            \"trace\" mode. The unspecified categories will follow\n            the categories in `categoryarray`. Set `categoryorder`\n            to *total ascending* or *total descending* if order\n            should be determined by the numerical order of the\n            values. Similarly, the order can be determined by the\n            min, max, sum, mean, geometric mean or median of all\n            the values.\n        color\n            Sets default for all colors associated with this axis\n            all at once: line, font, tick, and grid colors. Grid\n            color is lightened by blending this with the plot\n            background Individual pieces can override this.\n        constrain\n            If this axis needs to be compressed (either due to its\n            own `scaleanchor` and `scaleratio` or those of the\n            other axis), determines how that happens: by increasing\n            the \"range\", or by decreasing the \"domain\". Default is\n            \"domain\" for axes containing image traces, \"range\"\n            otherwise.\n        constraintoward\n            If this axis needs to be compressed (either due to its\n            own `scaleanchor` and `scaleratio` or those of the\n            other axis), determines which direction we push the\n            originally specified plot area. Options are \"left\",\n            \"center\" (default), and \"right\" for x axes, and \"top\",\n            \"middle\" (default), and \"bottom\" for y axes.\n        dividercolor\n            Sets the color of the dividers Only has an effect on\n            \"multicategory\" axes.\n        dividerwidth\n            Sets the width (in px) of the dividers Only has an\n            effect on \"multicategory\" axes.\n        domain\n            Sets the domain of this axis (in plot fraction).\n        dtick\n            Sets the step in-between ticks on this axis. Use with\n            `tick0`. Must be a positive number, or special strings\n            available to \"log\" and \"date\" axes. If the axis `type`\n            is \"log\", then ticks are set every 10^(n*dtick) where n\n            is the tick number. For example, to set a tick mark at\n            1, 10, 100, 1000, ... set dtick to 1. To set tick marks\n            at 1, 100, 10000, ... set dtick to 2. To set tick marks\n            at 1, 5, 25, 125, 625, 3125, ... set dtick to\n            log_10(5), or 0.69897000433. \"log\" has several special\n            values; \"L<f>\", where `f` is a positive number, gives\n            ticks linearly spaced in value (but not position). For\n            example `tick0` = 0.1, `dtick` = \"L0.5\" will put ticks\n            at 0.1, 0.6, 1.1, 1.6 etc. To show powers of 10 plus\n            small digits between, use \"D1\" (all digits) or \"D2\"\n            (only 2 and 5). `tick0` is ignored for \"D1\" and \"D2\".\n            If the axis `type` is \"date\", then you must convert the\n            time to milliseconds. For example, to set the interval\n            between ticks to one day, set `dtick` to 86400000.0.\n            \"date\" also has special values \"M<n>\" gives ticks\n            spaced by a number of months. `n` must be a positive\n            integer. To set ticks on the 15th of every third month,\n            set `tick0` to \"2000-01-15\" and `dtick` to \"M3\". To set\n            ticks every 4 years, set `dtick` to \"M48\"\n        exponentformat\n            Determines a formatting rule for the tick exponents.\n            For example, consider the number 1,000,000,000. If\n            \"none\", it appears as 1,000,000,000. If \"e\", 1e+9. If\n            \"E\", 1E+9. If \"power\", 1x10^9 (with 9 in a super\n            script). If \"SI\", 1G. If \"B\", 1B.\n        fixedrange\n            Determines whether or not this axis is zoom-able. If\n            true, then zoom is disabled.\n        gridcolor\n            Sets the color of the grid lines.\n        griddash\n            Sets the dash style of lines. Set to a dash type string\n            (\"solid\", \"dot\", \"dash\", \"longdash\", \"dashdot\", or\n            \"longdashdot\") or a dash length list in px (eg\n            \"5px,10px,2px,2px\").\n        gridwidth\n            Sets the width (in px) of the grid lines.\n        hoverformat\n            Sets the hover text formatting rule using d3 formatting\n            mini-languages which are very similar to those in\n            Python. For numbers, see:\n            https://github.com/d3/d3-format/tree/v1.4.5#d3-format.\n            And for dates see: https://github.com/d3/d3-time-\n            format/tree/v2.2.3#locale_format. We add two items to\n            d3's date formatter: \"%h\" for half of the year as a\n            decimal number as well as \"%{n}f\" for fractional\n            seconds with n digits. For example, *2016-10-13\n            09:15:23.456* with tickformat \"%H~%M~%S.%2f\" would\n            display \"09~15~23.46\"\n        insiderange\n            Could be used to set the desired inside range of this\n            axis (excluding the labels) when `ticklabelposition` of\n            the anchored axis has \"inside\". Not implemented for\n            axes with `type` \"log\". This would be ignored when\n            `range` is provided.\n        labelalias\n            Replacement text for specific tick or hover labels. For\n            example using {US: 'USA', CA: 'Canada'} changes US to\n            USA and CA to Canada. The labels we would have shown\n            must match the keys exactly, after adding any\n            tickprefix or ticksuffix. For negative numbers the\n            minus sign symbol used (U+2212) is wider than the\n            regular ascii dash. That means you need to use −1\n            instead of -1. labelalias can be used with any axis\n            type, and both keys (if needed) and values (if desired)\n            can include html-like tags or MathJax.\n        layer\n            Sets the layer on which this axis is displayed. If\n            *above traces*, this axis is displayed above all the\n            subplot's traces If *below traces*, this axis is\n            displayed below all the subplot's traces, but above the\n            grid lines. Useful when used together with scatter-like\n            traces with `cliponaxis` set to False to show markers\n            and/or text nodes above this axis.\n        linecolor\n            Sets the axis line color.\n        linewidth\n            Sets the width (in px) of the axis line.\n        matches\n            If set to another axis id (e.g. `x2`, `y`), the range\n            of this axis will match the range of the corresponding\n            axis in data-coordinates space. Moreover, matching axes\n            share auto-range values, category lists and histogram\n            auto-bins. Note that setting axes simultaneously in\n            both a `scaleanchor` and a `matches` constraint is\n            currently forbidden. Moreover, note that matching axes\n            must have the same `type`.\n        maxallowed\n            Determines the maximum range of this axis.\n        minallowed\n            Determines the minimum range of this axis.\n        minexponent\n            Hide SI prefix for 10^n if |n| is below this number.\n            This only has an effect when `tickformat` is \"SI\" or\n            \"B\".\n        minor\n            :class:`plotly.graph_objects.layout.xaxis.Minor`\n            instance or dict with compatible properties\n        mirror\n            Determines if the axis lines or/and ticks are mirrored\n            to the opposite side of the plotting area. If True, the\n            axis lines are mirrored. If \"ticks\", the axis lines and\n            ticks are mirrored. If False, mirroring is disable. If\n            \"all\", axis lines are mirrored on all shared-axes\n            subplots. If \"allticks\", axis lines and ticks are\n            mirrored on all shared-axes subplots.\n        nticks\n            Specifies the maximum number of ticks for the\n            particular axis. The actual number of ticks will be\n            chosen automatically to be less than or equal to\n            `nticks`. Has an effect only if `tickmode` is set to\n            \"auto\".\n        overlaying\n            If set a same-letter axis id, this axis is overlaid on\n            top of the corresponding same-letter axis, with traces\n            and axes visible for both axes. If False, this axis\n            does not overlay any same-letter axes. In this case,\n            for axes with overlapping domains only the highest-\n            numbered axis will be visible.\n        position\n            Sets the position of this axis in the plotting space\n            (in normalized coordinates). Only has an effect if\n            `anchor` is set to \"free\".\n        range\n            Sets the range of this axis. If the axis `type` is\n            \"log\", then you must take the log of your desired range\n            (e.g. to set the range from 1 to 100, set the range\n            from 0 to 2). If the axis `type` is \"date\", it should\n            be date strings, like date data, though Date objects\n            and unix milliseconds will be accepted and converted to\n            strings. If the axis `type` is \"category\", it should be\n            numbers, using the scale where each category is\n            assigned a serial number from zero in the order it\n            appears. Leaving either or both elements `null` impacts\n            the default `autorange`.\n        rangebreaks\n            A tuple of\n            :class:`plotly.graph_objects.layout.xaxis.Rangebreak`\n            instances or dicts with compatible properties\n        rangebreakdefaults\n            When used in a template (as\n            layout.template.layout.xaxis.rangebreakdefaults), sets\n            the default property values to use for elements of\n            layout.xaxis.rangebreaks\n        rangemode\n            If \"normal\", the range is computed in relation to the\n            extrema of the input data. If *tozero*`, the range\n            extends to 0, regardless of the input data If\n            \"nonnegative\", the range is non-negative, regardless of\n            the input data. Applies only to linear axes.\n        rangeselector\n            :class:`plotly.graph_objects.layout.xaxis.Rangeselector\n            ` instance or dict with compatible properties\n        rangeslider\n            :class:`plotly.graph_objects.layout.xaxis.Rangeslider`\n            instance or dict with compatible properties\n        scaleanchor\n            If set to another axis id (e.g. `x2`, `y`), the range\n            of this axis changes together with the range of the\n            corresponding axis such that the scale of pixels per\n            unit is in a constant ratio. Both axes are still\n            zoomable, but when you zoom one, the other will zoom\n            the same amount, keeping a fixed midpoint. `constrain`\n            and `constraintoward` determine how we enforce the\n            constraint. You can chain these, ie `yaxis:\n            {scaleanchor: *x*}, xaxis2: {scaleanchor: *y*}` but you\n            can only link axes of the same `type`. The linked axis\n            can have the opposite letter (to constrain the aspect\n            ratio) or the same letter (to match scales across\n            subplots). Loops (`yaxis: {scaleanchor: *x*}, xaxis:\n            {scaleanchor: *y*}` or longer) are redundant and the\n            last constraint encountered will be ignored to avoid\n            possible inconsistent constraints via `scaleratio`.\n            Note that setting axes simultaneously in both a\n            `scaleanchor` and a `matches` constraint is currently\n            forbidden. Setting `false` allows to remove a default\n            constraint (occasionally, you may need to prevent a\n            default `scaleanchor` constraint from being applied,\n            eg. when having an image trace `yaxis: {scaleanchor:\n            \"x\"}` is set automatically in order for pixels to be\n            rendered as squares, setting `yaxis: {scaleanchor:\n            false}` allows to remove the constraint).\n        scaleratio\n            If this axis is linked to another by `scaleanchor`,\n            this determines the pixel to unit scale ratio. For\n            example, if this value is 10, then every unit on this\n            axis spans 10 times the number of pixels as a unit on\n            the linked axis. Use this for example to create an\n            elevation profile where the vertical scale is\n            exaggerated a fixed amount with respect to the\n            horizontal.\n        separatethousands\n            If \"true\", even 4-digit integers are separated\n        showdividers\n            Determines whether or not a dividers are drawn between\n            the category levels of this axis. Only has an effect on\n            \"multicategory\" axes.\n        showexponent\n            If \"all\", all exponents are shown besides their\n            significands. If \"first\", only the exponent of the\n            first tick is shown. If \"last\", only the exponent of\n            the last tick is shown. If \"none\", no exponents appear.\n        showgrid\n            Determines whether or not grid lines are drawn. If\n            True, the grid lines are drawn at every tick mark.\n        showline\n            Determines whether or not a line bounding this axis is\n            drawn.\n        showspikes\n            Determines whether or not spikes (aka droplines) are\n            drawn for this axis. Note: This only takes affect when\n            hovermode = closest\n        showticklabels\n            Determines whether or not the tick labels are drawn.\n        showtickprefix\n            If \"all\", all tick labels are displayed with a prefix.\n            If \"first\", only the first tick is displayed with a\n            prefix. If \"last\", only the last tick is displayed with\n            a suffix. If \"none\", tick prefixes are hidden.\n        showticksuffix\n            Same as `showtickprefix` but for tick suffixes.\n        side\n            Determines whether a x (y) axis is positioned at the\n            \"bottom\" (\"left\") or \"top\" (\"right\") of the plotting\n            area.\n        spikecolor\n            Sets the spike color. If undefined, will use the series\n            color\n        spikedash\n            Sets the dash style of lines. Set to a dash type string\n            (\"solid\", \"dot\", \"dash\", \"longdash\", \"dashdot\", or\n            \"longdashdot\") or a dash length list in px (eg\n            \"5px,10px,2px,2px\").\n        spikemode\n            Determines the drawing mode for the spike line If\n            \"toaxis\", the line is drawn from the data point to the\n            axis the  series is plotted on. If \"across\", the line\n            is drawn across the entire plot area, and supercedes\n            \"toaxis\". If \"marker\", then a marker dot is drawn on\n            the axis the series is plotted on\n        spikesnap\n            Determines whether spikelines are stuck to the cursor\n            or to the closest datapoints.\n        spikethickness\n            Sets the width (in px) of the zero line.\n        tick0\n            Sets the placement of the first tick on this axis. Use\n            with `dtick`. If the axis `type` is \"log\", then you\n            must take the log of your starting tick (e.g. to set\n            the starting tick to 100, set the `tick0` to 2) except\n            when `dtick`=*L<f>* (see `dtick` for more info). If the\n            axis `type` is \"date\", it should be a date string, like\n            date data. If the axis `type` is \"category\", it should\n            be a number, using the scale where each category is\n            assigned a serial number from zero in the order it\n            appears.\n        tickangle\n            Sets the angle of the tick labels with respect to the\n            horizontal. For example, a `tickangle` of -90 draws the\n            tick labels vertically.\n        tickcolor\n            Sets the tick color.\n        tickfont\n            Sets the tick font.\n        tickformat\n            Sets the tick label formatting rule using d3 formatting\n            mini-languages which are very similar to those in\n            Python. For numbers, see:\n            https://github.com/d3/d3-format/tree/v1.4.5#d3-format.\n            And for dates see: https://github.com/d3/d3-time-\n            format/tree/v2.2.3#locale_format. We add two items to\n            d3's date formatter: \"%h\" for half of the year as a\n            decimal number as well as \"%{n}f\" for fractional\n            seconds with n digits. For example, *2016-10-13\n            09:15:23.456* with tickformat \"%H~%M~%S.%2f\" would\n            display \"09~15~23.46\"\n        tickformatstops\n            A tuple of :class:`plotly.graph_objects.layout.xaxis.Ti\n            ckformatstop` instances or dicts with compatible\n            properties\n        tickformatstopdefaults\n            When used in a template (as\n            layout.template.layout.xaxis.tickformatstopdefaults),\n            sets the default property values to use for elements of\n            layout.xaxis.tickformatstops\n        ticklabelindex\n            Only for axes with `type` \"date\" or \"linear\". Instead\n            of drawing the major tick label, draw the label for the\n            minor tick that is n positions away from the major\n            tick. E.g. to always draw the label for the minor tick\n            before each major tick, choose `ticklabelindex` -1.\n            This is useful for date axes with `ticklabelmode`\n            \"period\" if you want to label the period that ends with\n            each major tick instead of the period that begins\n            there.\n        ticklabelindexsrc\n            Sets the source reference on Chart Studio Cloud for\n            `ticklabelindex`.\n        ticklabelmode\n            Determines where tick labels are drawn with respect to\n            their corresponding ticks and grid lines. Only has an\n            effect for axes of `type` \"date\" When set to \"period\",\n            tick labels are drawn in the middle of the period\n            between ticks.\n        ticklabeloverflow\n            Determines how we handle tick labels that would\n            overflow either the graph div or the domain of the\n            axis. The default value for inside tick labels is *hide\n            past domain*. Otherwise on \"category\" and\n            \"multicategory\" axes the default is \"allow\". In other\n            cases the default is *hide past div*.\n        ticklabelposition\n            Determines where tick labels are drawn with respect to\n            the axis Please note that top or bottom has no effect\n            on x axes or when `ticklabelmode` is set to \"period\".\n            Similarly left or right has no effect on y axes or when\n            `ticklabelmode` is set to \"period\". Has no effect on\n            \"multicategory\" axes or when `tickson` is set to\n            \"boundaries\". When used on axes linked by `matches` or\n            `scaleanchor`, no extra padding for inside labels would\n            be added by autorange, so that the scales could match.\n        ticklabelshift\n            Shifts the tick labels by the specified number of\n            pixels in parallel to the axis. Positive values move\n            the labels in the positive direction of the axis.\n        ticklabelstandoff\n            Sets the standoff distance (in px) between the axis\n            tick labels and their default position. A positive\n            `ticklabelstandoff` moves the labels farther away from\n            the plot area if `ticklabelposition` is \"outside\", and\n            deeper into the plot area if `ticklabelposition` is\n            \"inside\". A negative `ticklabelstandoff` works in the\n            opposite direction, moving outside ticks towards the\n            plot area and inside ticks towards the outside. If the\n            negative value is large enough, inside ticks can even\n            end up outside and vice versa.\n        ticklabelstep\n            Sets the spacing between tick labels as compared to the\n            spacing between ticks. A value of 1 (default) means\n            each tick gets a label. A value of 2 means shows every\n            2nd label. A larger value n means only every nth tick\n            is labeled. `tick0` determines which labels are shown.\n            Not implemented for axes with `type` \"log\" or\n            \"multicategory\", or when `tickmode` is \"array\".\n        ticklen\n            Sets the tick length (in px).\n        tickmode\n            Sets the tick mode for this axis. If \"auto\", the number\n            of ticks is set via `nticks`. If \"linear\", the\n            placement of the ticks is determined by a starting\n            position `tick0` and a tick step `dtick` (\"linear\" is\n            the default value if `tick0` and `dtick` are provided).\n            If \"array\", the placement of the ticks is set via\n            `tickvals` and the tick text is `ticktext`. (\"array\" is\n            the default value if `tickvals` is provided). If\n            \"sync\", the number of ticks will sync with the\n            overlayed axis set by `overlaying` property.\n        tickprefix\n            Sets a tick label prefix.\n        ticks\n            Determines whether ticks are drawn or not. If \"\", this\n            axis' ticks are not drawn. If \"outside\" (\"inside\"),\n            this axis' are drawn outside (inside) the axis lines.\n        tickson\n            Determines where ticks and grid lines are drawn with\n            respect to their corresponding tick labels. Only has an\n            effect for axes of `type` \"category\" or\n            \"multicategory\". When set to \"boundaries\", ticks and\n            grid lines are drawn half a category to the left/bottom\n            of labels.\n        ticksuffix\n            Sets a tick label suffix.\n        ticktext\n            Sets the text displayed at the ticks position via\n            `tickvals`. Only has an effect if `tickmode` is set to\n            \"array\". Used with `tickvals`.\n        ticktextsrc\n            Sets the source reference on Chart Studio Cloud for\n            `ticktext`.\n        tickvals\n            Sets the values at which ticks on this axis appear.\n            Only has an effect if `tickmode` is set to \"array\".\n            Used with `ticktext`.\n        tickvalssrc\n            Sets the source reference on Chart Studio Cloud for\n            `tickvals`.\n        tickwidth\n            Sets the tick width (in px).\n        title\n            :class:`plotly.graph_objects.layout.xaxis.Title`\n            instance or dict with compatible properties\n        type\n            Sets the axis type. By default, plotly attempts to\n            determined the axis type by looking into the data of\n            the traces that referenced the axis in question.\n        uirevision\n            Controls persistence of user-driven changes in axis\n            `range`, `autorange`, and `title` if in `editable:\n            true` configuration. Defaults to `layout.uirevision`.\n        visible\n            A single toggle to hide the axis while preserving\n            interaction like dragging. Default is true when a\n            cheater plot is present on the axis, otherwise false\n        zeroline\n            Determines whether or not a line is drawn at along the\n            0 value of this axis. If True, the zero line is drawn\n            on top of the grid lines.\n        zerolinecolor\n            Sets the line color of the zero line.\n        zerolinewidth\n            Sets the width (in px) of the zero line.\n        \nDid you mean \"tickfont\"?\n\nBad property path:\ntitlefont\n^^^^^^^^^"
     ]
    }
   ],
   "source": [
    "import plotly.graph_objs as go\n",
    "from plotly.offline import init_notebook_mode, iplot\n",
    "\n",
    "# Khởi tạo chế độ notebook cho Plotly\n",
    "init_notebook_mode(connected=True)\n",
    "\n",
    "# BTC Volume vs USD visualization\n",
    "trace = go.Scattergl(\n",
    "    y=weekly_rows['Vol.'].astype(float),  # Sử dụng 'Vol.' thay vì 'Volume_(BTC)'\n",
    "    x=weekly_rows['Price'].astype(float),  # Sử dụng 'Price' thay vì 'Weighted_Price'\n",
    "    mode='markers',\n",
    "    marker=dict(\n",
    "        color='#FFBAD2',\n",
    "        line=dict(width=1)\n",
    "    )\n",
    ")\n",
    "\n",
    "layout = go.Layout(\n",
    "    title='BTC Volume v/s USD',\n",
    "    xaxis=dict(\n",
    "        title='Weighted Price',\n",
    "        tickfont=dict(  # Sử dụng tickfont cho nhãn trục\n",
    "            family='Courier New, monospace',\n",
    "            size=14,\n",
    "            color='#7f7f7f'\n",
    "        )\n",
    "    ),\n",
    "    yaxis=dict(\n",
    "        title='Volume BTC',\n",
    "        tickfont=dict(  # Sử dụng tickfont cho nhãn trục\n",
    "            family='Courier New, monospace',\n",
    "            size=14,\n",
    "            color='#7f7f7f'\n",
    "        )\n",
    "    )\n",
    ")\n",
    "\n",
    "# Tạo biểu đồ\n",
    "data = [trace]\n",
    "fig = go.Figure(data=data, layout=layout)\n",
    "iplot(fig, filename='compare_webgl')"
   ]
  }
 ],
 "metadata": {
  "kernelspec": {
   "display_name": "Python 3",
   "language": "python",
   "name": "python3"
  },
  "language_info": {
   "codemirror_mode": {
    "name": "ipython",
    "version": 3
   },
   "file_extension": ".py",
   "mimetype": "text/x-python",
   "name": "python",
   "nbconvert_exporter": "python",
   "pygments_lexer": "ipython3",
   "version": "3.10.6"
  }
 },
 "nbformat": 4,
 "nbformat_minor": 2
}
